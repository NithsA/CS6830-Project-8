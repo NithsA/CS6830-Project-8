{
  "nbformat": 4,
  "nbformat_minor": 0,
  "metadata": {
    "colab": {
      "provenance": []
    },
    "kernelspec": {
      "name": "python3",
      "display_name": "Python 3"
    },
    "language_info": {
      "name": "python"
    }
  },
  "cells": [
    {
      "cell_type": "code",
      "execution_count": 1,
      "metadata": {
        "id": "fa8w6sqBBSx6"
      },
      "outputs": [],
      "source": [
        "import pandas as pd\n",
        "from sklearn.tree import DecisionTreeClassifier\n",
        "from sklearn.model_selection import train_test_split\n",
        "from sklearn.metrics import accuracy_score\n",
        "from sklearn.preprocessing import OrdinalEncoder\n",
        "from graphviz import Source\n",
        "from sklearn.tree import export_graphviz\n",
        "from IPython.display import SVG\n",
        "import matplotlib.pyplot as plt\n",
        "from sklearn import tree\n",
        "from sklearn.metrics import precision_recall_fscore_support\n",
        "from sklearn.metrics import confusion_matrix\n",
        "import seaborn as sns\n",
        "from sklearn.preprocessing import StandardScaler\n",
        "from sklearn.neural_network import MLPClassifier\n",
        "from sklearn.metrics import classification_report,confusion_matrix\n",
        "from sklearn.model_selection import GridSearchCV\n",
        "import warnings\n",
        "warnings.simplefilter('ignore')"
      ]
    },
    {
      "cell_type": "code",
      "source": [
        "cars = pd.read_csv('car_evaluation.csv')\n",
        "cars"
      ],
      "metadata": {
        "colab": {
          "base_uri": "https://localhost:8080/",
          "height": 419
        },
        "id": "qbngtJrvHNu5",
        "outputId": "6f0f3002-425d-44e5-8553-e2c8212fb9ea"
      },
      "execution_count": 2,
      "outputs": [
        {
          "output_type": "execute_result",
          "data": {
            "text/plain": [
              "      vhigh vhigh.1      2   2.1  small   low  unacc\n",
              "0     vhigh   vhigh      2     2  small   med  unacc\n",
              "1     vhigh   vhigh      2     2  small  high  unacc\n",
              "2     vhigh   vhigh      2     2    med   low  unacc\n",
              "3     vhigh   vhigh      2     2    med   med  unacc\n",
              "4     vhigh   vhigh      2     2    med  high  unacc\n",
              "...     ...     ...    ...   ...    ...   ...    ...\n",
              "1722    low     low  5more  more    med   med   good\n",
              "1723    low     low  5more  more    med  high  vgood\n",
              "1724    low     low  5more  more    big   low  unacc\n",
              "1725    low     low  5more  more    big   med   good\n",
              "1726    low     low  5more  more    big  high  vgood\n",
              "\n",
              "[1727 rows x 7 columns]"
            ],
            "text/html": [
              "\n",
              "  <div id=\"df-04161504-e564-4c1d-89d0-0df8c80e3cc2\">\n",
              "    <div class=\"colab-df-container\">\n",
              "      <div>\n",
              "<style scoped>\n",
              "    .dataframe tbody tr th:only-of-type {\n",
              "        vertical-align: middle;\n",
              "    }\n",
              "\n",
              "    .dataframe tbody tr th {\n",
              "        vertical-align: top;\n",
              "    }\n",
              "\n",
              "    .dataframe thead th {\n",
              "        text-align: right;\n",
              "    }\n",
              "</style>\n",
              "<table border=\"1\" class=\"dataframe\">\n",
              "  <thead>\n",
              "    <tr style=\"text-align: right;\">\n",
              "      <th></th>\n",
              "      <th>vhigh</th>\n",
              "      <th>vhigh.1</th>\n",
              "      <th>2</th>\n",
              "      <th>2.1</th>\n",
              "      <th>small</th>\n",
              "      <th>low</th>\n",
              "      <th>unacc</th>\n",
              "    </tr>\n",
              "  </thead>\n",
              "  <tbody>\n",
              "    <tr>\n",
              "      <th>0</th>\n",
              "      <td>vhigh</td>\n",
              "      <td>vhigh</td>\n",
              "      <td>2</td>\n",
              "      <td>2</td>\n",
              "      <td>small</td>\n",
              "      <td>med</td>\n",
              "      <td>unacc</td>\n",
              "    </tr>\n",
              "    <tr>\n",
              "      <th>1</th>\n",
              "      <td>vhigh</td>\n",
              "      <td>vhigh</td>\n",
              "      <td>2</td>\n",
              "      <td>2</td>\n",
              "      <td>small</td>\n",
              "      <td>high</td>\n",
              "      <td>unacc</td>\n",
              "    </tr>\n",
              "    <tr>\n",
              "      <th>2</th>\n",
              "      <td>vhigh</td>\n",
              "      <td>vhigh</td>\n",
              "      <td>2</td>\n",
              "      <td>2</td>\n",
              "      <td>med</td>\n",
              "      <td>low</td>\n",
              "      <td>unacc</td>\n",
              "    </tr>\n",
              "    <tr>\n",
              "      <th>3</th>\n",
              "      <td>vhigh</td>\n",
              "      <td>vhigh</td>\n",
              "      <td>2</td>\n",
              "      <td>2</td>\n",
              "      <td>med</td>\n",
              "      <td>med</td>\n",
              "      <td>unacc</td>\n",
              "    </tr>\n",
              "    <tr>\n",
              "      <th>4</th>\n",
              "      <td>vhigh</td>\n",
              "      <td>vhigh</td>\n",
              "      <td>2</td>\n",
              "      <td>2</td>\n",
              "      <td>med</td>\n",
              "      <td>high</td>\n",
              "      <td>unacc</td>\n",
              "    </tr>\n",
              "    <tr>\n",
              "      <th>...</th>\n",
              "      <td>...</td>\n",
              "      <td>...</td>\n",
              "      <td>...</td>\n",
              "      <td>...</td>\n",
              "      <td>...</td>\n",
              "      <td>...</td>\n",
              "      <td>...</td>\n",
              "    </tr>\n",
              "    <tr>\n",
              "      <th>1722</th>\n",
              "      <td>low</td>\n",
              "      <td>low</td>\n",
              "      <td>5more</td>\n",
              "      <td>more</td>\n",
              "      <td>med</td>\n",
              "      <td>med</td>\n",
              "      <td>good</td>\n",
              "    </tr>\n",
              "    <tr>\n",
              "      <th>1723</th>\n",
              "      <td>low</td>\n",
              "      <td>low</td>\n",
              "      <td>5more</td>\n",
              "      <td>more</td>\n",
              "      <td>med</td>\n",
              "      <td>high</td>\n",
              "      <td>vgood</td>\n",
              "    </tr>\n",
              "    <tr>\n",
              "      <th>1724</th>\n",
              "      <td>low</td>\n",
              "      <td>low</td>\n",
              "      <td>5more</td>\n",
              "      <td>more</td>\n",
              "      <td>big</td>\n",
              "      <td>low</td>\n",
              "      <td>unacc</td>\n",
              "    </tr>\n",
              "    <tr>\n",
              "      <th>1725</th>\n",
              "      <td>low</td>\n",
              "      <td>low</td>\n",
              "      <td>5more</td>\n",
              "      <td>more</td>\n",
              "      <td>big</td>\n",
              "      <td>med</td>\n",
              "      <td>good</td>\n",
              "    </tr>\n",
              "    <tr>\n",
              "      <th>1726</th>\n",
              "      <td>low</td>\n",
              "      <td>low</td>\n",
              "      <td>5more</td>\n",
              "      <td>more</td>\n",
              "      <td>big</td>\n",
              "      <td>high</td>\n",
              "      <td>vgood</td>\n",
              "    </tr>\n",
              "  </tbody>\n",
              "</table>\n",
              "<p>1727 rows × 7 columns</p>\n",
              "</div>\n",
              "      <button class=\"colab-df-convert\" onclick=\"convertToInteractive('df-04161504-e564-4c1d-89d0-0df8c80e3cc2')\"\n",
              "              title=\"Convert this dataframe to an interactive table.\"\n",
              "              style=\"display:none;\">\n",
              "        \n",
              "  <svg xmlns=\"http://www.w3.org/2000/svg\" height=\"24px\"viewBox=\"0 0 24 24\"\n",
              "       width=\"24px\">\n",
              "    <path d=\"M0 0h24v24H0V0z\" fill=\"none\"/>\n",
              "    <path d=\"M18.56 5.44l.94 2.06.94-2.06 2.06-.94-2.06-.94-.94-2.06-.94 2.06-2.06.94zm-11 1L8.5 8.5l.94-2.06 2.06-.94-2.06-.94L8.5 2.5l-.94 2.06-2.06.94zm10 10l.94 2.06.94-2.06 2.06-.94-2.06-.94-.94-2.06-.94 2.06-2.06.94z\"/><path d=\"M17.41 7.96l-1.37-1.37c-.4-.4-.92-.59-1.43-.59-.52 0-1.04.2-1.43.59L10.3 9.45l-7.72 7.72c-.78.78-.78 2.05 0 2.83L4 21.41c.39.39.9.59 1.41.59.51 0 1.02-.2 1.41-.59l7.78-7.78 2.81-2.81c.8-.78.8-2.07 0-2.86zM5.41 20L4 18.59l7.72-7.72 1.47 1.35L5.41 20z\"/>\n",
              "  </svg>\n",
              "      </button>\n",
              "      \n",
              "  <style>\n",
              "    .colab-df-container {\n",
              "      display:flex;\n",
              "      flex-wrap:wrap;\n",
              "      gap: 12px;\n",
              "    }\n",
              "\n",
              "    .colab-df-convert {\n",
              "      background-color: #E8F0FE;\n",
              "      border: none;\n",
              "      border-radius: 50%;\n",
              "      cursor: pointer;\n",
              "      display: none;\n",
              "      fill: #1967D2;\n",
              "      height: 32px;\n",
              "      padding: 0 0 0 0;\n",
              "      width: 32px;\n",
              "    }\n",
              "\n",
              "    .colab-df-convert:hover {\n",
              "      background-color: #E2EBFA;\n",
              "      box-shadow: 0px 1px 2px rgba(60, 64, 67, 0.3), 0px 1px 3px 1px rgba(60, 64, 67, 0.15);\n",
              "      fill: #174EA6;\n",
              "    }\n",
              "\n",
              "    [theme=dark] .colab-df-convert {\n",
              "      background-color: #3B4455;\n",
              "      fill: #D2E3FC;\n",
              "    }\n",
              "\n",
              "    [theme=dark] .colab-df-convert:hover {\n",
              "      background-color: #434B5C;\n",
              "      box-shadow: 0px 1px 3px 1px rgba(0, 0, 0, 0.15);\n",
              "      filter: drop-shadow(0px 1px 2px rgba(0, 0, 0, 0.3));\n",
              "      fill: #FFFFFF;\n",
              "    }\n",
              "  </style>\n",
              "\n",
              "      <script>\n",
              "        const buttonEl =\n",
              "          document.querySelector('#df-04161504-e564-4c1d-89d0-0df8c80e3cc2 button.colab-df-convert');\n",
              "        buttonEl.style.display =\n",
              "          google.colab.kernel.accessAllowed ? 'block' : 'none';\n",
              "\n",
              "        async function convertToInteractive(key) {\n",
              "          const element = document.querySelector('#df-04161504-e564-4c1d-89d0-0df8c80e3cc2');\n",
              "          const dataTable =\n",
              "            await google.colab.kernel.invokeFunction('convertToInteractive',\n",
              "                                                     [key], {});\n",
              "          if (!dataTable) return;\n",
              "\n",
              "          const docLinkHtml = 'Like what you see? Visit the ' +\n",
              "            '<a target=\"_blank\" href=https://colab.research.google.com/notebooks/data_table.ipynb>data table notebook</a>'\n",
              "            + ' to learn more about interactive tables.';\n",
              "          element.innerHTML = '';\n",
              "          dataTable['output_type'] = 'display_data';\n",
              "          await google.colab.output.renderOutput(dataTable, element);\n",
              "          const docLink = document.createElement('div');\n",
              "          docLink.innerHTML = docLinkHtml;\n",
              "          element.appendChild(docLink);\n",
              "        }\n",
              "      </script>\n",
              "    </div>\n",
              "  </div>\n",
              "  "
            ]
          },
          "metadata": {},
          "execution_count": 2
        }
      ]
    },
    {
      "cell_type": "markdown",
      "source": [
        "#Decision Tree Classifier"
      ],
      "metadata": {
        "id": "7Vd3yyWQW4Fn"
      }
    },
    {
      "cell_type": "code",
      "source": [
        "col = ['buying_price','maintenance_cost','no_of_doors','no_of_persons','lug_boot','safety','decision']\n",
        "cars.columns = col"
      ],
      "metadata": {
        "id": "15ameMaPIO_T"
      },
      "execution_count": 3,
      "outputs": []
    },
    {
      "cell_type": "code",
      "source": [
        "cars"
      ],
      "metadata": {
        "id": "wJbpM86EHa11",
        "colab": {
          "base_uri": "https://localhost:8080/",
          "height": 419
        },
        "outputId": "8747d52a-a091-4b45-f7b1-63469197c77d"
      },
      "execution_count": 4,
      "outputs": [
        {
          "output_type": "execute_result",
          "data": {
            "text/plain": [
              "     buying_price maintenance_cost no_of_doors no_of_persons lug_boot safety  \\\n",
              "0           vhigh            vhigh           2             2    small    med   \n",
              "1           vhigh            vhigh           2             2    small   high   \n",
              "2           vhigh            vhigh           2             2      med    low   \n",
              "3           vhigh            vhigh           2             2      med    med   \n",
              "4           vhigh            vhigh           2             2      med   high   \n",
              "...           ...              ...         ...           ...      ...    ...   \n",
              "1722          low              low       5more          more      med    med   \n",
              "1723          low              low       5more          more      med   high   \n",
              "1724          low              low       5more          more      big    low   \n",
              "1725          low              low       5more          more      big    med   \n",
              "1726          low              low       5more          more      big   high   \n",
              "\n",
              "     decision  \n",
              "0       unacc  \n",
              "1       unacc  \n",
              "2       unacc  \n",
              "3       unacc  \n",
              "4       unacc  \n",
              "...       ...  \n",
              "1722     good  \n",
              "1723    vgood  \n",
              "1724    unacc  \n",
              "1725     good  \n",
              "1726    vgood  \n",
              "\n",
              "[1727 rows x 7 columns]"
            ],
            "text/html": [
              "\n",
              "  <div id=\"df-e8a6aa3a-f544-4a12-81b9-1e930741ec24\">\n",
              "    <div class=\"colab-df-container\">\n",
              "      <div>\n",
              "<style scoped>\n",
              "    .dataframe tbody tr th:only-of-type {\n",
              "        vertical-align: middle;\n",
              "    }\n",
              "\n",
              "    .dataframe tbody tr th {\n",
              "        vertical-align: top;\n",
              "    }\n",
              "\n",
              "    .dataframe thead th {\n",
              "        text-align: right;\n",
              "    }\n",
              "</style>\n",
              "<table border=\"1\" class=\"dataframe\">\n",
              "  <thead>\n",
              "    <tr style=\"text-align: right;\">\n",
              "      <th></th>\n",
              "      <th>buying_price</th>\n",
              "      <th>maintenance_cost</th>\n",
              "      <th>no_of_doors</th>\n",
              "      <th>no_of_persons</th>\n",
              "      <th>lug_boot</th>\n",
              "      <th>safety</th>\n",
              "      <th>decision</th>\n",
              "    </tr>\n",
              "  </thead>\n",
              "  <tbody>\n",
              "    <tr>\n",
              "      <th>0</th>\n",
              "      <td>vhigh</td>\n",
              "      <td>vhigh</td>\n",
              "      <td>2</td>\n",
              "      <td>2</td>\n",
              "      <td>small</td>\n",
              "      <td>med</td>\n",
              "      <td>unacc</td>\n",
              "    </tr>\n",
              "    <tr>\n",
              "      <th>1</th>\n",
              "      <td>vhigh</td>\n",
              "      <td>vhigh</td>\n",
              "      <td>2</td>\n",
              "      <td>2</td>\n",
              "      <td>small</td>\n",
              "      <td>high</td>\n",
              "      <td>unacc</td>\n",
              "    </tr>\n",
              "    <tr>\n",
              "      <th>2</th>\n",
              "      <td>vhigh</td>\n",
              "      <td>vhigh</td>\n",
              "      <td>2</td>\n",
              "      <td>2</td>\n",
              "      <td>med</td>\n",
              "      <td>low</td>\n",
              "      <td>unacc</td>\n",
              "    </tr>\n",
              "    <tr>\n",
              "      <th>3</th>\n",
              "      <td>vhigh</td>\n",
              "      <td>vhigh</td>\n",
              "      <td>2</td>\n",
              "      <td>2</td>\n",
              "      <td>med</td>\n",
              "      <td>med</td>\n",
              "      <td>unacc</td>\n",
              "    </tr>\n",
              "    <tr>\n",
              "      <th>4</th>\n",
              "      <td>vhigh</td>\n",
              "      <td>vhigh</td>\n",
              "      <td>2</td>\n",
              "      <td>2</td>\n",
              "      <td>med</td>\n",
              "      <td>high</td>\n",
              "      <td>unacc</td>\n",
              "    </tr>\n",
              "    <tr>\n",
              "      <th>...</th>\n",
              "      <td>...</td>\n",
              "      <td>...</td>\n",
              "      <td>...</td>\n",
              "      <td>...</td>\n",
              "      <td>...</td>\n",
              "      <td>...</td>\n",
              "      <td>...</td>\n",
              "    </tr>\n",
              "    <tr>\n",
              "      <th>1722</th>\n",
              "      <td>low</td>\n",
              "      <td>low</td>\n",
              "      <td>5more</td>\n",
              "      <td>more</td>\n",
              "      <td>med</td>\n",
              "      <td>med</td>\n",
              "      <td>good</td>\n",
              "    </tr>\n",
              "    <tr>\n",
              "      <th>1723</th>\n",
              "      <td>low</td>\n",
              "      <td>low</td>\n",
              "      <td>5more</td>\n",
              "      <td>more</td>\n",
              "      <td>med</td>\n",
              "      <td>high</td>\n",
              "      <td>vgood</td>\n",
              "    </tr>\n",
              "    <tr>\n",
              "      <th>1724</th>\n",
              "      <td>low</td>\n",
              "      <td>low</td>\n",
              "      <td>5more</td>\n",
              "      <td>more</td>\n",
              "      <td>big</td>\n",
              "      <td>low</td>\n",
              "      <td>unacc</td>\n",
              "    </tr>\n",
              "    <tr>\n",
              "      <th>1725</th>\n",
              "      <td>low</td>\n",
              "      <td>low</td>\n",
              "      <td>5more</td>\n",
              "      <td>more</td>\n",
              "      <td>big</td>\n",
              "      <td>med</td>\n",
              "      <td>good</td>\n",
              "    </tr>\n",
              "    <tr>\n",
              "      <th>1726</th>\n",
              "      <td>low</td>\n",
              "      <td>low</td>\n",
              "      <td>5more</td>\n",
              "      <td>more</td>\n",
              "      <td>big</td>\n",
              "      <td>high</td>\n",
              "      <td>vgood</td>\n",
              "    </tr>\n",
              "  </tbody>\n",
              "</table>\n",
              "<p>1727 rows × 7 columns</p>\n",
              "</div>\n",
              "      <button class=\"colab-df-convert\" onclick=\"convertToInteractive('df-e8a6aa3a-f544-4a12-81b9-1e930741ec24')\"\n",
              "              title=\"Convert this dataframe to an interactive table.\"\n",
              "              style=\"display:none;\">\n",
              "        \n",
              "  <svg xmlns=\"http://www.w3.org/2000/svg\" height=\"24px\"viewBox=\"0 0 24 24\"\n",
              "       width=\"24px\">\n",
              "    <path d=\"M0 0h24v24H0V0z\" fill=\"none\"/>\n",
              "    <path d=\"M18.56 5.44l.94 2.06.94-2.06 2.06-.94-2.06-.94-.94-2.06-.94 2.06-2.06.94zm-11 1L8.5 8.5l.94-2.06 2.06-.94-2.06-.94L8.5 2.5l-.94 2.06-2.06.94zm10 10l.94 2.06.94-2.06 2.06-.94-2.06-.94-.94-2.06-.94 2.06-2.06.94z\"/><path d=\"M17.41 7.96l-1.37-1.37c-.4-.4-.92-.59-1.43-.59-.52 0-1.04.2-1.43.59L10.3 9.45l-7.72 7.72c-.78.78-.78 2.05 0 2.83L4 21.41c.39.39.9.59 1.41.59.51 0 1.02-.2 1.41-.59l7.78-7.78 2.81-2.81c.8-.78.8-2.07 0-2.86zM5.41 20L4 18.59l7.72-7.72 1.47 1.35L5.41 20z\"/>\n",
              "  </svg>\n",
              "      </button>\n",
              "      \n",
              "  <style>\n",
              "    .colab-df-container {\n",
              "      display:flex;\n",
              "      flex-wrap:wrap;\n",
              "      gap: 12px;\n",
              "    }\n",
              "\n",
              "    .colab-df-convert {\n",
              "      background-color: #E8F0FE;\n",
              "      border: none;\n",
              "      border-radius: 50%;\n",
              "      cursor: pointer;\n",
              "      display: none;\n",
              "      fill: #1967D2;\n",
              "      height: 32px;\n",
              "      padding: 0 0 0 0;\n",
              "      width: 32px;\n",
              "    }\n",
              "\n",
              "    .colab-df-convert:hover {\n",
              "      background-color: #E2EBFA;\n",
              "      box-shadow: 0px 1px 2px rgba(60, 64, 67, 0.3), 0px 1px 3px 1px rgba(60, 64, 67, 0.15);\n",
              "      fill: #174EA6;\n",
              "    }\n",
              "\n",
              "    [theme=dark] .colab-df-convert {\n",
              "      background-color: #3B4455;\n",
              "      fill: #D2E3FC;\n",
              "    }\n",
              "\n",
              "    [theme=dark] .colab-df-convert:hover {\n",
              "      background-color: #434B5C;\n",
              "      box-shadow: 0px 1px 3px 1px rgba(0, 0, 0, 0.15);\n",
              "      filter: drop-shadow(0px 1px 2px rgba(0, 0, 0, 0.3));\n",
              "      fill: #FFFFFF;\n",
              "    }\n",
              "  </style>\n",
              "\n",
              "      <script>\n",
              "        const buttonEl =\n",
              "          document.querySelector('#df-e8a6aa3a-f544-4a12-81b9-1e930741ec24 button.colab-df-convert');\n",
              "        buttonEl.style.display =\n",
              "          google.colab.kernel.accessAllowed ? 'block' : 'none';\n",
              "\n",
              "        async function convertToInteractive(key) {\n",
              "          const element = document.querySelector('#df-e8a6aa3a-f544-4a12-81b9-1e930741ec24');\n",
              "          const dataTable =\n",
              "            await google.colab.kernel.invokeFunction('convertToInteractive',\n",
              "                                                     [key], {});\n",
              "          if (!dataTable) return;\n",
              "\n",
              "          const docLinkHtml = 'Like what you see? Visit the ' +\n",
              "            '<a target=\"_blank\" href=https://colab.research.google.com/notebooks/data_table.ipynb>data table notebook</a>'\n",
              "            + ' to learn more about interactive tables.';\n",
              "          element.innerHTML = '';\n",
              "          dataTable['output_type'] = 'display_data';\n",
              "          await google.colab.output.renderOutput(dataTable, element);\n",
              "          const docLink = document.createElement('div');\n",
              "          docLink.innerHTML = docLinkHtml;\n",
              "          element.appendChild(docLink);\n",
              "        }\n",
              "      </script>\n",
              "    </div>\n",
              "  </div>\n",
              "  "
            ]
          },
          "metadata": {},
          "execution_count": 4
        }
      ]
    },
    {
      "cell_type": "code",
      "source": [
        "cars['no_of_persons'].unique()"
      ],
      "metadata": {
        "colab": {
          "base_uri": "https://localhost:8080/"
        },
        "id": "6eqNBTU9K0RD",
        "outputId": "af079c14-970b-4638-b8a1-317a412a1ccd"
      },
      "execution_count": 5,
      "outputs": [
        {
          "output_type": "execute_result",
          "data": {
            "text/plain": [
              "array(['2', '4', 'more'], dtype=object)"
            ]
          },
          "metadata": {},
          "execution_count": 5
        }
      ]
    },
    {
      "cell_type": "code",
      "source": [
        "cars['decision'].value_counts()"
      ],
      "metadata": {
        "colab": {
          "base_uri": "https://localhost:8080/"
        },
        "id": "6HCIllbem4ot",
        "outputId": "c6de29e9-a222-4395-d63b-fdf0faae9c03"
      },
      "execution_count": 6,
      "outputs": [
        {
          "output_type": "execute_result",
          "data": {
            "text/plain": [
              "unacc    1209\n",
              "acc       384\n",
              "good       69\n",
              "vgood      65\n",
              "Name: decision, dtype: int64"
            ]
          },
          "metadata": {},
          "execution_count": 6
        }
      ]
    },
    {
      "cell_type": "code",
      "source": [
        "cars['decision'] = cars['decision'].replace(['good', 'vgood'], 'acc')"
      ],
      "metadata": {
        "id": "xoMBvzdWGZMU"
      },
      "execution_count": 7,
      "outputs": []
    },
    {
      "cell_type": "code",
      "source": [
        "cars['decision'] = cars['decision'].replace({\"unacc\": 0, \"acc\": 1})"
      ],
      "metadata": {
        "id": "dHFLs0Q7qN_s"
      },
      "execution_count": 8,
      "outputs": []
    },
    {
      "cell_type": "markdown",
      "source": [
        "By considering all features"
      ],
      "metadata": {
        "id": "4H3kaf8gXAAJ"
      }
    },
    {
      "cell_type": "code",
      "source": [
        "X = cars[['buying_price','maintenance_cost','no_of_doors','no_of_persons','lug_boot','safety']]\n",
        "y = cars['decision']"
      ],
      "metadata": {
        "id": "OLcFcuXG4ag-"
      },
      "execution_count": 9,
      "outputs": []
    },
    {
      "cell_type": "code",
      "source": [
        "X_train, X_test, y_train, y_test = train_test_split(X, y, test_size=0.3, random_state=42)\n",
        "\n",
        "encoder = OrdinalEncoder()\n",
        "X_train = encoder.fit_transform(X_train)\n",
        "X_test = encoder.transform(X_test)"
      ],
      "metadata": {
        "id": "tRHUyu0ooqS-"
      },
      "execution_count": 10,
      "outputs": []
    },
    {
      "cell_type": "code",
      "source": [
        "X_train.shape, X_test.shape"
      ],
      "metadata": {
        "colab": {
          "base_uri": "https://localhost:8080/"
        },
        "id": "BMZ-nV33oqP3",
        "outputId": "a4766778-19f9-42eb-b3cf-8873ec8c61c1"
      },
      "execution_count": 11,
      "outputs": [
        {
          "output_type": "execute_result",
          "data": {
            "text/plain": [
              "((1208, 6), (519, 6))"
            ]
          },
          "metadata": {},
          "execution_count": 11
        }
      ]
    },
    {
      "cell_type": "code",
      "source": [
        "y_train"
      ],
      "metadata": {
        "colab": {
          "base_uri": "https://localhost:8080/"
        },
        "id": "62fffBvupABr",
        "outputId": "affa22a4-c25c-40dd-b75c-c1cae85943c3"
      },
      "execution_count": 12,
      "outputs": [
        {
          "output_type": "execute_result",
          "data": {
            "text/plain": [
              "1177    1\n",
              "585     0\n",
              "1551    1\n",
              "727     1\n",
              "707     0\n",
              "       ..\n",
              "1130    0\n",
              "1294    1\n",
              "860     0\n",
              "1459    0\n",
              "1126    1\n",
              "Name: decision, Length: 1208, dtype: int64"
            ]
          },
          "metadata": {},
          "execution_count": 12
        }
      ]
    },
    {
      "cell_type": "code",
      "source": [
        "y_train.unique()"
      ],
      "metadata": {
        "colab": {
          "base_uri": "https://localhost:8080/"
        },
        "id": "FNiiRouVrYH6",
        "outputId": "2404a5fc-3ef4-483d-8e6b-cc7426202f05"
      },
      "execution_count": 13,
      "outputs": [
        {
          "output_type": "execute_result",
          "data": {
            "text/plain": [
              "array([1, 0])"
            ]
          },
          "metadata": {},
          "execution_count": 13
        }
      ]
    },
    {
      "cell_type": "code",
      "source": [
        "cols = ['buying_price','maintenance_cost','no_of_doors','no_of_persons','lug_boot','safety']\n",
        "\n",
        "# cols = ['buying_price','no_of_doors','no_of_persons']"
      ],
      "metadata": {
        "id": "eDXBoCZVM-au"
      },
      "execution_count": 14,
      "outputs": []
    },
    {
      "cell_type": "markdown",
      "source": [
        "Using gridSearch"
      ],
      "metadata": {
        "id": "zEal66ebXZId"
      }
    },
    {
      "cell_type": "code",
      "source": [
        "param = {\n",
        "    'criterion': ['gini', 'entropy'],\n",
        "    'max_depth': [3, 6, 9, 12],\n",
        "    'min_samples_split': [2, 5, 10],\n",
        "    'min_samples_leaf': [2, 3, 4, 5]\n",
        "}"
      ],
      "metadata": {
        "id": "auPdiUc7XYkf"
      },
      "execution_count": 15,
      "outputs": []
    },
    {
      "cell_type": "code",
      "source": [
        "clf = DecisionTreeClassifier()\n",
        "\n",
        "grid = GridSearchCV(clf, param, cv=5)\n",
        "grid.fit(X_train, y_train)\n",
        "\n",
        "print('best parameters:', grid.best_params_)\n",
        "print('accuracy score:', grid.best_score_)"
      ],
      "metadata": {
        "colab": {
          "base_uri": "https://localhost:8080/"
        },
        "id": "9R0jGmrUXYhd",
        "outputId": "86b128e8-6ed1-4578-907d-5272a0a34026"
      },
      "execution_count": 16,
      "outputs": [
        {
          "output_type": "stream",
          "name": "stdout",
          "text": [
            "best parameters: {'criterion': 'gini', 'max_depth': 9, 'min_samples_leaf': 2, 'min_samples_split': 2}\n",
            "accuracy score: 0.9842735159973938\n"
          ]
        }
      ]
    },
    {
      "cell_type": "code",
      "source": [
        "y_pred_train = grid.predict(X_train)\n",
        "accuracy_train = accuracy_score(y_train, y_pred_train)\n",
        "print('Training Accuracy:', accuracy_train)\n",
        "\n",
        "y_pred_test = grid.predict(X_test)\n",
        "accuracy_test = accuracy_score(y_test, y_pred_test)\n",
        "print('Testing Accuracy:', accuracy_test)"
      ],
      "metadata": {
        "colab": {
          "base_uri": "https://localhost:8080/"
        },
        "id": "mNkebjmDZAP3",
        "outputId": "dbc709a1-1258-4be1-c72a-d4d9bec15bcd"
      },
      "execution_count": 17,
      "outputs": [
        {
          "output_type": "stream",
          "name": "stdout",
          "text": [
            "Training Accuracy: 0.9900662251655629\n",
            "Testing Accuracy: 0.9826589595375722\n"
          ]
        }
      ]
    },
    {
      "cell_type": "code",
      "source": [
        "p,r,f,s = precision_recall_fscore_support(y_test, y_pred_test)\n",
        "display('precision = {}'.format(p))\n",
        "display('recall = {}'.format(r))\n",
        "display('f-score = {}'.format(f))"
      ],
      "metadata": {
        "colab": {
          "base_uri": "https://localhost:8080/",
          "height": 71
        },
        "id": "KdLXzoAxXYcM",
        "outputId": "ed90ca6f-9549-4706-cf82-44ef8bc0d17a"
      },
      "execution_count": 18,
      "outputs": [
        {
          "output_type": "display_data",
          "data": {
            "text/plain": [
              "'precision = [0.98087432 0.9869281 ]'"
            ],
            "application/vnd.google.colaboratory.intrinsic+json": {
              "type": "string"
            }
          },
          "metadata": {}
        },
        {
          "output_type": "display_data",
          "data": {
            "text/plain": [
              "'recall = [0.99445983 0.9556962 ]'"
            ],
            "application/vnd.google.colaboratory.intrinsic+json": {
              "type": "string"
            }
          },
          "metadata": {}
        },
        {
          "output_type": "display_data",
          "data": {
            "text/plain": [
              "'f-score = [0.98762036 0.97106109]'"
            ],
            "application/vnd.google.colaboratory.intrinsic+json": {
              "type": "string"
            }
          },
          "metadata": {}
        }
      ]
    },
    {
      "cell_type": "code",
      "source": [
        "cm = confusion_matrix(y_test, y_pred_test)\n",
        "sns.heatmap(cm, annot=True, fmt='d', cmap='Blues')"
      ],
      "metadata": {
        "colab": {
          "base_uri": "https://localhost:8080/",
          "height": 447
        },
        "id": "A3x1_JyrZAMy",
        "outputId": "1204188f-a7dd-4455-c989-201e6289e966"
      },
      "execution_count": 19,
      "outputs": [
        {
          "output_type": "execute_result",
          "data": {
            "text/plain": [
              "<Axes: >"
            ]
          },
          "metadata": {},
          "execution_count": 19
        },
        {
          "output_type": "display_data",
          "data": {
            "text/plain": [
              "<Figure size 640x480 with 2 Axes>"
            ],
            "image/png": "[encoded data removed]"
          },
          "metadata": {}
        }
      ]
    },
    {
      "cell_type": "markdown",
      "source": [
        "Trying with different depths"
      ],
      "metadata": {
        "id": "MvXRNGFkXQEw"
      }
    },
    {
      "cell_type": "markdown",
      "source": [
        "For depth 3:"
      ],
      "metadata": {
        "id": "cjDP9QMzZN0D"
      }
    },
    {
      "cell_type": "code",
      "source": [
        "treeclf1 = DecisionTreeClassifier(max_depth=3, random_state=42)\n",
        "treeclf1.fit(X_train, y_train)\n",
        "graph = Source(tree.export_graphviz(treeclf1, out_file=None,\n",
        "                                    feature_names=cols,\n",
        "                                    class_names=['0', '1'], filled = True))\n",
        "svg = SVG(graph.pipe(format='svg'))\n",
        "display(svg)\n"
      ],
      "metadata": {
        "colab": {
          "base_uri": "https://localhost:8080/",
          "height": 598
        },
        "id": "Jmro7Ftq2ex7",
        "outputId": "74bc496e-6cf8-458f-eb30-39810b223ba6"
      },
      "execution_count": 20,
      "outputs": [
        {
          "output_type": "display_data",
          "data": {
            "text/plain": [
              "<IPython.core.display.SVG object>"
            ],
            "image/svg+xml": "<svg xmlns=\"http://www.w3.org/2000/svg\" xmlns:xlink=\"http://www.w3.org/1999/xlink\" width=\"535pt\" height=\"433pt\" viewBox=\"0.00 0.00 535.00 433.00\">\n<g id=\"graph0\" class=\"graph\" transform=\"scale(1 1) rotate(0) translate(4 429)\">\n<title>Tree</title>\n<polygon fill=\"white\" stroke=\"transparent\" points=\"-4,4 -4,-429 531,-429 531,4 -4,4\"/>\n<!-- 0 -->\n<g id=\"node1\" class=\"node\">\n<title>0</title>\n<polygon fill=\"#f0b68d\" stroke=\"black\" points=\"265,-425 116,-425 116,-342 265,-342 265,-425\"/>\n<text text-anchor=\"middle\" x=\"190.5\" y=\"-409.8\" font-family=\"Helvetica,sans-Serif\" font-size=\"14.00\">no_of_persons &lt;= 0.5</text>\n<text text-anchor=\"middle\" x=\"190.5\" y=\"-394.8\" font-family=\"Helvetica,sans-Serif\" font-size=\"14.00\">gini = 0.418</text>\n<text text-anchor=\"middle\" x=\"190.5\" y=\"-379.8\" font-family=\"Helvetica,sans-Serif\" font-size=\"14.00\">samples = 1208</text>\n<text text-anchor=\"middle\" x=\"190.5\" y=\"-364.8\" font-family=\"Helvetica,sans-Serif\" font-size=\"14.00\">value = [848, 360]</text>\n<text text-anchor=\"middle\" x=\"190.5\" y=\"-349.8\" font-family=\"Helvetica,sans-Serif\" font-size=\"14.00\">class = 0</text>\n</g>\n<!-- 1 -->\n<g id=\"node2\" class=\"node\">\n<title>1</title>\n<polygon fill=\"#e58139\" stroke=\"black\" points=\"177.5,-298.5 67.5,-298.5 67.5,-230.5 177.5,-230.5 177.5,-298.5\"/>\n<text text-anchor=\"middle\" x=\"122.5\" y=\"-283.3\" font-family=\"Helvetica,sans-Serif\" font-size=\"14.00\">gini = 0.0</text>\n<text text-anchor=\"middle\" x=\"122.5\" y=\"-268.3\" font-family=\"Helvetica,sans-Serif\" font-size=\"14.00\">samples = 392</text>\n<text text-anchor=\"middle\" x=\"122.5\" y=\"-253.3\" font-family=\"Helvetica,sans-Serif\" font-size=\"14.00\">value = [392, 0]</text>\n<text text-anchor=\"middle\" x=\"122.5\" y=\"-238.3\" font-family=\"Helvetica,sans-Serif\" font-size=\"14.00\">class = 0</text>\n</g>\n<!-- 0&#45;&gt;1 -->\n<g id=\"edge1\" class=\"edge\">\n<title>0-&gt;1</title>\n<path fill=\"none\" stroke=\"black\" d=\"M166.91,-341.91C160.43,-330.76 153.4,-318.66 146.87,-307.44\"/>\n<polygon fill=\"black\" stroke=\"black\" points=\"149.83,-305.55 141.78,-298.67 143.78,-309.07 149.83,-305.55\"/>\n<text text-anchor=\"middle\" x=\"135.38\" y=\"-319.13\" font-family=\"Helvetica,sans-Serif\" font-size=\"14.00\">True</text>\n</g>\n<!-- 2 -->\n<g id=\"node3\" class=\"node\">\n<title>2</title>\n<polygon fill=\"#fae4d5\" stroke=\"black\" points=\"321,-306 196,-306 196,-223 321,-223 321,-306\"/>\n<text text-anchor=\"middle\" x=\"258.5\" y=\"-290.8\" font-family=\"Helvetica,sans-Serif\" font-size=\"14.00\">safety &lt;= 0.5</text>\n<text text-anchor=\"middle\" x=\"258.5\" y=\"-275.8\" font-family=\"Helvetica,sans-Serif\" font-size=\"14.00\">gini = 0.493</text>\n<text text-anchor=\"middle\" x=\"258.5\" y=\"-260.8\" font-family=\"Helvetica,sans-Serif\" font-size=\"14.00\">samples = 816</text>\n<text text-anchor=\"middle\" x=\"258.5\" y=\"-245.8\" font-family=\"Helvetica,sans-Serif\" font-size=\"14.00\">value = [456, 360]</text>\n<text text-anchor=\"middle\" x=\"258.5\" y=\"-230.8\" font-family=\"Helvetica,sans-Serif\" font-size=\"14.00\">class = 0</text>\n</g>\n<!-- 0&#45;&gt;2 -->\n<g id=\"edge2\" class=\"edge\">\n<title>0-&gt;2</title>\n<path fill=\"none\" stroke=\"black\" d=\"M214.09,-341.91C219.16,-333.2 224.56,-323.9 229.79,-314.89\"/>\n<polygon fill=\"black\" stroke=\"black\" points=\"232.95,-316.43 234.95,-306.02 226.9,-312.91 232.95,-316.43\"/>\n<text text-anchor=\"middle\" x=\"241.35\" y=\"-326.49\" font-family=\"Helvetica,sans-Serif\" font-size=\"14.00\">False</text>\n</g>\n<!-- 3 -->\n<g id=\"node4\" class=\"node\">\n<title>3</title>\n<polygon fill=\"#76bbed\" stroke=\"black\" points=\"252.5,-187 116.5,-187 116.5,-104 252.5,-104 252.5,-187\"/>\n<text text-anchor=\"middle\" x=\"184.5\" y=\"-171.8\" font-family=\"Helvetica,sans-Serif\" font-size=\"14.00\">buying_price &lt;= 2.5</text>\n<text text-anchor=\"middle\" x=\"184.5\" y=\"-156.8\" font-family=\"Helvetica,sans-Serif\" font-size=\"14.00\">gini = 0.359</text>\n<text text-anchor=\"middle\" x=\"184.5\" y=\"-141.8\" font-family=\"Helvetica,sans-Serif\" font-size=\"14.00\">samples = 264</text>\n<text text-anchor=\"middle\" x=\"184.5\" y=\"-126.8\" font-family=\"Helvetica,sans-Serif\" font-size=\"14.00\">value = [62, 202]</text>\n<text text-anchor=\"middle\" x=\"184.5\" y=\"-111.8\" font-family=\"Helvetica,sans-Serif\" font-size=\"14.00\">class = 1</text>\n</g>\n<!-- 2&#45;&gt;3 -->\n<g id=\"edge3\" class=\"edge\">\n<title>2-&gt;3</title>\n<path fill=\"none\" stroke=\"black\" d=\"M232.83,-222.91C227.26,-214.1 221.31,-204.7 215.56,-195.61\"/>\n<polygon fill=\"black\" stroke=\"black\" points=\"218.43,-193.6 210.13,-187.02 212.52,-197.34 218.43,-193.6\"/>\n</g>\n<!-- 6 -->\n<g id=\"node7\" class=\"node\">\n<title>6</title>\n<polygon fill=\"#efb488\" stroke=\"black\" points=\"396,-187 271,-187 271,-104 396,-104 396,-187\"/>\n<text text-anchor=\"middle\" x=\"333.5\" y=\"-171.8\" font-family=\"Helvetica,sans-Serif\" font-size=\"14.00\">safety &lt;= 1.5</text>\n<text text-anchor=\"middle\" x=\"333.5\" y=\"-156.8\" font-family=\"Helvetica,sans-Serif\" font-size=\"14.00\">gini = 0.409</text>\n<text text-anchor=\"middle\" x=\"333.5\" y=\"-141.8\" font-family=\"Helvetica,sans-Serif\" font-size=\"14.00\">samples = 552</text>\n<text text-anchor=\"middle\" x=\"333.5\" y=\"-126.8\" font-family=\"Helvetica,sans-Serif\" font-size=\"14.00\">value = [394, 158]</text>\n<text text-anchor=\"middle\" x=\"333.5\" y=\"-111.8\" font-family=\"Helvetica,sans-Serif\" font-size=\"14.00\">class = 0</text>\n</g>\n<!-- 2&#45;&gt;6 -->\n<g id=\"edge6\" class=\"edge\">\n<title>2-&gt;6</title>\n<path fill=\"none\" stroke=\"black\" d=\"M284.52,-222.91C290.16,-214.1 296.19,-204.7 302.02,-195.61\"/>\n<polygon fill=\"black\" stroke=\"black\" points=\"305.07,-197.33 307.53,-187.02 299.18,-193.55 305.07,-197.33\"/>\n</g>\n<!-- 4 -->\n<g id=\"node5\" class=\"node\">\n<title>4</title>\n<polygon fill=\"#57ace9\" stroke=\"black\" points=\"117,-68 0,-68 0,0 117,0 117,-68\"/>\n<text text-anchor=\"middle\" x=\"58.5\" y=\"-52.8\" font-family=\"Helvetica,sans-Serif\" font-size=\"14.00\">gini = 0.23</text>\n<text text-anchor=\"middle\" x=\"58.5\" y=\"-37.8\" font-family=\"Helvetica,sans-Serif\" font-size=\"14.00\">samples = 196</text>\n<text text-anchor=\"middle\" x=\"58.5\" y=\"-22.8\" font-family=\"Helvetica,sans-Serif\" font-size=\"14.00\">value = [26, 170]</text>\n<text text-anchor=\"middle\" x=\"58.5\" y=\"-7.8\" font-family=\"Helvetica,sans-Serif\" font-size=\"14.00\">class = 1</text>\n</g>\n<!-- 3&#45;&gt;4 -->\n<g id=\"edge4\" class=\"edge\">\n<title>3-&gt;4</title>\n<path fill=\"none\" stroke=\"black\" d=\"M137.58,-103.73C126.77,-94.33 115.29,-84.35 104.51,-74.99\"/>\n<polygon fill=\"black\" stroke=\"black\" points=\"106.66,-72.22 96.82,-68.3 102.07,-77.5 106.66,-72.22\"/>\n</g>\n<!-- 5 -->\n<g id=\"node6\" class=\"node\">\n<title>5</title>\n<polygon fill=\"#fcf1e9\" stroke=\"black\" points=\"245.5,-68 135.5,-68 135.5,0 245.5,0 245.5,-68\"/>\n<text text-anchor=\"middle\" x=\"190.5\" y=\"-52.8\" font-family=\"Helvetica,sans-Serif\" font-size=\"14.00\">gini = 0.498</text>\n<text text-anchor=\"middle\" x=\"190.5\" y=\"-37.8\" font-family=\"Helvetica,sans-Serif\" font-size=\"14.00\">samples = 68</text>\n<text text-anchor=\"middle\" x=\"190.5\" y=\"-22.8\" font-family=\"Helvetica,sans-Serif\" font-size=\"14.00\">value = [36, 32]</text>\n<text text-anchor=\"middle\" x=\"190.5\" y=\"-7.8\" font-family=\"Helvetica,sans-Serif\" font-size=\"14.00\">class = 0</text>\n</g>\n<!-- 3&#45;&gt;5 -->\n<g id=\"edge5\" class=\"edge\">\n<title>3-&gt;5</title>\n<path fill=\"none\" stroke=\"black\" d=\"M186.73,-103.73C187.18,-95.52 187.66,-86.86 188.11,-78.56\"/>\n<polygon fill=\"black\" stroke=\"black\" points=\"191.62,-78.48 188.68,-68.3 184.63,-78.09 191.62,-78.48\"/>\n</g>\n<!-- 7 -->\n<g id=\"node8\" class=\"node\">\n<title>7</title>\n<polygon fill=\"#e58139\" stroke=\"black\" points=\"383.5,-68 273.5,-68 273.5,0 383.5,0 383.5,-68\"/>\n<text text-anchor=\"middle\" x=\"328.5\" y=\"-52.8\" font-family=\"Helvetica,sans-Serif\" font-size=\"14.00\">gini = 0.0</text>\n<text text-anchor=\"middle\" x=\"328.5\" y=\"-37.8\" font-family=\"Helvetica,sans-Serif\" font-size=\"14.00\">samples = 269</text>\n<text text-anchor=\"middle\" x=\"328.5\" y=\"-22.8\" font-family=\"Helvetica,sans-Serif\" font-size=\"14.00\">value = [269, 0]</text>\n<text text-anchor=\"middle\" x=\"328.5\" y=\"-7.8\" font-family=\"Helvetica,sans-Serif\" font-size=\"14.00\">class = 0</text>\n</g>\n<!-- 6&#45;&gt;7 -->\n<g id=\"edge7\" class=\"edge\">\n<title>6-&gt;7</title>\n<path fill=\"none\" stroke=\"black\" d=\"M331.64,-103.73C331.26,-95.52 330.87,-86.86 330.49,-78.56\"/>\n<polygon fill=\"black\" stroke=\"black\" points=\"333.97,-78.13 330.02,-68.3 326.98,-78.45 333.97,-78.13\"/>\n</g>\n<!-- 8 -->\n<g id=\"node9\" class=\"node\">\n<title>8</title>\n<polygon fill=\"#d6ebfa\" stroke=\"black\" points=\"527,-68 402,-68 402,0 527,0 527,-68\"/>\n<text text-anchor=\"middle\" x=\"464.5\" y=\"-52.8\" font-family=\"Helvetica,sans-Serif\" font-size=\"14.00\">gini = 0.493</text>\n<text text-anchor=\"middle\" x=\"464.5\" y=\"-37.8\" font-family=\"Helvetica,sans-Serif\" font-size=\"14.00\">samples = 283</text>\n<text text-anchor=\"middle\" x=\"464.5\" y=\"-22.8\" font-family=\"Helvetica,sans-Serif\" font-size=\"14.00\">value = [125, 158]</text>\n<text text-anchor=\"middle\" x=\"464.5\" y=\"-7.8\" font-family=\"Helvetica,sans-Serif\" font-size=\"14.00\">class = 1</text>\n</g>\n<!-- 6&#45;&gt;8 -->\n<g id=\"edge8\" class=\"edge\">\n<title>6-&gt;8</title>\n<path fill=\"none\" stroke=\"black\" d=\"M382.28,-103.73C393.63,-94.24 405.69,-84.16 416.99,-74.72\"/>\n<polygon fill=\"black\" stroke=\"black\" points=\"419.23,-77.4 424.66,-68.3 414.74,-72.03 419.23,-77.4\"/>\n</g>\n</g>\n</svg>"
          },
          "metadata": {}
        }
      ]
    },
    {
      "cell_type": "code",
      "source": [
        "y_pred_train = treeclf1.predict(X_train)\n",
        "train_accuracy = accuracy_score(y_train, y_pred_train)\n",
        "\n",
        "y_pred_test = treeclf1.predict(X_test)\n",
        "test_accuracy = accuracy_score(y_test, y_pred_test)\n",
        "\n",
        "print('Training Accuracy:', train_accuracy)\n",
        "print('Testing Accuracy:', test_accuracy)"
      ],
      "metadata": {
        "colab": {
          "base_uri": "https://localhost:8080/"
        },
        "id": "hhDV35zt2evg",
        "outputId": "4aab31ac-1733-4f4d-fc93-754f741344c2"
      },
      "execution_count": 21,
      "outputs": [
        {
          "output_type": "stream",
          "name": "stdout",
          "text": [
            "Training Accuracy: 0.8485099337748344\n",
            "Testing Accuracy: 0.8786127167630058\n"
          ]
        }
      ]
    },
    {
      "cell_type": "code",
      "source": [
        "p,r,f,s = precision_recall_fscore_support(y_test, y_pred_test)\n",
        "display('precision = {}'.format(p))\n",
        "display('recall = {}'.format(r))\n",
        "display('f-score = {}'.format(f))"
      ],
      "metadata": {
        "colab": {
          "base_uri": "https://localhost:8080/",
          "height": 71
        },
        "id": "7xw8QtcX2es1",
        "outputId": "49f9f1aa-fb50-4dbd-8cbf-9c7980a99ad3"
      },
      "execution_count": 22,
      "outputs": [
        {
          "output_type": "display_data",
          "data": {
            "text/plain": [
              "'precision = [0.95705521 0.74611399]'"
            ],
            "application/vnd.google.colaboratory.intrinsic+json": {
              "type": "string"
            }
          },
          "metadata": {}
        },
        {
          "output_type": "display_data",
          "data": {
            "text/plain": [
              "'recall = [0.86426593 0.91139241]'"
            ],
            "application/vnd.google.colaboratory.intrinsic+json": {
              "type": "string"
            }
          },
          "metadata": {}
        },
        {
          "output_type": "display_data",
          "data": {
            "text/plain": [
              "'f-score = [0.90829694 0.82051282]'"
            ],
            "application/vnd.google.colaboratory.intrinsic+json": {
              "type": "string"
            }
          },
          "metadata": {}
        }
      ]
    },
    {
      "cell_type": "code",
      "source": [
        "cm = confusion_matrix(y_test, y_pred_test)\n",
        "sns.heatmap(cm, annot=True, fmt='d', cmap='Blues')"
      ],
      "metadata": {
        "colab": {
          "base_uri": "https://localhost:8080/",
          "height": 447
        },
        "id": "rPI2HaSBo_-7",
        "outputId": "e24a52ce-9f0f-40bd-b43b-578b339f41e6"
      },
      "execution_count": 23,
      "outputs": [
        {
          "output_type": "execute_result",
          "data": {
            "text/plain": [
              "<Axes: >"
            ]
          },
          "metadata": {},
          "execution_count": 23
        },
        {
          "output_type": "display_data",
          "data": {
            "text/plain": [
              "<Figure size 640x480 with 2 Axes>"
            ],
            "image/png": "[encoded data removed]"
          },
          "metadata": {}
        }
      ]
    },
    {
      "cell_type": "code",
      "source": [
        "pd.DataFrame({'feature':cols, 'importance':treeclf1.feature_importances_})"
      ],
      "metadata": {
        "colab": {
          "base_uri": "https://localhost:8080/",
          "height": 235
        },
        "id": "kVdFRv4bN5lS",
        "outputId": "cc71c9cf-329e-4425-c945-0bc9f139378b"
      },
      "execution_count": 24,
      "outputs": [
        {
          "output_type": "execute_result",
          "data": {
            "text/plain": [
              "            feature  importance\n",
              "0      buying_price    0.055406\n",
              "1  maintenance_cost    0.000000\n",
              "2       no_of_doors    0.000000\n",
              "3     no_of_persons    0.359318\n",
              "4          lug_boot    0.000000\n",
              "5            safety    0.585276"
            ],
            "text/html": [
              "\n",
              "  <div id=\"df-fe3d6f20-6d38-4127-8fee-280eeaa7ebc4\">\n",
              "    <div class=\"colab-df-container\">\n",
              "      <div>\n",
              "<style scoped>\n",
              "    .dataframe tbody tr th:only-of-type {\n",
              "        vertical-align: middle;\n",
              "    }\n",
              "\n",
              "    .dataframe tbody tr th {\n",
              "        vertical-align: top;\n",
              "    }\n",
              "\n",
              "    .dataframe thead th {\n",
              "        text-align: right;\n",
              "    }\n",
              "</style>\n",
              "<table border=\"1\" class=\"dataframe\">\n",
              "  <thead>\n",
              "    <tr style=\"text-align: right;\">\n",
              "      <th></th>\n",
              "      <th>feature</th>\n",
              "      <th>importance</th>\n",
              "    </tr>\n",
              "  </thead>\n",
              "  <tbody>\n",
              "    <tr>\n",
              "      <th>0</th>\n",
              "      <td>buying_price</td>\n",
              "      <td>0.055406</td>\n",
              "    </tr>\n",
              "    <tr>\n",
              "      <th>1</th>\n",
              "      <td>maintenance_cost</td>\n",
              "      <td>0.000000</td>\n",
              "    </tr>\n",
              "    <tr>\n",
              "      <th>2</th>\n",
              "      <td>no_of_doors</td>\n",
              "      <td>0.000000</td>\n",
              "    </tr>\n",
              "    <tr>\n",
              "      <th>3</th>\n",
              "      <td>no_of_persons</td>\n",
              "      <td>0.359318</td>\n",
              "    </tr>\n",
              "    <tr>\n",
              "      <th>4</th>\n",
              "      <td>lug_boot</td>\n",
              "      <td>0.000000</td>\n",
              "    </tr>\n",
              "    <tr>\n",
              "      <th>5</th>\n",
              "      <td>safety</td>\n",
              "      <td>0.585276</td>\n",
              "    </tr>\n",
              "  </tbody>\n",
              "</table>\n",
              "</div>\n",
              "      <button class=\"colab-df-convert\" onclick=\"convertToInteractive('df-fe3d6f20-6d38-4127-8fee-280eeaa7ebc4')\"\n",
              "              title=\"Convert this dataframe to an interactive table.\"\n",
              "              style=\"display:none;\">\n",
              "        \n",
              "  <svg xmlns=\"http://www.w3.org/2000/svg\" height=\"24px\"viewBox=\"0 0 24 24\"\n",
              "       width=\"24px\">\n",
              "    <path d=\"M0 0h24v24H0V0z\" fill=\"none\"/>\n",
              "    <path d=\"M18.56 5.44l.94 2.06.94-2.06 2.06-.94-2.06-.94-.94-2.06-.94 2.06-2.06.94zm-11 1L8.5 8.5l.94-2.06 2.06-.94-2.06-.94L8.5 2.5l-.94 2.06-2.06.94zm10 10l.94 2.06.94-2.06 2.06-.94-2.06-.94-.94-2.06-.94 2.06-2.06.94z\"/><path d=\"M17.41 7.96l-1.37-1.37c-.4-.4-.92-.59-1.43-.59-.52 0-1.04.2-1.43.59L10.3 9.45l-7.72 7.72c-.78.78-.78 2.05 0 2.83L4 21.41c.39.39.9.59 1.41.59.51 0 1.02-.2 1.41-.59l7.78-7.78 2.81-2.81c.8-.78.8-2.07 0-2.86zM5.41 20L4 18.59l7.72-7.72 1.47 1.35L5.41 20z\"/>\n",
              "  </svg>\n",
              "      </button>\n",
              "      \n",
              "  <style>\n",
              "    .colab-df-container {\n",
              "      display:flex;\n",
              "      flex-wrap:wrap;\n",
              "      gap: 12px;\n",
              "    }\n",
              "\n",
              "    .colab-df-convert {\n",
              "      background-color: #E8F0FE;\n",
              "      border: none;\n",
              "      border-radius: 50%;\n",
              "      cursor: pointer;\n",
              "      display: none;\n",
              "      fill: #1967D2;\n",
              "      height: 32px;\n",
              "      padding: 0 0 0 0;\n",
              "      width: 32px;\n",
              "    }\n",
              "\n",
              "    .colab-df-convert:hover {\n",
              "      background-color: #E2EBFA;\n",
              "      box-shadow: 0px 1px 2px rgba(60, 64, 67, 0.3), 0px 1px 3px 1px rgba(60, 64, 67, 0.15);\n",
              "      fill: #174EA6;\n",
              "    }\n",
              "\n",
              "    [theme=dark] .colab-df-convert {\n",
              "      background-color: #3B4455;\n",
              "      fill: #D2E3FC;\n",
              "    }\n",
              "\n",
              "    [theme=dark] .colab-df-convert:hover {\n",
              "      background-color: #434B5C;\n",
              "      box-shadow: 0px 1px 3px 1px rgba(0, 0, 0, 0.15);\n",
              "      filter: drop-shadow(0px 1px 2px rgba(0, 0, 0, 0.3));\n",
              "      fill: #FFFFFF;\n",
              "    }\n",
              "  </style>\n",
              "\n",
              "      <script>\n",
              "        const buttonEl =\n",
              "          document.querySelector('#df-fe3d6f20-6d38-4127-8fee-280eeaa7ebc4 button.colab-df-convert');\n",
              "        buttonEl.style.display =\n",
              "          google.colab.kernel.accessAllowed ? 'block' : 'none';\n",
              "\n",
              "        async function convertToInteractive(key) {\n",
              "          const element = document.querySelector('#df-fe3d6f20-6d38-4127-8fee-280eeaa7ebc4');\n",
              "          const dataTable =\n",
              "            await google.colab.kernel.invokeFunction('convertToInteractive',\n",
              "                                                     [key], {});\n",
              "          if (!dataTable) return;\n",
              "\n",
              "          const docLinkHtml = 'Like what you see? Visit the ' +\n",
              "            '<a target=\"_blank\" href=https://colab.research.google.com/notebooks/data_table.ipynb>data table notebook</a>'\n",
              "            + ' to learn more about interactive tables.';\n",
              "          element.innerHTML = '';\n",
              "          dataTable['output_type'] = 'display_data';\n",
              "          await google.colab.output.renderOutput(dataTable, element);\n",
              "          const docLink = document.createElement('div');\n",
              "          docLink.innerHTML = docLinkHtml;\n",
              "          element.appendChild(docLink);\n",
              "        }\n",
              "      </script>\n",
              "    </div>\n",
              "  </div>\n",
              "  "
            ]
          },
          "metadata": {},
          "execution_count": 24
        }
      ]
    },
    {
      "cell_type": "markdown",
      "source": [
        "For depth: 9"
      ],
      "metadata": {
        "id": "aZ9ixkqTaWaT"
      }
    },
    {
      "cell_type": "code",
      "source": [
        "treeclf = DecisionTreeClassifier(max_depth=9, random_state=42)\n",
        "treeclf.fit(X_train, y_train)\n",
        "graph = Source(tree.export_graphviz(treeclf, out_file=None,\n",
        "                                    feature_names=cols,\n",
        "                                    class_names=['0', '1'], filled = True))\n",
        "svg = SVG(graph.pipe(format='svg'))\n",
        "display(svg)\n"
      ],
      "metadata": {
        "colab": {
          "base_uri": "https://localhost:8080/",
          "height": 1000
        },
        "id": "63iyVDUOzgU4",
        "outputId": "b260f948-386f-482d-f9b7-c1b82b336ad2"
      },
      "execution_count": 25,
      "outputs": [
        {
          "output_type": "display_data",
          "data": {
            "text/plain": [
              "<IPython.core.display.SVG object>"
            ],
            "image/svg+xml": "<svg xmlns=\"http://www.w3.org/2000/svg\" xmlns:xlink=\"http://www.w3.org/1999/xlink\" width=\"2187pt\" height=\"1147pt\" viewBox=\"0.00 0.00 2187.00 1147.00\">\n<g id=\"graph0\" class=\"graph\" transform=\"scale(1 1) rotate(0) translate(4 1143)\">\n<title>Tree</title>\n<polygon fill=\"white\" stroke=\"transparent\" points=\"-4,4 -4,-1143 2183,-1143 2183,4 -4,4\"/>\n<!-- 0 -->\n<g id=\"node1\" class=\"node\">\n<title>0</title>\n<polygon fill=\"#f0b68d\" stroke=\"black\" points=\"975.5,-1139 826.5,-1139 826.5,-1056 975.5,-1056 975.5,-1139\"/>\n<text text-anchor=\"middle\" x=\"901\" y=\"-1123.8\" font-family=\"Helvetica,sans-Serif\" font-size=\"14.00\">no_of_persons &lt;= 0.5</text>\n<text text-anchor=\"middle\" x=\"901\" y=\"-1108.8\" font-family=\"Helvetica,sans-Serif\" font-size=\"14.00\">gini = 0.418</text>\n<text text-anchor=\"middle\" x=\"901\" y=\"-1093.8\" font-family=\"Helvetica,sans-Serif\" font-size=\"14.00\">samples = 1208</text>\n<text text-anchor=\"middle\" x=\"901\" y=\"-1078.8\" font-family=\"Helvetica,sans-Serif\" font-size=\"14.00\">value = [848, 360]</text>\n<text text-anchor=\"middle\" x=\"901\" y=\"-1063.8\" font-family=\"Helvetica,sans-Serif\" font-size=\"14.00\">class = 0</text>\n</g>\n<!-- 1 -->\n<g id=\"node2\" class=\"node\">\n<title>1</title>\n<polygon fill=\"#e58139\" stroke=\"black\" points=\"888,-1012.5 778,-1012.5 778,-944.5 888,-944.5 888,-1012.5\"/>\n<text text-anchor=\"middle\" x=\"833\" y=\"-997.3\" font-family=\"Helvetica,sans-Serif\" font-size=\"14.00\">gini = 0.0</text>\n<text text-anchor=\"middle\" x=\"833\" y=\"-982.3\" font-family=\"Helvetica,sans-Serif\" font-size=\"14.00\">samples = 392</text>\n<text text-anchor=\"middle\" x=\"833\" y=\"-967.3\" font-family=\"Helvetica,sans-Serif\" font-size=\"14.00\">value = [392, 0]</text>\n<text text-anchor=\"middle\" x=\"833\" y=\"-952.3\" font-family=\"Helvetica,sans-Serif\" font-size=\"14.00\">class = 0</text>\n</g>\n<!-- 0&#45;&gt;1 -->\n<g id=\"edge1\" class=\"edge\">\n<title>0-&gt;1</title>\n<path fill=\"none\" stroke=\"black\" d=\"M877.41,-1055.91C870.93,-1044.76 863.9,-1032.66 857.37,-1021.44\"/>\n<polygon fill=\"black\" stroke=\"black\" points=\"860.33,-1019.55 852.28,-1012.67 854.28,-1023.07 860.33,-1019.55\"/>\n<text text-anchor=\"middle\" x=\"845.88\" y=\"-1033.13\" font-family=\"Helvetica,sans-Serif\" font-size=\"14.00\">True</text>\n</g>\n<!-- 2 -->\n<g id=\"node3\" class=\"node\">\n<title>2</title>\n<polygon fill=\"#fae4d5\" stroke=\"black\" points=\"1031.5,-1020 906.5,-1020 906.5,-937 1031.5,-937 1031.5,-1020\"/>\n<text text-anchor=\"middle\" x=\"969\" y=\"-1004.8\" font-family=\"Helvetica,sans-Serif\" font-size=\"14.00\">safety &lt;= 0.5</text>\n<text text-anchor=\"middle\" x=\"969\" y=\"-989.8\" font-family=\"Helvetica,sans-Serif\" font-size=\"14.00\">gini = 0.493</text>\n<text text-anchor=\"middle\" x=\"969\" y=\"-974.8\" font-family=\"Helvetica,sans-Serif\" font-size=\"14.00\">samples = 816</text>\n<text text-anchor=\"middle\" x=\"969\" y=\"-959.8\" font-family=\"Helvetica,sans-Serif\" font-size=\"14.00\">value = [456, 360]</text>\n<text text-anchor=\"middle\" x=\"969\" y=\"-944.8\" font-family=\"Helvetica,sans-Serif\" font-size=\"14.00\">class = 0</text>\n</g>\n<!-- 0&#45;&gt;2 -->\n<g id=\"edge2\" class=\"edge\">\n<title>0-&gt;2</title>\n<path fill=\"none\" stroke=\"black\" d=\"M924.59,-1055.91C929.66,-1047.2 935.06,-1037.9 940.29,-1028.89\"/>\n<polygon fill=\"black\" stroke=\"black\" points=\"943.45,-1030.43 945.45,-1020.02 937.4,-1026.91 943.45,-1030.43\"/>\n<text text-anchor=\"middle\" x=\"951.85\" y=\"-1040.49\" font-family=\"Helvetica,sans-Serif\" font-size=\"14.00\">False</text>\n</g>\n<!-- 3 -->\n<g id=\"node4\" class=\"node\">\n<title>3</title>\n<polygon fill=\"#76bbed\" stroke=\"black\" points=\"905,-901 769,-901 769,-818 905,-818 905,-901\"/>\n<text text-anchor=\"middle\" x=\"837\" y=\"-885.8\" font-family=\"Helvetica,sans-Serif\" font-size=\"14.00\">buying_price &lt;= 2.5</text>\n<text text-anchor=\"middle\" x=\"837\" y=\"-870.8\" font-family=\"Helvetica,sans-Serif\" font-size=\"14.00\">gini = 0.359</text>\n<text text-anchor=\"middle\" x=\"837\" y=\"-855.8\" font-family=\"Helvetica,sans-Serif\" font-size=\"14.00\">samples = 264</text>\n<text text-anchor=\"middle\" x=\"837\" y=\"-840.8\" font-family=\"Helvetica,sans-Serif\" font-size=\"14.00\">value = [62, 202]</text>\n<text text-anchor=\"middle\" x=\"837\" y=\"-825.8\" font-family=\"Helvetica,sans-Serif\" font-size=\"14.00\">class = 1</text>\n</g>\n<!-- 2&#45;&gt;3 -->\n<g id=\"edge3\" class=\"edge\">\n<title>2-&gt;3</title>\n<path fill=\"none\" stroke=\"black\" d=\"M923.2,-936.91C912.66,-927.56 901.35,-917.54 890.51,-907.93\"/>\n<polygon fill=\"black\" stroke=\"black\" points=\"892.52,-905.03 882.72,-901.02 887.88,-910.27 892.52,-905.03\"/>\n</g>\n<!-- 32 -->\n<g id=\"node33\" class=\"node\">\n<title>32</title>\n<polygon fill=\"#efb488\" stroke=\"black\" points=\"1187.5,-901 1062.5,-901 1062.5,-818 1187.5,-818 1187.5,-901\"/>\n<text text-anchor=\"middle\" x=\"1125\" y=\"-885.8\" font-family=\"Helvetica,sans-Serif\" font-size=\"14.00\">safety &lt;= 1.5</text>\n<text text-anchor=\"middle\" x=\"1125\" y=\"-870.8\" font-family=\"Helvetica,sans-Serif\" font-size=\"14.00\">gini = 0.409</text>\n<text text-anchor=\"middle\" x=\"1125\" y=\"-855.8\" font-family=\"Helvetica,sans-Serif\" font-size=\"14.00\">samples = 552</text>\n<text text-anchor=\"middle\" x=\"1125\" y=\"-840.8\" font-family=\"Helvetica,sans-Serif\" font-size=\"14.00\">value = [394, 158]</text>\n<text text-anchor=\"middle\" x=\"1125\" y=\"-825.8\" font-family=\"Helvetica,sans-Serif\" font-size=\"14.00\">class = 0</text>\n</g>\n<!-- 2&#45;&gt;32 -->\n<g id=\"edge32\" class=\"edge\">\n<title>2-&gt;32</title>\n<path fill=\"none\" stroke=\"black\" d=\"M1023.12,-936.91C1035.95,-927.29 1049.73,-916.95 1062.88,-907.09\"/>\n<polygon fill=\"black\" stroke=\"black\" points=\"1065.07,-909.82 1070.97,-901.02 1060.87,-904.22 1065.07,-909.82\"/>\n</g>\n<!-- 4 -->\n<g id=\"node5\" class=\"node\">\n<title>4</title>\n<polygon fill=\"#57ace9\" stroke=\"black\" points=\"609,-782 439,-782 439,-699 609,-699 609,-782\"/>\n<text text-anchor=\"middle\" x=\"524\" y=\"-766.8\" font-family=\"Helvetica,sans-Serif\" font-size=\"14.00\">maintenance_cost &lt;= 2.5</text>\n<text text-anchor=\"middle\" x=\"524\" y=\"-751.8\" font-family=\"Helvetica,sans-Serif\" font-size=\"14.00\">gini = 0.23</text>\n<text text-anchor=\"middle\" x=\"524\" y=\"-736.8\" font-family=\"Helvetica,sans-Serif\" font-size=\"14.00\">samples = 196</text>\n<text text-anchor=\"middle\" x=\"524\" y=\"-721.8\" font-family=\"Helvetica,sans-Serif\" font-size=\"14.00\">value = [26, 170]</text>\n<text text-anchor=\"middle\" x=\"524\" y=\"-706.8\" font-family=\"Helvetica,sans-Serif\" font-size=\"14.00\">class = 1</text>\n</g>\n<!-- 3&#45;&gt;4 -->\n<g id=\"edge4\" class=\"edge\">\n<title>3-&gt;4</title>\n<path fill=\"none\" stroke=\"black\" d=\"M768.7,-832.97C724.77,-816.55 667.07,-794.98 618.74,-776.91\"/>\n<polygon fill=\"black\" stroke=\"black\" points=\"619.8,-773.57 609.2,-773.35 617.35,-780.13 619.8,-773.57\"/>\n</g>\n<!-- 21 -->\n<g id=\"node22\" class=\"node\">\n<title>21</title>\n<polygon fill=\"#fcf1e9\" stroke=\"black\" points=\"922,-782 752,-782 752,-699 922,-699 922,-782\"/>\n<text text-anchor=\"middle\" x=\"837\" y=\"-766.8\" font-family=\"Helvetica,sans-Serif\" font-size=\"14.00\">maintenance_cost &lt;= 0.5</text>\n<text text-anchor=\"middle\" x=\"837\" y=\"-751.8\" font-family=\"Helvetica,sans-Serif\" font-size=\"14.00\">gini = 0.498</text>\n<text text-anchor=\"middle\" x=\"837\" y=\"-736.8\" font-family=\"Helvetica,sans-Serif\" font-size=\"14.00\">samples = 68</text>\n<text text-anchor=\"middle\" x=\"837\" y=\"-721.8\" font-family=\"Helvetica,sans-Serif\" font-size=\"14.00\">value = [36, 32]</text>\n<text text-anchor=\"middle\" x=\"837\" y=\"-706.8\" font-family=\"Helvetica,sans-Serif\" font-size=\"14.00\">class = 0</text>\n</g>\n<!-- 3&#45;&gt;21 -->\n<g id=\"edge21\" class=\"edge\">\n<title>3-&gt;21</title>\n<path fill=\"none\" stroke=\"black\" d=\"M837,-817.91C837,-809.65 837,-800.86 837,-792.3\"/>\n<polygon fill=\"black\" stroke=\"black\" points=\"840.5,-792.02 837,-782.02 833.5,-792.02 840.5,-792.02\"/>\n</g>\n<!-- 5 -->\n<g id=\"node6\" class=\"node\">\n<title>5</title>\n<polygon fill=\"#44a3e6\" stroke=\"black\" points=\"384,-663 250,-663 250,-580 384,-580 384,-663\"/>\n<text text-anchor=\"middle\" x=\"317\" y=\"-647.8\" font-family=\"Helvetica,sans-Serif\" font-size=\"14.00\">no_of_doors &lt;= 0.5</text>\n<text text-anchor=\"middle\" x=\"317\" y=\"-632.8\" font-family=\"Helvetica,sans-Serif\" font-size=\"14.00\">gini = 0.103</text>\n<text text-anchor=\"middle\" x=\"317\" y=\"-617.8\" font-family=\"Helvetica,sans-Serif\" font-size=\"14.00\">samples = 147</text>\n<text text-anchor=\"middle\" x=\"317\" y=\"-602.8\" font-family=\"Helvetica,sans-Serif\" font-size=\"14.00\">value = [8, 139]</text>\n<text text-anchor=\"middle\" x=\"317\" y=\"-587.8\" font-family=\"Helvetica,sans-Serif\" font-size=\"14.00\">class = 1</text>\n</g>\n<!-- 4&#45;&gt;5 -->\n<g id=\"edge5\" class=\"edge\">\n<title>4-&gt;5</title>\n<path fill=\"none\" stroke=\"black\" d=\"M452.18,-698.91C433.04,-688.09 412.31,-676.37 392.95,-665.43\"/>\n<polygon fill=\"black\" stroke=\"black\" points=\"394.6,-662.34 384.17,-660.47 391.15,-668.43 394.6,-662.34\"/>\n</g>\n<!-- 12 -->\n<g id=\"node13\" class=\"node\">\n<title>12</title>\n<polygon fill=\"#acd6f4\" stroke=\"black\" points=\"592,-663 456,-663 456,-580 592,-580 592,-663\"/>\n<text text-anchor=\"middle\" x=\"524\" y=\"-647.8\" font-family=\"Helvetica,sans-Serif\" font-size=\"14.00\">buying_price &lt;= 0.5</text>\n<text text-anchor=\"middle\" x=\"524\" y=\"-632.8\" font-family=\"Helvetica,sans-Serif\" font-size=\"14.00\">gini = 0.465</text>\n<text text-anchor=\"middle\" x=\"524\" y=\"-617.8\" font-family=\"Helvetica,sans-Serif\" font-size=\"14.00\">samples = 49</text>\n<text text-anchor=\"middle\" x=\"524\" y=\"-602.8\" font-family=\"Helvetica,sans-Serif\" font-size=\"14.00\">value = [18, 31]</text>\n<text text-anchor=\"middle\" x=\"524\" y=\"-587.8\" font-family=\"Helvetica,sans-Serif\" font-size=\"14.00\">class = 1</text>\n</g>\n<!-- 4&#45;&gt;12 -->\n<g id=\"edge12\" class=\"edge\">\n<title>4-&gt;12</title>\n<path fill=\"none\" stroke=\"black\" d=\"M524,-698.91C524,-690.65 524,-681.86 524,-673.3\"/>\n<polygon fill=\"black\" stroke=\"black\" points=\"527.5,-673.02 524,-663.02 520.5,-673.02 527.5,-673.02\"/>\n</g>\n<!-- 6 -->\n<g id=\"node7\" class=\"node\">\n<title>6</title>\n<polygon fill=\"#72b9ec\" stroke=\"black\" points=\"243.5,-544 94.5,-544 94.5,-461 243.5,-461 243.5,-544\"/>\n<text text-anchor=\"middle\" x=\"169\" y=\"-528.8\" font-family=\"Helvetica,sans-Serif\" font-size=\"14.00\">no_of_persons &lt;= 1.5</text>\n<text text-anchor=\"middle\" x=\"169\" y=\"-513.8\" font-family=\"Helvetica,sans-Serif\" font-size=\"14.00\">gini = 0.346</text>\n<text text-anchor=\"middle\" x=\"169\" y=\"-498.8\" font-family=\"Helvetica,sans-Serif\" font-size=\"14.00\">samples = 36</text>\n<text text-anchor=\"middle\" x=\"169\" y=\"-483.8\" font-family=\"Helvetica,sans-Serif\" font-size=\"14.00\">value = [8, 28]</text>\n<text text-anchor=\"middle\" x=\"169\" y=\"-468.8\" font-family=\"Helvetica,sans-Serif\" font-size=\"14.00\">class = 1</text>\n</g>\n<!-- 5&#45;&gt;6 -->\n<g id=\"edge6\" class=\"edge\">\n<title>5-&gt;6</title>\n<path fill=\"none\" stroke=\"black\" d=\"M265.65,-579.91C253.6,-570.38 240.66,-560.15 228.29,-550.37\"/>\n<polygon fill=\"black\" stroke=\"black\" points=\"230.27,-547.48 220.26,-544.02 225.93,-552.97 230.27,-547.48\"/>\n</g>\n<!-- 11 -->\n<g id=\"node12\" class=\"node\">\n<title>11</title>\n<polygon fill=\"#399de5\" stroke=\"black\" points=\"372,-536.5 262,-536.5 262,-468.5 372,-468.5 372,-536.5\"/>\n<text text-anchor=\"middle\" x=\"317\" y=\"-521.3\" font-family=\"Helvetica,sans-Serif\" font-size=\"14.00\">gini = 0.0</text>\n<text text-anchor=\"middle\" x=\"317\" y=\"-506.3\" font-family=\"Helvetica,sans-Serif\" font-size=\"14.00\">samples = 111</text>\n<text text-anchor=\"middle\" x=\"317\" y=\"-491.3\" font-family=\"Helvetica,sans-Serif\" font-size=\"14.00\">value = [0, 111]</text>\n<text text-anchor=\"middle\" x=\"317\" y=\"-476.3\" font-family=\"Helvetica,sans-Serif\" font-size=\"14.00\">class = 1</text>\n</g>\n<!-- 5&#45;&gt;11 -->\n<g id=\"edge11\" class=\"edge\">\n<title>5-&gt;11</title>\n<path fill=\"none\" stroke=\"black\" d=\"M317,-579.91C317,-569.2 317,-557.62 317,-546.78\"/>\n<polygon fill=\"black\" stroke=\"black\" points=\"320.5,-546.67 317,-536.67 313.5,-546.67 320.5,-546.67\"/>\n</g>\n<!-- 7 -->\n<g id=\"node8\" class=\"node\">\n<title>7</title>\n<polygon fill=\"#399de5\" stroke=\"black\" points=\"102,-417.5 0,-417.5 0,-349.5 102,-349.5 102,-417.5\"/>\n<text text-anchor=\"middle\" x=\"51\" y=\"-402.3\" font-family=\"Helvetica,sans-Serif\" font-size=\"14.00\">gini = 0.0</text>\n<text text-anchor=\"middle\" x=\"51\" y=\"-387.3\" font-family=\"Helvetica,sans-Serif\" font-size=\"14.00\">samples = 21</text>\n<text text-anchor=\"middle\" x=\"51\" y=\"-372.3\" font-family=\"Helvetica,sans-Serif\" font-size=\"14.00\">value = [0, 21]</text>\n<text text-anchor=\"middle\" x=\"51\" y=\"-357.3\" font-family=\"Helvetica,sans-Serif\" font-size=\"14.00\">class = 1</text>\n</g>\n<!-- 6&#45;&gt;7 -->\n<g id=\"edge7\" class=\"edge\">\n<title>6-&gt;7</title>\n<path fill=\"none\" stroke=\"black\" d=\"M128.06,-460.91C116.26,-449.21 103.4,-436.46 91.62,-424.78\"/>\n<polygon fill=\"black\" stroke=\"black\" points=\"94.02,-422.22 84.45,-417.67 89.09,-427.19 94.02,-422.22\"/>\n</g>\n<!-- 8 -->\n<g id=\"node9\" class=\"node\">\n<title>8</title>\n<polygon fill=\"#fcefe6\" stroke=\"black\" points=\"231.5,-425 120.5,-425 120.5,-342 231.5,-342 231.5,-425\"/>\n<text text-anchor=\"middle\" x=\"176\" y=\"-409.8\" font-family=\"Helvetica,sans-Serif\" font-size=\"14.00\">lug_boot &lt;= 1.5</text>\n<text text-anchor=\"middle\" x=\"176\" y=\"-394.8\" font-family=\"Helvetica,sans-Serif\" font-size=\"14.00\">gini = 0.498</text>\n<text text-anchor=\"middle\" x=\"176\" y=\"-379.8\" font-family=\"Helvetica,sans-Serif\" font-size=\"14.00\">samples = 15</text>\n<text text-anchor=\"middle\" x=\"176\" y=\"-364.8\" font-family=\"Helvetica,sans-Serif\" font-size=\"14.00\">value = [8, 7]</text>\n<text text-anchor=\"middle\" x=\"176\" y=\"-349.8\" font-family=\"Helvetica,sans-Serif\" font-size=\"14.00\">class = 0</text>\n</g>\n<!-- 6&#45;&gt;8 -->\n<g id=\"edge8\" class=\"edge\">\n<title>6-&gt;8</title>\n<path fill=\"none\" stroke=\"black\" d=\"M171.43,-460.91C171.93,-452.56 172.46,-443.67 172.98,-435.02\"/>\n<polygon fill=\"black\" stroke=\"black\" points=\"176.47,-435.21 173.58,-425.02 169.48,-434.79 176.47,-435.21\"/>\n</g>\n<!-- 9 -->\n<g id=\"node10\" class=\"node\">\n<title>9</title>\n<polygon fill=\"#399de5\" stroke=\"black\" points=\"114.5,-298.5 19.5,-298.5 19.5,-230.5 114.5,-230.5 114.5,-298.5\"/>\n<text text-anchor=\"middle\" x=\"67\" y=\"-283.3\" font-family=\"Helvetica,sans-Serif\" font-size=\"14.00\">gini = 0.0</text>\n<text text-anchor=\"middle\" x=\"67\" y=\"-268.3\" font-family=\"Helvetica,sans-Serif\" font-size=\"14.00\">samples = 7</text>\n<text text-anchor=\"middle\" x=\"67\" y=\"-253.3\" font-family=\"Helvetica,sans-Serif\" font-size=\"14.00\">value = [0, 7]</text>\n<text text-anchor=\"middle\" x=\"67\" y=\"-238.3\" font-family=\"Helvetica,sans-Serif\" font-size=\"14.00\">class = 1</text>\n</g>\n<!-- 8&#45;&gt;9 -->\n<g id=\"edge9\" class=\"edge\">\n<title>8-&gt;9</title>\n<path fill=\"none\" stroke=\"black\" d=\"M138.18,-341.91C127.39,-330.32 115.63,-317.7 104.83,-306.11\"/>\n<polygon fill=\"black\" stroke=\"black\" points=\"107.28,-303.6 97.9,-298.67 102.15,-308.37 107.28,-303.6\"/>\n</g>\n<!-- 10 -->\n<g id=\"node11\" class=\"node\">\n<title>10</title>\n<polygon fill=\"#e58139\" stroke=\"black\" points=\"227.5,-298.5 132.5,-298.5 132.5,-230.5 227.5,-230.5 227.5,-298.5\"/>\n<text text-anchor=\"middle\" x=\"180\" y=\"-283.3\" font-family=\"Helvetica,sans-Serif\" font-size=\"14.00\">gini = 0.0</text>\n<text text-anchor=\"middle\" x=\"180\" y=\"-268.3\" font-family=\"Helvetica,sans-Serif\" font-size=\"14.00\">samples = 8</text>\n<text text-anchor=\"middle\" x=\"180\" y=\"-253.3\" font-family=\"Helvetica,sans-Serif\" font-size=\"14.00\">value = [8, 0]</text>\n<text text-anchor=\"middle\" x=\"180\" y=\"-238.3\" font-family=\"Helvetica,sans-Serif\" font-size=\"14.00\">class = 0</text>\n</g>\n<!-- 8&#45;&gt;10 -->\n<g id=\"edge10\" class=\"edge\">\n<title>8-&gt;10</title>\n<path fill=\"none\" stroke=\"black\" d=\"M177.39,-341.91C177.75,-331.2 178.15,-319.62 178.52,-308.78\"/>\n<polygon fill=\"black\" stroke=\"black\" points=\"182.02,-308.78 178.87,-298.67 175.03,-308.54 182.02,-308.78\"/>\n</g>\n<!-- 13 -->\n<g id=\"node14\" class=\"node\">\n<title>13</title>\n<polygon fill=\"#e58139\" stroke=\"black\" points=\"492,-536.5 390,-536.5 390,-468.5 492,-468.5 492,-536.5\"/>\n<text text-anchor=\"middle\" x=\"441\" y=\"-521.3\" font-family=\"Helvetica,sans-Serif\" font-size=\"14.00\">gini = 0.0</text>\n<text text-anchor=\"middle\" x=\"441\" y=\"-506.3\" font-family=\"Helvetica,sans-Serif\" font-size=\"14.00\">samples = 16</text>\n<text text-anchor=\"middle\" x=\"441\" y=\"-491.3\" font-family=\"Helvetica,sans-Serif\" font-size=\"14.00\">value = [16, 0]</text>\n<text text-anchor=\"middle\" x=\"441\" y=\"-476.3\" font-family=\"Helvetica,sans-Serif\" font-size=\"14.00\">class = 0</text>\n</g>\n<!-- 12&#45;&gt;13 -->\n<g id=\"edge13\" class=\"edge\">\n<title>12-&gt;13</title>\n<path fill=\"none\" stroke=\"black\" d=\"M495.2,-579.91C487.22,-568.65 478.54,-556.42 470.52,-545.11\"/>\n<polygon fill=\"black\" stroke=\"black\" points=\"473.17,-542.8 464.53,-536.67 467.46,-546.85 473.17,-542.8\"/>\n</g>\n<!-- 14 -->\n<g id=\"node15\" class=\"node\">\n<title>14</title>\n<polygon fill=\"#46a3e7\" stroke=\"black\" points=\"644,-544 510,-544 510,-461 644,-461 644,-544\"/>\n<text text-anchor=\"middle\" x=\"577\" y=\"-528.8\" font-family=\"Helvetica,sans-Serif\" font-size=\"14.00\">no_of_doors &lt;= 0.5</text>\n<text text-anchor=\"middle\" x=\"577\" y=\"-513.8\" font-family=\"Helvetica,sans-Serif\" font-size=\"14.00\">gini = 0.114</text>\n<text text-anchor=\"middle\" x=\"577\" y=\"-498.8\" font-family=\"Helvetica,sans-Serif\" font-size=\"14.00\">samples = 33</text>\n<text text-anchor=\"middle\" x=\"577\" y=\"-483.8\" font-family=\"Helvetica,sans-Serif\" font-size=\"14.00\">value = [2, 31]</text>\n<text text-anchor=\"middle\" x=\"577\" y=\"-468.8\" font-family=\"Helvetica,sans-Serif\" font-size=\"14.00\">class = 1</text>\n</g>\n<!-- 12&#45;&gt;14 -->\n<g id=\"edge14\" class=\"edge\">\n<title>12-&gt;14</title>\n<path fill=\"none\" stroke=\"black\" d=\"M542.39,-579.91C546.29,-571.29 550.46,-562.09 554.5,-553.17\"/>\n<polygon fill=\"black\" stroke=\"black\" points=\"557.71,-554.57 558.64,-544.02 551.33,-551.69 557.71,-554.57\"/>\n</g>\n<!-- 15 -->\n<g id=\"node16\" class=\"node\">\n<title>15</title>\n<polygon fill=\"#65b3eb\" stroke=\"black\" points=\"503.5,-425 392.5,-425 392.5,-342 503.5,-342 503.5,-425\"/>\n<text text-anchor=\"middle\" x=\"448\" y=\"-409.8\" font-family=\"Helvetica,sans-Serif\" font-size=\"14.00\">lug_boot &lt;= 1.5</text>\n<text text-anchor=\"middle\" x=\"448\" y=\"-394.8\" font-family=\"Helvetica,sans-Serif\" font-size=\"14.00\">gini = 0.298</text>\n<text text-anchor=\"middle\" x=\"448\" y=\"-379.8\" font-family=\"Helvetica,sans-Serif\" font-size=\"14.00\">samples = 11</text>\n<text text-anchor=\"middle\" x=\"448\" y=\"-364.8\" font-family=\"Helvetica,sans-Serif\" font-size=\"14.00\">value = [2, 9]</text>\n<text text-anchor=\"middle\" x=\"448\" y=\"-349.8\" font-family=\"Helvetica,sans-Serif\" font-size=\"14.00\">class = 1</text>\n</g>\n<!-- 14&#45;&gt;15 -->\n<g id=\"edge15\" class=\"edge\">\n<title>14-&gt;15</title>\n<path fill=\"none\" stroke=\"black\" d=\"M532.24,-460.91C521.94,-451.56 510.89,-441.54 500.29,-431.93\"/>\n<polygon fill=\"black\" stroke=\"black\" points=\"502.44,-429.15 492.68,-425.02 497.73,-434.33 502.44,-429.15\"/>\n</g>\n<!-- 20 -->\n<g id=\"node21\" class=\"node\">\n<title>20</title>\n<polygon fill=\"#399de5\" stroke=\"black\" points=\"628,-417.5 526,-417.5 526,-349.5 628,-349.5 628,-417.5\"/>\n<text text-anchor=\"middle\" x=\"577\" y=\"-402.3\" font-family=\"Helvetica,sans-Serif\" font-size=\"14.00\">gini = 0.0</text>\n<text text-anchor=\"middle\" x=\"577\" y=\"-387.3\" font-family=\"Helvetica,sans-Serif\" font-size=\"14.00\">samples = 22</text>\n<text text-anchor=\"middle\" x=\"577\" y=\"-372.3\" font-family=\"Helvetica,sans-Serif\" font-size=\"14.00\">value = [0, 22]</text>\n<text text-anchor=\"middle\" x=\"577\" y=\"-357.3\" font-family=\"Helvetica,sans-Serif\" font-size=\"14.00\">class = 1</text>\n</g>\n<!-- 14&#45;&gt;20 -->\n<g id=\"edge20\" class=\"edge\">\n<title>14-&gt;20</title>\n<path fill=\"none\" stroke=\"black\" d=\"M577,-460.91C577,-450.2 577,-438.62 577,-427.78\"/>\n<polygon fill=\"black\" stroke=\"black\" points=\"580.5,-427.67 577,-417.67 573.5,-427.67 580.5,-427.67\"/>\n</g>\n<!-- 16 -->\n<g id=\"node17\" class=\"node\">\n<title>16</title>\n<polygon fill=\"#399de5\" stroke=\"black\" points=\"355.5,-298.5 260.5,-298.5 260.5,-230.5 355.5,-230.5 355.5,-298.5\"/>\n<text text-anchor=\"middle\" x=\"308\" y=\"-283.3\" font-family=\"Helvetica,sans-Serif\" font-size=\"14.00\">gini = 0.0</text>\n<text text-anchor=\"middle\" x=\"308\" y=\"-268.3\" font-family=\"Helvetica,sans-Serif\" font-size=\"14.00\">samples = 7</text>\n<text text-anchor=\"middle\" x=\"308\" y=\"-253.3\" font-family=\"Helvetica,sans-Serif\" font-size=\"14.00\">value = [0, 7]</text>\n<text text-anchor=\"middle\" x=\"308\" y=\"-238.3\" font-family=\"Helvetica,sans-Serif\" font-size=\"14.00\">class = 1</text>\n</g>\n<!-- 15&#45;&gt;16 -->\n<g id=\"edge16\" class=\"edge\">\n<title>15-&gt;16</title>\n<path fill=\"none\" stroke=\"black\" d=\"M399.43,-341.91C385.17,-329.99 369.59,-316.98 355.41,-305.12\"/>\n<polygon fill=\"black\" stroke=\"black\" points=\"357.6,-302.39 347.69,-298.67 353.12,-307.77 357.6,-302.39\"/>\n</g>\n<!-- 17 -->\n<g id=\"node18\" class=\"node\">\n<title>17</title>\n<polygon fill=\"#ffffff\" stroke=\"black\" points=\"522.5,-306 373.5,-306 373.5,-223 522.5,-223 522.5,-306\"/>\n<text text-anchor=\"middle\" x=\"448\" y=\"-290.8\" font-family=\"Helvetica,sans-Serif\" font-size=\"14.00\">no_of_persons &lt;= 1.5</text>\n<text text-anchor=\"middle\" x=\"448\" y=\"-275.8\" font-family=\"Helvetica,sans-Serif\" font-size=\"14.00\">gini = 0.5</text>\n<text text-anchor=\"middle\" x=\"448\" y=\"-260.8\" font-family=\"Helvetica,sans-Serif\" font-size=\"14.00\">samples = 4</text>\n<text text-anchor=\"middle\" x=\"448\" y=\"-245.8\" font-family=\"Helvetica,sans-Serif\" font-size=\"14.00\">value = [2, 2]</text>\n<text text-anchor=\"middle\" x=\"448\" y=\"-230.8\" font-family=\"Helvetica,sans-Serif\" font-size=\"14.00\">class = 0</text>\n</g>\n<!-- 15&#45;&gt;17 -->\n<g id=\"edge17\" class=\"edge\">\n<title>15-&gt;17</title>\n<path fill=\"none\" stroke=\"black\" d=\"M448,-341.91C448,-333.65 448,-324.86 448,-316.3\"/>\n<polygon fill=\"black\" stroke=\"black\" points=\"451.5,-316.02 448,-306.02 444.5,-316.02 451.5,-316.02\"/>\n</g>\n<!-- 18 -->\n<g id=\"node19\" class=\"node\">\n<title>18</title>\n<polygon fill=\"#399de5\" stroke=\"black\" points=\"409.5,-179.5 314.5,-179.5 314.5,-111.5 409.5,-111.5 409.5,-179.5\"/>\n<text text-anchor=\"middle\" x=\"362\" y=\"-164.3\" font-family=\"Helvetica,sans-Serif\" font-size=\"14.00\">gini = 0.0</text>\n<text text-anchor=\"middle\" x=\"362\" y=\"-149.3\" font-family=\"Helvetica,sans-Serif\" font-size=\"14.00\">samples = 2</text>\n<text text-anchor=\"middle\" x=\"362\" y=\"-134.3\" font-family=\"Helvetica,sans-Serif\" font-size=\"14.00\">value = [0, 2]</text>\n<text text-anchor=\"middle\" x=\"362\" y=\"-119.3\" font-family=\"Helvetica,sans-Serif\" font-size=\"14.00\">class = 1</text>\n</g>\n<!-- 17&#45;&gt;18 -->\n<g id=\"edge18\" class=\"edge\">\n<title>17-&gt;18</title>\n<path fill=\"none\" stroke=\"black\" d=\"M418.16,-222.91C409.81,-211.54 400.72,-199.18 392.34,-187.77\"/>\n<polygon fill=\"black\" stroke=\"black\" points=\"395.12,-185.65 386.38,-179.67 389.48,-189.8 395.12,-185.65\"/>\n</g>\n<!-- 19 -->\n<g id=\"node20\" class=\"node\">\n<title>19</title>\n<polygon fill=\"#e58139\" stroke=\"black\" points=\"522.5,-179.5 427.5,-179.5 427.5,-111.5 522.5,-111.5 522.5,-179.5\"/>\n<text text-anchor=\"middle\" x=\"475\" y=\"-164.3\" font-family=\"Helvetica,sans-Serif\" font-size=\"14.00\">gini = 0.0</text>\n<text text-anchor=\"middle\" x=\"475\" y=\"-149.3\" font-family=\"Helvetica,sans-Serif\" font-size=\"14.00\">samples = 2</text>\n<text text-anchor=\"middle\" x=\"475\" y=\"-134.3\" font-family=\"Helvetica,sans-Serif\" font-size=\"14.00\">value = [2, 0]</text>\n<text text-anchor=\"middle\" x=\"475\" y=\"-119.3\" font-family=\"Helvetica,sans-Serif\" font-size=\"14.00\">class = 0</text>\n</g>\n<!-- 17&#45;&gt;19 -->\n<g id=\"edge19\" class=\"edge\">\n<title>17-&gt;19</title>\n<path fill=\"none\" stroke=\"black\" d=\"M457.37,-222.91C459.86,-212.09 462.57,-200.38 465.09,-189.44\"/>\n<polygon fill=\"black\" stroke=\"black\" points=\"468.51,-190.2 467.35,-179.67 461.69,-188.62 468.51,-190.2\"/>\n</g>\n<!-- 22 -->\n<g id=\"node23\" class=\"node\">\n<title>22</title>\n<polygon fill=\"#e58139\" stroke=\"black\" points=\"835,-655.5 733,-655.5 733,-587.5 835,-587.5 835,-655.5\"/>\n<text text-anchor=\"middle\" x=\"784\" y=\"-640.3\" font-family=\"Helvetica,sans-Serif\" font-size=\"14.00\">gini = 0.0</text>\n<text text-anchor=\"middle\" x=\"784\" y=\"-625.3\" font-family=\"Helvetica,sans-Serif\" font-size=\"14.00\">samples = 17</text>\n<text text-anchor=\"middle\" x=\"784\" y=\"-610.3\" font-family=\"Helvetica,sans-Serif\" font-size=\"14.00\">value = [17, 0]</text>\n<text text-anchor=\"middle\" x=\"784\" y=\"-595.3\" font-family=\"Helvetica,sans-Serif\" font-size=\"14.00\">class = 0</text>\n</g>\n<!-- 21&#45;&gt;22 -->\n<g id=\"edge22\" class=\"edge\">\n<title>21-&gt;22</title>\n<path fill=\"none\" stroke=\"black\" d=\"M818.61,-698.91C813.66,-687.98 808.3,-676.14 803.3,-665.11\"/>\n<polygon fill=\"black\" stroke=\"black\" points=\"806.34,-663.33 799.02,-655.67 799.96,-666.22 806.34,-663.33\"/>\n</g>\n<!-- 23 -->\n<g id=\"node24\" class=\"node\">\n<title>23</title>\n<polygon fill=\"#afd7f4\" stroke=\"black\" points=\"1023,-663 853,-663 853,-580 1023,-580 1023,-663\"/>\n<text text-anchor=\"middle\" x=\"938\" y=\"-647.8\" font-family=\"Helvetica,sans-Serif\" font-size=\"14.00\">maintenance_cost &lt;= 2.5</text>\n<text text-anchor=\"middle\" x=\"938\" y=\"-632.8\" font-family=\"Helvetica,sans-Serif\" font-size=\"14.00\">gini = 0.468</text>\n<text text-anchor=\"middle\" x=\"938\" y=\"-617.8\" font-family=\"Helvetica,sans-Serif\" font-size=\"14.00\">samples = 51</text>\n<text text-anchor=\"middle\" x=\"938\" y=\"-602.8\" font-family=\"Helvetica,sans-Serif\" font-size=\"14.00\">value = [19, 32]</text>\n<text text-anchor=\"middle\" x=\"938\" y=\"-587.8\" font-family=\"Helvetica,sans-Serif\" font-size=\"14.00\">class = 1</text>\n</g>\n<!-- 21&#45;&gt;23 -->\n<g id=\"edge23\" class=\"edge\">\n<title>21-&gt;23</title>\n<path fill=\"none\" stroke=\"black\" d=\"M872.04,-698.91C879.88,-689.83 888.26,-680.12 896.33,-670.77\"/>\n<polygon fill=\"black\" stroke=\"black\" points=\"899.14,-672.88 903.02,-663.02 893.84,-668.3 899.14,-672.88\"/>\n</g>\n<!-- 24 -->\n<g id=\"node25\" class=\"node\">\n<title>24</title>\n<polygon fill=\"#45a3e7\" stroke=\"black\" points=\"898,-544 764,-544 764,-461 898,-461 898,-544\"/>\n<text text-anchor=\"middle\" x=\"831\" y=\"-528.8\" font-family=\"Helvetica,sans-Serif\" font-size=\"14.00\">no_of_doors &lt;= 0.5</text>\n<text text-anchor=\"middle\" x=\"831\" y=\"-513.8\" font-family=\"Helvetica,sans-Serif\" font-size=\"14.00\">gini = 0.111</text>\n<text text-anchor=\"middle\" x=\"831\" y=\"-498.8\" font-family=\"Helvetica,sans-Serif\" font-size=\"14.00\">samples = 34</text>\n<text text-anchor=\"middle\" x=\"831\" y=\"-483.8\" font-family=\"Helvetica,sans-Serif\" font-size=\"14.00\">value = [2, 32]</text>\n<text text-anchor=\"middle\" x=\"831\" y=\"-468.8\" font-family=\"Helvetica,sans-Serif\" font-size=\"14.00\">class = 1</text>\n</g>\n<!-- 23&#45;&gt;24 -->\n<g id=\"edge24\" class=\"edge\">\n<title>23-&gt;24</title>\n<path fill=\"none\" stroke=\"black\" d=\"M900.88,-579.91C892.49,-570.74 883.52,-560.93 874.89,-551.49\"/>\n<polygon fill=\"black\" stroke=\"black\" points=\"877.39,-549.04 868.06,-544.02 872.22,-553.76 877.39,-549.04\"/>\n</g>\n<!-- 31 -->\n<g id=\"node32\" class=\"node\">\n<title>31</title>\n<polygon fill=\"#e58139\" stroke=\"black\" points=\"1018,-536.5 916,-536.5 916,-468.5 1018,-468.5 1018,-536.5\"/>\n<text text-anchor=\"middle\" x=\"967\" y=\"-521.3\" font-family=\"Helvetica,sans-Serif\" font-size=\"14.00\">gini = 0.0</text>\n<text text-anchor=\"middle\" x=\"967\" y=\"-506.3\" font-family=\"Helvetica,sans-Serif\" font-size=\"14.00\">samples = 17</text>\n<text text-anchor=\"middle\" x=\"967\" y=\"-491.3\" font-family=\"Helvetica,sans-Serif\" font-size=\"14.00\">value = [17, 0]</text>\n<text text-anchor=\"middle\" x=\"967\" y=\"-476.3\" font-family=\"Helvetica,sans-Serif\" font-size=\"14.00\">class = 0</text>\n</g>\n<!-- 23&#45;&gt;31 -->\n<g id=\"edge31\" class=\"edge\">\n<title>23-&gt;31</title>\n<path fill=\"none\" stroke=\"black\" d=\"M948.06,-579.91C950.74,-569.09 953.65,-557.38 956.36,-546.44\"/>\n<polygon fill=\"black\" stroke=\"black\" points=\"959.77,-547.22 958.78,-536.67 952.98,-545.53 959.77,-547.22\"/>\n</g>\n<!-- 25 -->\n<g id=\"node26\" class=\"node\">\n<title>25</title>\n<polygon fill=\"#65b3eb\" stroke=\"black\" points=\"776.5,-425 665.5,-425 665.5,-342 776.5,-342 776.5,-425\"/>\n<text text-anchor=\"middle\" x=\"721\" y=\"-409.8\" font-family=\"Helvetica,sans-Serif\" font-size=\"14.00\">lug_boot &lt;= 1.5</text>\n<text text-anchor=\"middle\" x=\"721\" y=\"-394.8\" font-family=\"Helvetica,sans-Serif\" font-size=\"14.00\">gini = 0.298</text>\n<text text-anchor=\"middle\" x=\"721\" y=\"-379.8\" font-family=\"Helvetica,sans-Serif\" font-size=\"14.00\">samples = 11</text>\n<text text-anchor=\"middle\" x=\"721\" y=\"-364.8\" font-family=\"Helvetica,sans-Serif\" font-size=\"14.00\">value = [2, 9]</text>\n<text text-anchor=\"middle\" x=\"721\" y=\"-349.8\" font-family=\"Helvetica,sans-Serif\" font-size=\"14.00\">class = 1</text>\n</g>\n<!-- 24&#45;&gt;25 -->\n<g id=\"edge25\" class=\"edge\">\n<title>24-&gt;25</title>\n<path fill=\"none\" stroke=\"black\" d=\"M792.84,-460.91C784.22,-451.74 774.99,-441.93 766.12,-432.49\"/>\n<polygon fill=\"black\" stroke=\"black\" points=\"768.5,-429.91 759.1,-425.02 763.4,-434.7 768.5,-429.91\"/>\n</g>\n<!-- 30 -->\n<g id=\"node31\" class=\"node\">\n<title>30</title>\n<polygon fill=\"#399de5\" stroke=\"black\" points=\"897,-417.5 795,-417.5 795,-349.5 897,-349.5 897,-417.5\"/>\n<text text-anchor=\"middle\" x=\"846\" y=\"-402.3\" font-family=\"Helvetica,sans-Serif\" font-size=\"14.00\">gini = 0.0</text>\n<text text-anchor=\"middle\" x=\"846\" y=\"-387.3\" font-family=\"Helvetica,sans-Serif\" font-size=\"14.00\">samples = 23</text>\n<text text-anchor=\"middle\" x=\"846\" y=\"-372.3\" font-family=\"Helvetica,sans-Serif\" font-size=\"14.00\">value = [0, 23]</text>\n<text text-anchor=\"middle\" x=\"846\" y=\"-357.3\" font-family=\"Helvetica,sans-Serif\" font-size=\"14.00\">class = 1</text>\n</g>\n<!-- 24&#45;&gt;30 -->\n<g id=\"edge30\" class=\"edge\">\n<title>24-&gt;30</title>\n<path fill=\"none\" stroke=\"black\" d=\"M836.2,-460.91C837.58,-450.2 839.06,-438.62 840.45,-427.78\"/>\n<polygon fill=\"black\" stroke=\"black\" points=\"843.95,-428.03 841.75,-417.67 837,-427.14 843.95,-428.03\"/>\n</g>\n<!-- 26 -->\n<g id=\"node27\" class=\"node\">\n<title>26</title>\n<polygon fill=\"#399de5\" stroke=\"black\" points=\"635.5,-298.5 540.5,-298.5 540.5,-230.5 635.5,-230.5 635.5,-298.5\"/>\n<text text-anchor=\"middle\" x=\"588\" y=\"-283.3\" font-family=\"Helvetica,sans-Serif\" font-size=\"14.00\">gini = 0.0</text>\n<text text-anchor=\"middle\" x=\"588\" y=\"-268.3\" font-family=\"Helvetica,sans-Serif\" font-size=\"14.00\">samples = 8</text>\n<text text-anchor=\"middle\" x=\"588\" y=\"-253.3\" font-family=\"Helvetica,sans-Serif\" font-size=\"14.00\">value = [0, 8]</text>\n<text text-anchor=\"middle\" x=\"588\" y=\"-238.3\" font-family=\"Helvetica,sans-Serif\" font-size=\"14.00\">class = 1</text>\n</g>\n<!-- 25&#45;&gt;26 -->\n<g id=\"edge26\" class=\"edge\">\n<title>25-&gt;26</title>\n<path fill=\"none\" stroke=\"black\" d=\"M674.86,-341.91C661.43,-330.1 646.79,-317.22 633.41,-305.45\"/>\n<polygon fill=\"black\" stroke=\"black\" points=\"635.52,-302.64 625.7,-298.67 630.9,-307.9 635.52,-302.64\"/>\n</g>\n<!-- 27 -->\n<g id=\"node28\" class=\"node\">\n<title>27</title>\n<polygon fill=\"#f2c09c\" stroke=\"black\" points=\"802.5,-306 653.5,-306 653.5,-223 802.5,-223 802.5,-306\"/>\n<text text-anchor=\"middle\" x=\"728\" y=\"-290.8\" font-family=\"Helvetica,sans-Serif\" font-size=\"14.00\">no_of_persons &lt;= 1.5</text>\n<text text-anchor=\"middle\" x=\"728\" y=\"-275.8\" font-family=\"Helvetica,sans-Serif\" font-size=\"14.00\">gini = 0.444</text>\n<text text-anchor=\"middle\" x=\"728\" y=\"-260.8\" font-family=\"Helvetica,sans-Serif\" font-size=\"14.00\">samples = 3</text>\n<text text-anchor=\"middle\" x=\"728\" y=\"-245.8\" font-family=\"Helvetica,sans-Serif\" font-size=\"14.00\">value = [2, 1]</text>\n<text text-anchor=\"middle\" x=\"728\" y=\"-230.8\" font-family=\"Helvetica,sans-Serif\" font-size=\"14.00\">class = 0</text>\n</g>\n<!-- 25&#45;&gt;27 -->\n<g id=\"edge27\" class=\"edge\">\n<title>25-&gt;27</title>\n<path fill=\"none\" stroke=\"black\" d=\"M723.43,-341.91C723.93,-333.56 724.46,-324.67 724.98,-316.02\"/>\n<polygon fill=\"black\" stroke=\"black\" points=\"728.47,-316.21 725.58,-306.02 721.48,-315.79 728.47,-316.21\"/>\n</g>\n<!-- 28 -->\n<g id=\"node29\" class=\"node\">\n<title>28</title>\n<polygon fill=\"#399de5\" stroke=\"black\" points=\"662.5,-179.5 567.5,-179.5 567.5,-111.5 662.5,-111.5 662.5,-179.5\"/>\n<text text-anchor=\"middle\" x=\"615\" y=\"-164.3\" font-family=\"Helvetica,sans-Serif\" font-size=\"14.00\">gini = 0.0</text>\n<text text-anchor=\"middle\" x=\"615\" y=\"-149.3\" font-family=\"Helvetica,sans-Serif\" font-size=\"14.00\">samples = 1</text>\n<text text-anchor=\"middle\" x=\"615\" y=\"-134.3\" font-family=\"Helvetica,sans-Serif\" font-size=\"14.00\">value = [0, 1]</text>\n<text text-anchor=\"middle\" x=\"615\" y=\"-119.3\" font-family=\"Helvetica,sans-Serif\" font-size=\"14.00\">class = 1</text>\n</g>\n<!-- 27&#45;&gt;28 -->\n<g id=\"edge28\" class=\"edge\">\n<title>27-&gt;28</title>\n<path fill=\"none\" stroke=\"black\" d=\"M688.8,-222.91C677.61,-211.32 665.41,-198.7 654.22,-187.11\"/>\n<polygon fill=\"black\" stroke=\"black\" points=\"656.5,-184.43 647.03,-179.67 651.46,-189.29 656.5,-184.43\"/>\n</g>\n<!-- 29 -->\n<g id=\"node30\" class=\"node\">\n<title>29</title>\n<polygon fill=\"#e58139\" stroke=\"black\" points=\"775.5,-179.5 680.5,-179.5 680.5,-111.5 775.5,-111.5 775.5,-179.5\"/>\n<text text-anchor=\"middle\" x=\"728\" y=\"-164.3\" font-family=\"Helvetica,sans-Serif\" font-size=\"14.00\">gini = 0.0</text>\n<text text-anchor=\"middle\" x=\"728\" y=\"-149.3\" font-family=\"Helvetica,sans-Serif\" font-size=\"14.00\">samples = 2</text>\n<text text-anchor=\"middle\" x=\"728\" y=\"-134.3\" font-family=\"Helvetica,sans-Serif\" font-size=\"14.00\">value = [2, 0]</text>\n<text text-anchor=\"middle\" x=\"728\" y=\"-119.3\" font-family=\"Helvetica,sans-Serif\" font-size=\"14.00\">class = 0</text>\n</g>\n<!-- 27&#45;&gt;29 -->\n<g id=\"edge29\" class=\"edge\">\n<title>27-&gt;29</title>\n<path fill=\"none\" stroke=\"black\" d=\"M728,-222.91C728,-212.2 728,-200.62 728,-189.78\"/>\n<polygon fill=\"black\" stroke=\"black\" points=\"731.5,-189.67 728,-179.67 724.5,-189.67 731.5,-189.67\"/>\n</g>\n<!-- 33 -->\n<g id=\"node34\" class=\"node\">\n<title>33</title>\n<polygon fill=\"#e58139\" stroke=\"black\" points=\"1180,-774.5 1070,-774.5 1070,-706.5 1180,-706.5 1180,-774.5\"/>\n<text text-anchor=\"middle\" x=\"1125\" y=\"-759.3\" font-family=\"Helvetica,sans-Serif\" font-size=\"14.00\">gini = 0.0</text>\n<text text-anchor=\"middle\" x=\"1125\" y=\"-744.3\" font-family=\"Helvetica,sans-Serif\" font-size=\"14.00\">samples = 269</text>\n<text text-anchor=\"middle\" x=\"1125\" y=\"-729.3\" font-family=\"Helvetica,sans-Serif\" font-size=\"14.00\">value = [269, 0]</text>\n<text text-anchor=\"middle\" x=\"1125\" y=\"-714.3\" font-family=\"Helvetica,sans-Serif\" font-size=\"14.00\">class = 0</text>\n</g>\n<!-- 32&#45;&gt;33 -->\n<g id=\"edge33\" class=\"edge\">\n<title>32-&gt;33</title>\n<path fill=\"none\" stroke=\"black\" d=\"M1125,-817.91C1125,-807.2 1125,-795.62 1125,-784.78\"/>\n<polygon fill=\"black\" stroke=\"black\" points=\"1128.5,-784.67 1125,-774.67 1121.5,-784.67 1128.5,-784.67\"/>\n</g>\n<!-- 34 -->\n<g id=\"node35\" class=\"node\">\n<title>34</title>\n<polygon fill=\"#d6ebfa\" stroke=\"black\" points=\"1407.5,-782 1282.5,-782 1282.5,-699 1407.5,-699 1407.5,-782\"/>\n<text text-anchor=\"middle\" x=\"1345\" y=\"-766.8\" font-family=\"Helvetica,sans-Serif\" font-size=\"14.00\">lug_boot &lt;= 1.5</text>\n<text text-anchor=\"middle\" x=\"1345\" y=\"-751.8\" font-family=\"Helvetica,sans-Serif\" font-size=\"14.00\">gini = 0.493</text>\n<text text-anchor=\"middle\" x=\"1345\" y=\"-736.8\" font-family=\"Helvetica,sans-Serif\" font-size=\"14.00\">samples = 283</text>\n<text text-anchor=\"middle\" x=\"1345\" y=\"-721.8\" font-family=\"Helvetica,sans-Serif\" font-size=\"14.00\">value = [125, 158]</text>\n<text text-anchor=\"middle\" x=\"1345\" y=\"-706.8\" font-family=\"Helvetica,sans-Serif\" font-size=\"14.00\">class = 1</text>\n</g>\n<!-- 32&#45;&gt;34 -->\n<g id=\"edge34\" class=\"edge\">\n<title>32-&gt;34</title>\n<path fill=\"none\" stroke=\"black\" d=\"M1187.75,-825.13C1214.34,-810.99 1245.47,-794.43 1272.99,-779.8\"/>\n<polygon fill=\"black\" stroke=\"black\" points=\"1274.98,-782.7 1282.17,-774.92 1271.7,-776.52 1274.98,-782.7\"/>\n</g>\n<!-- 35 -->\n<g id=\"node36\" class=\"node\">\n<title>35</title>\n<polygon fill=\"#89c4ef\" stroke=\"black\" points=\"1430,-663 1260,-663 1260,-580 1430,-580 1430,-663\"/>\n<text text-anchor=\"middle\" x=\"1345\" y=\"-647.8\" font-family=\"Helvetica,sans-Serif\" font-size=\"14.00\">maintenance_cost &lt;= 2.5</text>\n<text text-anchor=\"middle\" x=\"1345\" y=\"-632.8\" font-family=\"Helvetica,sans-Serif\" font-size=\"14.00\">gini = 0.409</text>\n<text text-anchor=\"middle\" x=\"1345\" y=\"-617.8\" font-family=\"Helvetica,sans-Serif\" font-size=\"14.00\">samples = 188</text>\n<text text-anchor=\"middle\" x=\"1345\" y=\"-602.8\" font-family=\"Helvetica,sans-Serif\" font-size=\"14.00\">value = [54, 134]</text>\n<text text-anchor=\"middle\" x=\"1345\" y=\"-587.8\" font-family=\"Helvetica,sans-Serif\" font-size=\"14.00\">class = 1</text>\n</g>\n<!-- 34&#45;&gt;35 -->\n<g id=\"edge35\" class=\"edge\">\n<title>34-&gt;35</title>\n<path fill=\"none\" stroke=\"black\" d=\"M1345,-698.91C1345,-690.65 1345,-681.86 1345,-673.3\"/>\n<polygon fill=\"black\" stroke=\"black\" points=\"1348.5,-673.02 1345,-663.02 1341.5,-673.02 1348.5,-673.02\"/>\n</g>\n<!-- 62 -->\n<g id=\"node63\" class=\"node\">\n<title>62</title>\n<polygon fill=\"#eeac7c\" stroke=\"black\" points=\"1706,-663 1570,-663 1570,-580 1706,-580 1706,-663\"/>\n<text text-anchor=\"middle\" x=\"1638\" y=\"-647.8\" font-family=\"Helvetica,sans-Serif\" font-size=\"14.00\">buying_price &lt;= 0.5</text>\n<text text-anchor=\"middle\" x=\"1638\" y=\"-632.8\" font-family=\"Helvetica,sans-Serif\" font-size=\"14.00\">gini = 0.378</text>\n<text text-anchor=\"middle\" x=\"1638\" y=\"-617.8\" font-family=\"Helvetica,sans-Serif\" font-size=\"14.00\">samples = 95</text>\n<text text-anchor=\"middle\" x=\"1638\" y=\"-602.8\" font-family=\"Helvetica,sans-Serif\" font-size=\"14.00\">value = [71, 24]</text>\n<text text-anchor=\"middle\" x=\"1638\" y=\"-587.8\" font-family=\"Helvetica,sans-Serif\" font-size=\"14.00\">class = 0</text>\n</g>\n<!-- 34&#45;&gt;62 -->\n<g id=\"edge62\" class=\"edge\">\n<title>34-&gt;62</title>\n<path fill=\"none\" stroke=\"black\" d=\"M1407.86,-714.4C1452.55,-696.55 1512.86,-672.47 1560.53,-653.44\"/>\n<polygon fill=\"black\" stroke=\"black\" points=\"1561.89,-656.66 1569.88,-649.7 1559.3,-650.16 1561.89,-656.66\"/>\n</g>\n<!-- 36 -->\n<g id=\"node37\" class=\"node\">\n<title>36</title>\n<polygon fill=\"#62b1ea\" stroke=\"black\" points=\"1336,-544 1200,-544 1200,-461 1336,-461 1336,-544\"/>\n<text text-anchor=\"middle\" x=\"1268\" y=\"-528.8\" font-family=\"Helvetica,sans-Serif\" font-size=\"14.00\">buying_price &lt;= 2.5</text>\n<text text-anchor=\"middle\" x=\"1268\" y=\"-513.8\" font-family=\"Helvetica,sans-Serif\" font-size=\"14.00\">gini = 0.285</text>\n<text text-anchor=\"middle\" x=\"1268\" y=\"-498.8\" font-family=\"Helvetica,sans-Serif\" font-size=\"14.00\">samples = 145</text>\n<text text-anchor=\"middle\" x=\"1268\" y=\"-483.8\" font-family=\"Helvetica,sans-Serif\" font-size=\"14.00\">value = [25, 120]</text>\n<text text-anchor=\"middle\" x=\"1268\" y=\"-468.8\" font-family=\"Helvetica,sans-Serif\" font-size=\"14.00\">class = 1</text>\n</g>\n<!-- 35&#45;&gt;36 -->\n<g id=\"edge36\" class=\"edge\">\n<title>35-&gt;36</title>\n<path fill=\"none\" stroke=\"black\" d=\"M1318.29,-579.91C1312.49,-571.1 1306.3,-561.7 1300.32,-552.61\"/>\n<polygon fill=\"black\" stroke=\"black\" points=\"1303.09,-550.45 1294.67,-544.02 1297.24,-554.3 1303.09,-550.45\"/>\n</g>\n<!-- 53 -->\n<g id=\"node54\" class=\"node\">\n<title>53</title>\n<polygon fill=\"#f2be99\" stroke=\"black\" points=\"1490,-544 1354,-544 1354,-461 1490,-461 1490,-544\"/>\n<text text-anchor=\"middle\" x=\"1422\" y=\"-528.8\" font-family=\"Helvetica,sans-Serif\" font-size=\"14.00\">buying_price &lt;= 0.5</text>\n<text text-anchor=\"middle\" x=\"1422\" y=\"-513.8\" font-family=\"Helvetica,sans-Serif\" font-size=\"14.00\">gini = 0.439</text>\n<text text-anchor=\"middle\" x=\"1422\" y=\"-498.8\" font-family=\"Helvetica,sans-Serif\" font-size=\"14.00\">samples = 43</text>\n<text text-anchor=\"middle\" x=\"1422\" y=\"-483.8\" font-family=\"Helvetica,sans-Serif\" font-size=\"14.00\">value = [29, 14]</text>\n<text text-anchor=\"middle\" x=\"1422\" y=\"-468.8\" font-family=\"Helvetica,sans-Serif\" font-size=\"14.00\">class = 0</text>\n</g>\n<!-- 35&#45;&gt;53 -->\n<g id=\"edge53\" class=\"edge\">\n<title>35-&gt;53</title>\n<path fill=\"none\" stroke=\"black\" d=\"M1371.71,-579.91C1377.51,-571.1 1383.7,-561.7 1389.68,-552.61\"/>\n<polygon fill=\"black\" stroke=\"black\" points=\"1392.76,-554.3 1395.33,-544.02 1386.91,-550.45 1392.76,-554.3\"/>\n</g>\n<!-- 37 -->\n<g id=\"node38\" class=\"node\">\n<title>37</title>\n<polygon fill=\"#47a4e7\" stroke=\"black\" points=\"1164,-425 1030,-425 1030,-342 1164,-342 1164,-425\"/>\n<text text-anchor=\"middle\" x=\"1097\" y=\"-409.8\" font-family=\"Helvetica,sans-Serif\" font-size=\"14.00\">no_of_doors &lt;= 1.5</text>\n<text text-anchor=\"middle\" x=\"1097\" y=\"-394.8\" font-family=\"Helvetica,sans-Serif\" font-size=\"14.00\">gini = 0.12</text>\n<text text-anchor=\"middle\" x=\"1097\" y=\"-379.8\" font-family=\"Helvetica,sans-Serif\" font-size=\"14.00\">samples = 109</text>\n<text text-anchor=\"middle\" x=\"1097\" y=\"-364.8\" font-family=\"Helvetica,sans-Serif\" font-size=\"14.00\">value = [7, 102]</text>\n<text text-anchor=\"middle\" x=\"1097\" y=\"-349.8\" font-family=\"Helvetica,sans-Serif\" font-size=\"14.00\">class = 1</text>\n</g>\n<!-- 36&#45;&gt;37 -->\n<g id=\"edge37\" class=\"edge\">\n<title>36-&gt;37</title>\n<path fill=\"none\" stroke=\"black\" d=\"M1208.67,-460.91C1194.48,-451.2 1179.22,-440.76 1164.69,-430.81\"/>\n<polygon fill=\"black\" stroke=\"black\" points=\"1166.45,-427.78 1156.22,-425.02 1162.5,-433.56 1166.45,-427.78\"/>\n</g>\n<!-- 44 -->\n<g id=\"node45\" class=\"node\">\n<title>44</title>\n<polygon fill=\"#ffffff\" stroke=\"black\" points=\"1353,-425 1183,-425 1183,-342 1353,-342 1353,-425\"/>\n<text text-anchor=\"middle\" x=\"1268\" y=\"-409.8\" font-family=\"Helvetica,sans-Serif\" font-size=\"14.00\">maintenance_cost &lt;= 0.5</text>\n<text text-anchor=\"middle\" x=\"1268\" y=\"-394.8\" font-family=\"Helvetica,sans-Serif\" font-size=\"14.00\">gini = 0.5</text>\n<text text-anchor=\"middle\" x=\"1268\" y=\"-379.8\" font-family=\"Helvetica,sans-Serif\" font-size=\"14.00\">samples = 36</text>\n<text text-anchor=\"middle\" x=\"1268\" y=\"-364.8\" font-family=\"Helvetica,sans-Serif\" font-size=\"14.00\">value = [18, 18]</text>\n<text text-anchor=\"middle\" x=\"1268\" y=\"-349.8\" font-family=\"Helvetica,sans-Serif\" font-size=\"14.00\">class = 0</text>\n</g>\n<!-- 36&#45;&gt;44 -->\n<g id=\"edge44\" class=\"edge\">\n<title>36-&gt;44</title>\n<path fill=\"none\" stroke=\"black\" d=\"M1268,-460.91C1268,-452.65 1268,-443.86 1268,-435.3\"/>\n<polygon fill=\"black\" stroke=\"black\" points=\"1271.5,-435.02 1268,-425.02 1264.5,-435.02 1271.5,-435.02\"/>\n</g>\n<!-- 38 -->\n<g id=\"node39\" class=\"node\">\n<title>38</title>\n<polygon fill=\"#59ade9\" stroke=\"black\" points=\"1027.5,-306 916.5,-306 916.5,-223 1027.5,-223 1027.5,-306\"/>\n<text text-anchor=\"middle\" x=\"972\" y=\"-290.8\" font-family=\"Helvetica,sans-Serif\" font-size=\"14.00\">lug_boot &lt;= 0.5</text>\n<text text-anchor=\"middle\" x=\"972\" y=\"-275.8\" font-family=\"Helvetica,sans-Serif\" font-size=\"14.00\">gini = 0.241</text>\n<text text-anchor=\"middle\" x=\"972\" y=\"-260.8\" font-family=\"Helvetica,sans-Serif\" font-size=\"14.00\">samples = 50</text>\n<text text-anchor=\"middle\" x=\"972\" y=\"-245.8\" font-family=\"Helvetica,sans-Serif\" font-size=\"14.00\">value = [7, 43]</text>\n<text text-anchor=\"middle\" x=\"972\" y=\"-230.8\" font-family=\"Helvetica,sans-Serif\" font-size=\"14.00\">class = 1</text>\n</g>\n<!-- 37&#45;&gt;38 -->\n<g id=\"edge38\" class=\"edge\">\n<title>37-&gt;38</title>\n<path fill=\"none\" stroke=\"black\" d=\"M1053.63,-341.91C1043.65,-332.56 1032.94,-322.54 1022.67,-312.93\"/>\n<polygon fill=\"black\" stroke=\"black\" points=\"1024.98,-310.3 1015.29,-306.02 1020.2,-315.41 1024.98,-310.3\"/>\n</g>\n<!-- 43 -->\n<g id=\"node44\" class=\"node\">\n<title>43</title>\n<polygon fill=\"#399de5\" stroke=\"black\" points=\"1148,-298.5 1046,-298.5 1046,-230.5 1148,-230.5 1148,-298.5\"/>\n<text text-anchor=\"middle\" x=\"1097\" y=\"-283.3\" font-family=\"Helvetica,sans-Serif\" font-size=\"14.00\">gini = 0.0</text>\n<text text-anchor=\"middle\" x=\"1097\" y=\"-268.3\" font-family=\"Helvetica,sans-Serif\" font-size=\"14.00\">samples = 59</text>\n<text text-anchor=\"middle\" x=\"1097\" y=\"-253.3\" font-family=\"Helvetica,sans-Serif\" font-size=\"14.00\">value = [0, 59]</text>\n<text text-anchor=\"middle\" x=\"1097\" y=\"-238.3\" font-family=\"Helvetica,sans-Serif\" font-size=\"14.00\">class = 1</text>\n</g>\n<!-- 37&#45;&gt;43 -->\n<g id=\"edge43\" class=\"edge\">\n<title>37-&gt;43</title>\n<path fill=\"none\" stroke=\"black\" d=\"M1097,-341.91C1097,-331.2 1097,-319.62 1097,-308.78\"/>\n<polygon fill=\"black\" stroke=\"black\" points=\"1100.5,-308.67 1097,-298.67 1093.5,-308.67 1100.5,-308.67\"/>\n</g>\n<!-- 39 -->\n<g id=\"node40\" class=\"node\">\n<title>39</title>\n<polygon fill=\"#399de5\" stroke=\"black\" points=\"896,-179.5 794,-179.5 794,-111.5 896,-111.5 896,-179.5\"/>\n<text text-anchor=\"middle\" x=\"845\" y=\"-164.3\" font-family=\"Helvetica,sans-Serif\" font-size=\"14.00\">gini = 0.0</text>\n<text text-anchor=\"middle\" x=\"845\" y=\"-149.3\" font-family=\"Helvetica,sans-Serif\" font-size=\"14.00\">samples = 27</text>\n<text text-anchor=\"middle\" x=\"845\" y=\"-134.3\" font-family=\"Helvetica,sans-Serif\" font-size=\"14.00\">value = [0, 27]</text>\n<text text-anchor=\"middle\" x=\"845\" y=\"-119.3\" font-family=\"Helvetica,sans-Serif\" font-size=\"14.00\">class = 1</text>\n</g>\n<!-- 38&#45;&gt;39 -->\n<g id=\"edge39\" class=\"edge\">\n<title>38-&gt;39</title>\n<path fill=\"none\" stroke=\"black\" d=\"M927.94,-222.91C915.12,-211.1 901.14,-198.22 888.36,-186.45\"/>\n<polygon fill=\"black\" stroke=\"black\" points=\"890.73,-183.87 881,-179.67 885.98,-189.02 890.73,-183.87\"/>\n</g>\n<!-- 40 -->\n<g id=\"node41\" class=\"node\">\n<title>40</title>\n<polygon fill=\"#90c8f0\" stroke=\"black\" points=\"1050,-187 914,-187 914,-104 1050,-104 1050,-187\"/>\n<text text-anchor=\"middle\" x=\"982\" y=\"-171.8\" font-family=\"Helvetica,sans-Serif\" font-size=\"14.00\">buying_price &lt;= 0.5</text>\n<text text-anchor=\"middle\" x=\"982\" y=\"-156.8\" font-family=\"Helvetica,sans-Serif\" font-size=\"14.00\">gini = 0.423</text>\n<text text-anchor=\"middle\" x=\"982\" y=\"-141.8\" font-family=\"Helvetica,sans-Serif\" font-size=\"14.00\">samples = 23</text>\n<text text-anchor=\"middle\" x=\"982\" y=\"-126.8\" font-family=\"Helvetica,sans-Serif\" font-size=\"14.00\">value = [7, 16]</text>\n<text text-anchor=\"middle\" x=\"982\" y=\"-111.8\" font-family=\"Helvetica,sans-Serif\" font-size=\"14.00\">class = 1</text>\n</g>\n<!-- 38&#45;&gt;40 -->\n<g id=\"edge40\" class=\"edge\">\n<title>38-&gt;40</title>\n<path fill=\"none\" stroke=\"black\" d=\"M975.47,-222.91C976.18,-214.56 976.94,-205.67 977.68,-197.02\"/>\n<polygon fill=\"black\" stroke=\"black\" points=\"981.17,-197.28 978.54,-187.02 974.2,-196.69 981.17,-197.28\"/>\n</g>\n<!-- 41 -->\n<g id=\"node42\" class=\"node\">\n<title>41</title>\n<polygon fill=\"#efb388\" stroke=\"black\" points=\"912.5,-68 817.5,-68 817.5,0 912.5,0 912.5,-68\"/>\n<text text-anchor=\"middle\" x=\"865\" y=\"-52.8\" font-family=\"Helvetica,sans-Serif\" font-size=\"14.00\">gini = 0.408</text>\n<text text-anchor=\"middle\" x=\"865\" y=\"-37.8\" font-family=\"Helvetica,sans-Serif\" font-size=\"14.00\">samples = 7</text>\n<text text-anchor=\"middle\" x=\"865\" y=\"-22.8\" font-family=\"Helvetica,sans-Serif\" font-size=\"14.00\">value = [5, 2]</text>\n<text text-anchor=\"middle\" x=\"865\" y=\"-7.8\" font-family=\"Helvetica,sans-Serif\" font-size=\"14.00\">class = 0</text>\n</g>\n<!-- 40&#45;&gt;41 -->\n<g id=\"edge41\" class=\"edge\">\n<title>40-&gt;41</title>\n<path fill=\"none\" stroke=\"black\" d=\"M938.43,-103.73C928.49,-94.42 917.94,-84.54 908.02,-75.26\"/>\n<polygon fill=\"black\" stroke=\"black\" points=\"910.27,-72.58 900.58,-68.3 905.49,-77.69 910.27,-72.58\"/>\n</g>\n<!-- 42 -->\n<g id=\"node43\" class=\"node\">\n<title>42</title>\n<polygon fill=\"#55abe9\" stroke=\"black\" points=\"1033,-68 931,-68 931,0 1033,0 1033,-68\"/>\n<text text-anchor=\"middle\" x=\"982\" y=\"-52.8\" font-family=\"Helvetica,sans-Serif\" font-size=\"14.00\">gini = 0.219</text>\n<text text-anchor=\"middle\" x=\"982\" y=\"-37.8\" font-family=\"Helvetica,sans-Serif\" font-size=\"14.00\">samples = 16</text>\n<text text-anchor=\"middle\" x=\"982\" y=\"-22.8\" font-family=\"Helvetica,sans-Serif\" font-size=\"14.00\">value = [2, 14]</text>\n<text text-anchor=\"middle\" x=\"982\" y=\"-7.8\" font-family=\"Helvetica,sans-Serif\" font-size=\"14.00\">class = 1</text>\n</g>\n<!-- 40&#45;&gt;42 -->\n<g id=\"edge42\" class=\"edge\">\n<title>40-&gt;42</title>\n<path fill=\"none\" stroke=\"black\" d=\"M982,-103.73C982,-95.52 982,-86.86 982,-78.56\"/>\n<polygon fill=\"black\" stroke=\"black\" points=\"985.5,-78.3 982,-68.3 978.5,-78.3 985.5,-78.3\"/>\n</g>\n<!-- 45 -->\n<g id=\"node46\" class=\"node\">\n<title>45</title>\n<polygon fill=\"#e58139\" stroke=\"black\" points=\"1268,-298.5 1166,-298.5 1166,-230.5 1268,-230.5 1268,-298.5\"/>\n<text text-anchor=\"middle\" x=\"1217\" y=\"-283.3\" font-family=\"Helvetica,sans-Serif\" font-size=\"14.00\">gini = 0.0</text>\n<text text-anchor=\"middle\" x=\"1217\" y=\"-268.3\" font-family=\"Helvetica,sans-Serif\" font-size=\"14.00\">samples = 14</text>\n<text text-anchor=\"middle\" x=\"1217\" y=\"-253.3\" font-family=\"Helvetica,sans-Serif\" font-size=\"14.00\">value = [14, 0]</text>\n<text text-anchor=\"middle\" x=\"1217\" y=\"-238.3\" font-family=\"Helvetica,sans-Serif\" font-size=\"14.00\">class = 0</text>\n</g>\n<!-- 44&#45;&gt;45 -->\n<g id=\"edge45\" class=\"edge\">\n<title>44-&gt;45</title>\n<path fill=\"none\" stroke=\"black\" d=\"M1250.31,-341.91C1245.54,-330.98 1240.38,-319.14 1235.57,-308.11\"/>\n<polygon fill=\"black\" stroke=\"black\" points=\"1238.66,-306.44 1231.46,-298.67 1232.24,-309.23 1238.66,-306.44\"/>\n</g>\n<!-- 46 -->\n<g id=\"node47\" class=\"node\">\n<title>46</title>\n<polygon fill=\"#65b3eb\" stroke=\"black\" points=\"1420,-306 1286,-306 1286,-223 1420,-223 1420,-306\"/>\n<text text-anchor=\"middle\" x=\"1353\" y=\"-290.8\" font-family=\"Helvetica,sans-Serif\" font-size=\"14.00\">no_of_doors &lt;= 0.5</text>\n<text text-anchor=\"middle\" x=\"1353\" y=\"-275.8\" font-family=\"Helvetica,sans-Serif\" font-size=\"14.00\">gini = 0.298</text>\n<text text-anchor=\"middle\" x=\"1353\" y=\"-260.8\" font-family=\"Helvetica,sans-Serif\" font-size=\"14.00\">samples = 22</text>\n<text text-anchor=\"middle\" x=\"1353\" y=\"-245.8\" font-family=\"Helvetica,sans-Serif\" font-size=\"14.00\">value = [4, 18]</text>\n<text text-anchor=\"middle\" x=\"1353\" y=\"-230.8\" font-family=\"Helvetica,sans-Serif\" font-size=\"14.00\">class = 1</text>\n</g>\n<!-- 44&#45;&gt;46 -->\n<g id=\"edge46\" class=\"edge\">\n<title>44-&gt;46</title>\n<path fill=\"none\" stroke=\"black\" d=\"M1297.49,-341.91C1303.95,-333.01 1310.86,-323.51 1317.52,-314.33\"/>\n<polygon fill=\"black\" stroke=\"black\" points=\"1320.52,-316.17 1323.56,-306.02 1314.85,-312.05 1320.52,-316.17\"/>\n</g>\n<!-- 47 -->\n<g id=\"node48\" class=\"node\">\n<title>47</title>\n<polygon fill=\"#eeab7b\" stroke=\"black\" points=\"1267.5,-187 1156.5,-187 1156.5,-104 1267.5,-104 1267.5,-187\"/>\n<text text-anchor=\"middle\" x=\"1212\" y=\"-171.8\" font-family=\"Helvetica,sans-Serif\" font-size=\"14.00\">lug_boot &lt;= 0.5</text>\n<text text-anchor=\"middle\" x=\"1212\" y=\"-156.8\" font-family=\"Helvetica,sans-Serif\" font-size=\"14.00\">gini = 0.375</text>\n<text text-anchor=\"middle\" x=\"1212\" y=\"-141.8\" font-family=\"Helvetica,sans-Serif\" font-size=\"14.00\">samples = 4</text>\n<text text-anchor=\"middle\" x=\"1212\" y=\"-126.8\" font-family=\"Helvetica,sans-Serif\" font-size=\"14.00\">value = [3, 1]</text>\n<text text-anchor=\"middle\" x=\"1212\" y=\"-111.8\" font-family=\"Helvetica,sans-Serif\" font-size=\"14.00\">class = 0</text>\n</g>\n<!-- 46&#45;&gt;47 -->\n<g id=\"edge47\" class=\"edge\">\n<title>46-&gt;47</title>\n<path fill=\"none\" stroke=\"black\" d=\"M1304.08,-222.91C1292.71,-213.47 1280.5,-203.34 1268.82,-193.65\"/>\n<polygon fill=\"black\" stroke=\"black\" points=\"1270.76,-190.71 1260.83,-187.02 1266.29,-196.1 1270.76,-190.71\"/>\n</g>\n<!-- 50 -->\n<g id=\"node51\" class=\"node\">\n<title>50</title>\n<polygon fill=\"#45a3e7\" stroke=\"black\" points=\"1420,-187 1286,-187 1286,-104 1420,-104 1420,-187\"/>\n<text text-anchor=\"middle\" x=\"1353\" y=\"-171.8\" font-family=\"Helvetica,sans-Serif\" font-size=\"14.00\">no_of_doors &lt;= 1.5</text>\n<text text-anchor=\"middle\" x=\"1353\" y=\"-156.8\" font-family=\"Helvetica,sans-Serif\" font-size=\"14.00\">gini = 0.105</text>\n<text text-anchor=\"middle\" x=\"1353\" y=\"-141.8\" font-family=\"Helvetica,sans-Serif\" font-size=\"14.00\">samples = 18</text>\n<text text-anchor=\"middle\" x=\"1353\" y=\"-126.8\" font-family=\"Helvetica,sans-Serif\" font-size=\"14.00\">value = [1, 17]</text>\n<text text-anchor=\"middle\" x=\"1353\" y=\"-111.8\" font-family=\"Helvetica,sans-Serif\" font-size=\"14.00\">class = 1</text>\n</g>\n<!-- 46&#45;&gt;50 -->\n<g id=\"edge50\" class=\"edge\">\n<title>46-&gt;50</title>\n<path fill=\"none\" stroke=\"black\" d=\"M1353,-222.91C1353,-214.65 1353,-205.86 1353,-197.3\"/>\n<polygon fill=\"black\" stroke=\"black\" points=\"1356.5,-197.02 1353,-187.02 1349.5,-197.02 1356.5,-197.02\"/>\n</g>\n<!-- 48 -->\n<g id=\"node49\" class=\"node\">\n<title>48</title>\n<polygon fill=\"#399de5\" stroke=\"black\" points=\"1146.5,-68 1051.5,-68 1051.5,0 1146.5,0 1146.5,-68\"/>\n<text text-anchor=\"middle\" x=\"1099\" y=\"-52.8\" font-family=\"Helvetica,sans-Serif\" font-size=\"14.00\">gini = 0.0</text>\n<text text-anchor=\"middle\" x=\"1099\" y=\"-37.8\" font-family=\"Helvetica,sans-Serif\" font-size=\"14.00\">samples = 1</text>\n<text text-anchor=\"middle\" x=\"1099\" y=\"-22.8\" font-family=\"Helvetica,sans-Serif\" font-size=\"14.00\">value = [0, 1]</text>\n<text text-anchor=\"middle\" x=\"1099\" y=\"-7.8\" font-family=\"Helvetica,sans-Serif\" font-size=\"14.00\">class = 1</text>\n</g>\n<!-- 47&#45;&gt;48 -->\n<g id=\"edge48\" class=\"edge\">\n<title>47-&gt;48</title>\n<path fill=\"none\" stroke=\"black\" d=\"M1169.92,-103.73C1160.32,-94.42 1150.13,-84.54 1140.55,-75.26\"/>\n<polygon fill=\"black\" stroke=\"black\" points=\"1142.98,-72.75 1133.36,-68.3 1138.11,-77.77 1142.98,-72.75\"/>\n</g>\n<!-- 49 -->\n<g id=\"node50\" class=\"node\">\n<title>49</title>\n<polygon fill=\"#e58139\" stroke=\"black\" points=\"1259.5,-68 1164.5,-68 1164.5,0 1259.5,0 1259.5,-68\"/>\n<text text-anchor=\"middle\" x=\"1212\" y=\"-52.8\" font-family=\"Helvetica,sans-Serif\" font-size=\"14.00\">gini = 0.0</text>\n<text text-anchor=\"middle\" x=\"1212\" y=\"-37.8\" font-family=\"Helvetica,sans-Serif\" font-size=\"14.00\">samples = 3</text>\n<text text-anchor=\"middle\" x=\"1212\" y=\"-22.8\" font-family=\"Helvetica,sans-Serif\" font-size=\"14.00\">value = [3, 0]</text>\n<text text-anchor=\"middle\" x=\"1212\" y=\"-7.8\" font-family=\"Helvetica,sans-Serif\" font-size=\"14.00\">class = 0</text>\n</g>\n<!-- 47&#45;&gt;49 -->\n<g id=\"edge49\" class=\"edge\">\n<title>47-&gt;49</title>\n<path fill=\"none\" stroke=\"black\" d=\"M1212,-103.73C1212,-95.52 1212,-86.86 1212,-78.56\"/>\n<polygon fill=\"black\" stroke=\"black\" points=\"1215.5,-78.3 1212,-68.3 1208.5,-78.3 1215.5,-78.3\"/>\n</g>\n<!-- 51 -->\n<g id=\"node52\" class=\"node\">\n<title>51</title>\n<polygon fill=\"#61b1ea\" stroke=\"black\" points=\"1372.5,-68 1277.5,-68 1277.5,0 1372.5,0 1372.5,-68\"/>\n<text text-anchor=\"middle\" x=\"1325\" y=\"-52.8\" font-family=\"Helvetica,sans-Serif\" font-size=\"14.00\">gini = 0.278</text>\n<text text-anchor=\"middle\" x=\"1325\" y=\"-37.8\" font-family=\"Helvetica,sans-Serif\" font-size=\"14.00\">samples = 6</text>\n<text text-anchor=\"middle\" x=\"1325\" y=\"-22.8\" font-family=\"Helvetica,sans-Serif\" font-size=\"14.00\">value = [1, 5]</text>\n<text text-anchor=\"middle\" x=\"1325\" y=\"-7.8\" font-family=\"Helvetica,sans-Serif\" font-size=\"14.00\">class = 1</text>\n</g>\n<!-- 50&#45;&gt;51 -->\n<g id=\"edge51\" class=\"edge\">\n<title>50-&gt;51</title>\n<path fill=\"none\" stroke=\"black\" d=\"M1342.57,-103.73C1340.43,-95.34 1338.16,-86.47 1336,-78.01\"/>\n<polygon fill=\"black\" stroke=\"black\" points=\"1339.38,-77.12 1333.51,-68.3 1332.6,-78.85 1339.38,-77.12\"/>\n</g>\n<!-- 52 -->\n<g id=\"node53\" class=\"node\">\n<title>52</title>\n<polygon fill=\"#399de5\" stroke=\"black\" points=\"1493,-68 1391,-68 1391,0 1493,0 1493,-68\"/>\n<text text-anchor=\"middle\" x=\"1442\" y=\"-52.8\" font-family=\"Helvetica,sans-Serif\" font-size=\"14.00\">gini = 0.0</text>\n<text text-anchor=\"middle\" x=\"1442\" y=\"-37.8\" font-family=\"Helvetica,sans-Serif\" font-size=\"14.00\">samples = 12</text>\n<text text-anchor=\"middle\" x=\"1442\" y=\"-22.8\" font-family=\"Helvetica,sans-Serif\" font-size=\"14.00\">value = [0, 12]</text>\n<text text-anchor=\"middle\" x=\"1442\" y=\"-7.8\" font-family=\"Helvetica,sans-Serif\" font-size=\"14.00\">class = 1</text>\n</g>\n<!-- 50&#45;&gt;52 -->\n<g id=\"edge52\" class=\"edge\">\n<title>50-&gt;52</title>\n<path fill=\"none\" stroke=\"black\" d=\"M1386.14,-103.73C1393.48,-94.7 1401.26,-85.12 1408.61,-76.08\"/>\n<polygon fill=\"black\" stroke=\"black\" points=\"1411.34,-78.27 1414.93,-68.3 1405.91,-73.85 1411.34,-78.27\"/>\n</g>\n<!-- 54 -->\n<g id=\"node55\" class=\"node\">\n<title>54</title>\n<polygon fill=\"#e58139\" stroke=\"black\" points=\"1473,-417.5 1371,-417.5 1371,-349.5 1473,-349.5 1473,-417.5\"/>\n<text text-anchor=\"middle\" x=\"1422\" y=\"-402.3\" font-family=\"Helvetica,sans-Serif\" font-size=\"14.00\">gini = 0.0</text>\n<text text-anchor=\"middle\" x=\"1422\" y=\"-387.3\" font-family=\"Helvetica,sans-Serif\" font-size=\"14.00\">samples = 12</text>\n<text text-anchor=\"middle\" x=\"1422\" y=\"-372.3\" font-family=\"Helvetica,sans-Serif\" font-size=\"14.00\">value = [12, 0]</text>\n<text text-anchor=\"middle\" x=\"1422\" y=\"-357.3\" font-family=\"Helvetica,sans-Serif\" font-size=\"14.00\">class = 0</text>\n</g>\n<!-- 53&#45;&gt;54 -->\n<g id=\"edge54\" class=\"edge\">\n<title>53-&gt;54</title>\n<path fill=\"none\" stroke=\"black\" d=\"M1422,-460.91C1422,-450.2 1422,-438.62 1422,-427.78\"/>\n<polygon fill=\"black\" stroke=\"black\" points=\"1425.5,-427.67 1422,-417.67 1418.5,-427.67 1425.5,-427.67\"/>\n</g>\n<!-- 55 -->\n<g id=\"node56\" class=\"node\">\n<title>55</title>\n<polygon fill=\"#fae9dc\" stroke=\"black\" points=\"1627,-425 1491,-425 1491,-342 1627,-342 1627,-425\"/>\n<text text-anchor=\"middle\" x=\"1559\" y=\"-409.8\" font-family=\"Helvetica,sans-Serif\" font-size=\"14.00\">buying_price &lt;= 2.5</text>\n<text text-anchor=\"middle\" x=\"1559\" y=\"-394.8\" font-family=\"Helvetica,sans-Serif\" font-size=\"14.00\">gini = 0.495</text>\n<text text-anchor=\"middle\" x=\"1559\" y=\"-379.8\" font-family=\"Helvetica,sans-Serif\" font-size=\"14.00\">samples = 31</text>\n<text text-anchor=\"middle\" x=\"1559\" y=\"-364.8\" font-family=\"Helvetica,sans-Serif\" font-size=\"14.00\">value = [17, 14]</text>\n<text text-anchor=\"middle\" x=\"1559\" y=\"-349.8\" font-family=\"Helvetica,sans-Serif\" font-size=\"14.00\">class = 0</text>\n</g>\n<!-- 53&#45;&gt;55 -->\n<g id=\"edge55\" class=\"edge\">\n<title>53-&gt;55</title>\n<path fill=\"none\" stroke=\"black\" d=\"M1469.53,-460.91C1480.58,-451.47 1492.44,-441.34 1503.79,-431.65\"/>\n<polygon fill=\"black\" stroke=\"black\" points=\"1506.22,-434.18 1511.55,-425.02 1501.68,-428.85 1506.22,-434.18\"/>\n</g>\n<!-- 56 -->\n<g id=\"node57\" class=\"node\">\n<title>56</title>\n<polygon fill=\"#80c0ee\" stroke=\"black\" points=\"1626,-306 1492,-306 1492,-223 1626,-223 1626,-306\"/>\n<text text-anchor=\"middle\" x=\"1559\" y=\"-290.8\" font-family=\"Helvetica,sans-Serif\" font-size=\"14.00\">no_of_doors &lt;= 1.5</text>\n<text text-anchor=\"middle\" x=\"1559\" y=\"-275.8\" font-family=\"Helvetica,sans-Serif\" font-size=\"14.00\">gini = 0.388</text>\n<text text-anchor=\"middle\" x=\"1559\" y=\"-260.8\" font-family=\"Helvetica,sans-Serif\" font-size=\"14.00\">samples = 19</text>\n<text text-anchor=\"middle\" x=\"1559\" y=\"-245.8\" font-family=\"Helvetica,sans-Serif\" font-size=\"14.00\">value = [5, 14]</text>\n<text text-anchor=\"middle\" x=\"1559\" y=\"-230.8\" font-family=\"Helvetica,sans-Serif\" font-size=\"14.00\">class = 1</text>\n</g>\n<!-- 55&#45;&gt;56 -->\n<g id=\"edge56\" class=\"edge\">\n<title>55-&gt;56</title>\n<path fill=\"none\" stroke=\"black\" d=\"M1559,-341.91C1559,-333.65 1559,-324.86 1559,-316.3\"/>\n<polygon fill=\"black\" stroke=\"black\" points=\"1562.5,-316.02 1559,-306.02 1555.5,-316.02 1562.5,-316.02\"/>\n</g>\n<!-- 61 -->\n<g id=\"node62\" class=\"node\">\n<title>61</title>\n<polygon fill=\"#e58139\" stroke=\"black\" points=\"1746,-298.5 1644,-298.5 1644,-230.5 1746,-230.5 1746,-298.5\"/>\n<text text-anchor=\"middle\" x=\"1695\" y=\"-283.3\" font-family=\"Helvetica,sans-Serif\" font-size=\"14.00\">gini = 0.0</text>\n<text text-anchor=\"middle\" x=\"1695\" y=\"-268.3\" font-family=\"Helvetica,sans-Serif\" font-size=\"14.00\">samples = 12</text>\n<text text-anchor=\"middle\" x=\"1695\" y=\"-253.3\" font-family=\"Helvetica,sans-Serif\" font-size=\"14.00\">value = [12, 0]</text>\n<text text-anchor=\"middle\" x=\"1695\" y=\"-238.3\" font-family=\"Helvetica,sans-Serif\" font-size=\"14.00\">class = 0</text>\n</g>\n<!-- 55&#45;&gt;61 -->\n<g id=\"edge61\" class=\"edge\">\n<title>55-&gt;61</title>\n<path fill=\"none\" stroke=\"black\" d=\"M1606.18,-341.91C1619.91,-330.1 1634.89,-317.22 1648.56,-305.45\"/>\n<polygon fill=\"black\" stroke=\"black\" points=\"1651.15,-307.84 1656.45,-298.67 1646.58,-302.54 1651.15,-307.84\"/>\n</g>\n<!-- 57 -->\n<g id=\"node58\" class=\"node\">\n<title>57</title>\n<polygon fill=\"#fae6d7\" stroke=\"black\" points=\"1614.5,-187 1503.5,-187 1503.5,-104 1614.5,-104 1614.5,-187\"/>\n<text text-anchor=\"middle\" x=\"1559\" y=\"-171.8\" font-family=\"Helvetica,sans-Serif\" font-size=\"14.00\">lug_boot &lt;= 0.5</text>\n<text text-anchor=\"middle\" x=\"1559\" y=\"-156.8\" font-family=\"Helvetica,sans-Serif\" font-size=\"14.00\">gini = 0.494</text>\n<text text-anchor=\"middle\" x=\"1559\" y=\"-141.8\" font-family=\"Helvetica,sans-Serif\" font-size=\"14.00\">samples = 9</text>\n<text text-anchor=\"middle\" x=\"1559\" y=\"-126.8\" font-family=\"Helvetica,sans-Serif\" font-size=\"14.00\">value = [5, 4]</text>\n<text text-anchor=\"middle\" x=\"1559\" y=\"-111.8\" font-family=\"Helvetica,sans-Serif\" font-size=\"14.00\">class = 0</text>\n</g>\n<!-- 56&#45;&gt;57 -->\n<g id=\"edge57\" class=\"edge\">\n<title>56-&gt;57</title>\n<path fill=\"none\" stroke=\"black\" d=\"M1559,-222.91C1559,-214.65 1559,-205.86 1559,-197.3\"/>\n<polygon fill=\"black\" stroke=\"black\" points=\"1562.5,-197.02 1559,-187.02 1555.5,-197.02 1562.5,-197.02\"/>\n</g>\n<!-- 60 -->\n<g id=\"node61\" class=\"node\">\n<title>60</title>\n<polygon fill=\"#399de5\" stroke=\"black\" points=\"1735,-179.5 1633,-179.5 1633,-111.5 1735,-111.5 1735,-179.5\"/>\n<text text-anchor=\"middle\" x=\"1684\" y=\"-164.3\" font-family=\"Helvetica,sans-Serif\" font-size=\"14.00\">gini = 0.0</text>\n<text text-anchor=\"middle\" x=\"1684\" y=\"-149.3\" font-family=\"Helvetica,sans-Serif\" font-size=\"14.00\">samples = 10</text>\n<text text-anchor=\"middle\" x=\"1684\" y=\"-134.3\" font-family=\"Helvetica,sans-Serif\" font-size=\"14.00\">value = [0, 10]</text>\n<text text-anchor=\"middle\" x=\"1684\" y=\"-119.3\" font-family=\"Helvetica,sans-Serif\" font-size=\"14.00\">class = 1</text>\n</g>\n<!-- 56&#45;&gt;60 -->\n<g id=\"edge60\" class=\"edge\">\n<title>56-&gt;60</title>\n<path fill=\"none\" stroke=\"black\" d=\"M1602.37,-222.91C1614.86,-211.21 1628.49,-198.46 1640.97,-186.78\"/>\n<polygon fill=\"black\" stroke=\"black\" points=\"1643.66,-189.06 1648.57,-179.67 1638.87,-183.95 1643.66,-189.06\"/>\n</g>\n<!-- 58 -->\n<g id=\"node59\" class=\"node\">\n<title>58</title>\n<polygon fill=\"#399de5\" stroke=\"black\" points=\"1606.5,-68 1511.5,-68 1511.5,0 1606.5,0 1606.5,-68\"/>\n<text text-anchor=\"middle\" x=\"1559\" y=\"-52.8\" font-family=\"Helvetica,sans-Serif\" font-size=\"14.00\">gini = 0.0</text>\n<text text-anchor=\"middle\" x=\"1559\" y=\"-37.8\" font-family=\"Helvetica,sans-Serif\" font-size=\"14.00\">samples = 3</text>\n<text text-anchor=\"middle\" x=\"1559\" y=\"-22.8\" font-family=\"Helvetica,sans-Serif\" font-size=\"14.00\">value = [0, 3]</text>\n<text text-anchor=\"middle\" x=\"1559\" y=\"-7.8\" font-family=\"Helvetica,sans-Serif\" font-size=\"14.00\">class = 1</text>\n</g>\n<!-- 57&#45;&gt;58 -->\n<g id=\"edge58\" class=\"edge\">\n<title>57-&gt;58</title>\n<path fill=\"none\" stroke=\"black\" d=\"M1559,-103.73C1559,-95.52 1559,-86.86 1559,-78.56\"/>\n<polygon fill=\"black\" stroke=\"black\" points=\"1562.5,-78.3 1559,-68.3 1555.5,-78.3 1562.5,-78.3\"/>\n</g>\n<!-- 59 -->\n<g id=\"node60\" class=\"node\">\n<title>59</title>\n<polygon fill=\"#ea9a61\" stroke=\"black\" points=\"1719.5,-68 1624.5,-68 1624.5,0 1719.5,0 1719.5,-68\"/>\n<text text-anchor=\"middle\" x=\"1672\" y=\"-52.8\" font-family=\"Helvetica,sans-Serif\" font-size=\"14.00\">gini = 0.278</text>\n<text text-anchor=\"middle\" x=\"1672\" y=\"-37.8\" font-family=\"Helvetica,sans-Serif\" font-size=\"14.00\">samples = 6</text>\n<text text-anchor=\"middle\" x=\"1672\" y=\"-22.8\" font-family=\"Helvetica,sans-Serif\" font-size=\"14.00\">value = [5, 1]</text>\n<text text-anchor=\"middle\" x=\"1672\" y=\"-7.8\" font-family=\"Helvetica,sans-Serif\" font-size=\"14.00\">class = 0</text>\n</g>\n<!-- 57&#45;&gt;59 -->\n<g id=\"edge59\" class=\"edge\">\n<title>57-&gt;59</title>\n<path fill=\"none\" stroke=\"black\" d=\"M1601.08,-103.73C1610.68,-94.42 1620.87,-84.54 1630.45,-75.26\"/>\n<polygon fill=\"black\" stroke=\"black\" points=\"1632.89,-77.77 1637.64,-68.3 1628.02,-72.75 1632.89,-77.77\"/>\n</g>\n<!-- 63 -->\n<g id=\"node64\" class=\"node\">\n<title>63</title>\n<polygon fill=\"#e58139\" stroke=\"black\" points=\"1689,-536.5 1587,-536.5 1587,-468.5 1689,-468.5 1689,-536.5\"/>\n<text text-anchor=\"middle\" x=\"1638\" y=\"-521.3\" font-family=\"Helvetica,sans-Serif\" font-size=\"14.00\">gini = 0.0</text>\n<text text-anchor=\"middle\" x=\"1638\" y=\"-506.3\" font-family=\"Helvetica,sans-Serif\" font-size=\"14.00\">samples = 25</text>\n<text text-anchor=\"middle\" x=\"1638\" y=\"-491.3\" font-family=\"Helvetica,sans-Serif\" font-size=\"14.00\">value = [25, 0]</text>\n<text text-anchor=\"middle\" x=\"1638\" y=\"-476.3\" font-family=\"Helvetica,sans-Serif\" font-size=\"14.00\">class = 0</text>\n</g>\n<!-- 62&#45;&gt;63 -->\n<g id=\"edge63\" class=\"edge\">\n<title>62-&gt;63</title>\n<path fill=\"none\" stroke=\"black\" d=\"M1638,-579.91C1638,-569.2 1638,-557.62 1638,-546.78\"/>\n<polygon fill=\"black\" stroke=\"black\" points=\"1641.5,-546.67 1638,-536.67 1634.5,-546.67 1641.5,-546.67\"/>\n</g>\n<!-- 64 -->\n<g id=\"node65\" class=\"node\">\n<title>64</title>\n<polygon fill=\"#f3c3a0\" stroke=\"black\" points=\"1921,-544 1785,-544 1785,-461 1921,-461 1921,-544\"/>\n<text text-anchor=\"middle\" x=\"1853\" y=\"-528.8\" font-family=\"Helvetica,sans-Serif\" font-size=\"14.00\">buying_price &lt;= 2.5</text>\n<text text-anchor=\"middle\" x=\"1853\" y=\"-513.8\" font-family=\"Helvetica,sans-Serif\" font-size=\"14.00\">gini = 0.451</text>\n<text text-anchor=\"middle\" x=\"1853\" y=\"-498.8\" font-family=\"Helvetica,sans-Serif\" font-size=\"14.00\">samples = 70</text>\n<text text-anchor=\"middle\" x=\"1853\" y=\"-483.8\" font-family=\"Helvetica,sans-Serif\" font-size=\"14.00\">value = [46, 24]</text>\n<text text-anchor=\"middle\" x=\"1853\" y=\"-468.8\" font-family=\"Helvetica,sans-Serif\" font-size=\"14.00\">class = 0</text>\n</g>\n<!-- 62&#45;&gt;64 -->\n<g id=\"edge64\" class=\"edge\">\n<title>62-&gt;64</title>\n<path fill=\"none\" stroke=\"black\" d=\"M1706.03,-583.48C1728.18,-571.42 1752.94,-557.95 1775.72,-545.56\"/>\n<polygon fill=\"black\" stroke=\"black\" points=\"1777.57,-548.53 1784.68,-540.68 1774.22,-542.39 1777.57,-548.53\"/>\n</g>\n<!-- 65 -->\n<g id=\"node66\" class=\"node\">\n<title>65</title>\n<polygon fill=\"#e6f3fc\" stroke=\"black\" points=\"1938,-425 1768,-425 1768,-342 1938,-342 1938,-425\"/>\n<text text-anchor=\"middle\" x=\"1853\" y=\"-409.8\" font-family=\"Helvetica,sans-Serif\" font-size=\"14.00\">maintenance_cost &lt;= 2.5</text>\n<text text-anchor=\"middle\" x=\"1853\" y=\"-394.8\" font-family=\"Helvetica,sans-Serif\" font-size=\"14.00\">gini = 0.498</text>\n<text text-anchor=\"middle\" x=\"1853\" y=\"-379.8\" font-family=\"Helvetica,sans-Serif\" font-size=\"14.00\">samples = 45</text>\n<text text-anchor=\"middle\" x=\"1853\" y=\"-364.8\" font-family=\"Helvetica,sans-Serif\" font-size=\"14.00\">value = [21, 24]</text>\n<text text-anchor=\"middle\" x=\"1853\" y=\"-349.8\" font-family=\"Helvetica,sans-Serif\" font-size=\"14.00\">class = 1</text>\n</g>\n<!-- 64&#45;&gt;65 -->\n<g id=\"edge65\" class=\"edge\">\n<title>64-&gt;65</title>\n<path fill=\"none\" stroke=\"black\" d=\"M1853,-460.91C1853,-452.65 1853,-443.86 1853,-435.3\"/>\n<polygon fill=\"black\" stroke=\"black\" points=\"1856.5,-435.02 1853,-425.02 1849.5,-435.02 1856.5,-435.02\"/>\n</g>\n<!-- 74 -->\n<g id=\"node75\" class=\"node\">\n<title>74</title>\n<polygon fill=\"#e58139\" stroke=\"black\" points=\"2058,-417.5 1956,-417.5 1956,-349.5 2058,-349.5 2058,-417.5\"/>\n<text text-anchor=\"middle\" x=\"2007\" y=\"-402.3\" font-family=\"Helvetica,sans-Serif\" font-size=\"14.00\">gini = 0.0</text>\n<text text-anchor=\"middle\" x=\"2007\" y=\"-387.3\" font-family=\"Helvetica,sans-Serif\" font-size=\"14.00\">samples = 25</text>\n<text text-anchor=\"middle\" x=\"2007\" y=\"-372.3\" font-family=\"Helvetica,sans-Serif\" font-size=\"14.00\">value = [25, 0]</text>\n<text text-anchor=\"middle\" x=\"2007\" y=\"-357.3\" font-family=\"Helvetica,sans-Serif\" font-size=\"14.00\">class = 0</text>\n</g>\n<!-- 64&#45;&gt;74 -->\n<g id=\"edge74\" class=\"edge\">\n<title>64-&gt;74</title>\n<path fill=\"none\" stroke=\"black\" d=\"M1906.43,-460.91C1922.26,-448.88 1939.56,-435.73 1955.28,-423.79\"/>\n<polygon fill=\"black\" stroke=\"black\" points=\"1957.5,-426.5 1963.34,-417.67 1953.26,-420.93 1957.5,-426.5\"/>\n</g>\n<!-- 66 -->\n<g id=\"node67\" class=\"node\">\n<title>66</title>\n<polygon fill=\"#9ccef2\" stroke=\"black\" points=\"1938,-306 1768,-306 1768,-223 1938,-223 1938,-306\"/>\n<text text-anchor=\"middle\" x=\"1853\" y=\"-290.8\" font-family=\"Helvetica,sans-Serif\" font-size=\"14.00\">maintenance_cost &lt;= 0.5</text>\n<text text-anchor=\"middle\" x=\"1853\" y=\"-275.8\" font-family=\"Helvetica,sans-Serif\" font-size=\"14.00\">gini = 0.444</text>\n<text text-anchor=\"middle\" x=\"1853\" y=\"-260.8\" font-family=\"Helvetica,sans-Serif\" font-size=\"14.00\">samples = 36</text>\n<text text-anchor=\"middle\" x=\"1853\" y=\"-245.8\" font-family=\"Helvetica,sans-Serif\" font-size=\"14.00\">value = [12, 24]</text>\n<text text-anchor=\"middle\" x=\"1853\" y=\"-230.8\" font-family=\"Helvetica,sans-Serif\" font-size=\"14.00\">class = 1</text>\n</g>\n<!-- 65&#45;&gt;66 -->\n<g id=\"edge66\" class=\"edge\">\n<title>65-&gt;66</title>\n<path fill=\"none\" stroke=\"black\" d=\"M1853,-341.91C1853,-333.65 1853,-324.86 1853,-316.3\"/>\n<polygon fill=\"black\" stroke=\"black\" points=\"1856.5,-316.02 1853,-306.02 1849.5,-316.02 1856.5,-316.02\"/>\n</g>\n<!-- 73 -->\n<g id=\"node74\" class=\"node\">\n<title>73</title>\n<polygon fill=\"#e58139\" stroke=\"black\" points=\"2051.5,-298.5 1956.5,-298.5 1956.5,-230.5 2051.5,-230.5 2051.5,-298.5\"/>\n<text text-anchor=\"middle\" x=\"2004\" y=\"-283.3\" font-family=\"Helvetica,sans-Serif\" font-size=\"14.00\">gini = 0.0</text>\n<text text-anchor=\"middle\" x=\"2004\" y=\"-268.3\" font-family=\"Helvetica,sans-Serif\" font-size=\"14.00\">samples = 9</text>\n<text text-anchor=\"middle\" x=\"2004\" y=\"-253.3\" font-family=\"Helvetica,sans-Serif\" font-size=\"14.00\">value = [9, 0]</text>\n<text text-anchor=\"middle\" x=\"2004\" y=\"-238.3\" font-family=\"Helvetica,sans-Serif\" font-size=\"14.00\">class = 0</text>\n</g>\n<!-- 65&#45;&gt;73 -->\n<g id=\"edge73\" class=\"edge\">\n<title>65-&gt;73</title>\n<path fill=\"none\" stroke=\"black\" d=\"M1905.39,-341.91C1920.77,-329.99 1937.57,-316.98 1952.87,-305.12\"/>\n<polygon fill=\"black\" stroke=\"black\" points=\"1955.43,-307.56 1961.19,-298.67 1951.15,-302.03 1955.43,-307.56\"/>\n</g>\n<!-- 67 -->\n<g id=\"node68\" class=\"node\">\n<title>67</title>\n<polygon fill=\"#eeab7b\" stroke=\"black\" points=\"1921,-187 1785,-187 1785,-104 1921,-104 1921,-187\"/>\n<text text-anchor=\"middle\" x=\"1853\" y=\"-171.8\" font-family=\"Helvetica,sans-Serif\" font-size=\"14.00\">buying_price &lt;= 1.5</text>\n<text text-anchor=\"middle\" x=\"1853\" y=\"-156.8\" font-family=\"Helvetica,sans-Serif\" font-size=\"14.00\">gini = 0.375</text>\n<text text-anchor=\"middle\" x=\"1853\" y=\"-141.8\" font-family=\"Helvetica,sans-Serif\" font-size=\"14.00\">samples = 12</text>\n<text text-anchor=\"middle\" x=\"1853\" y=\"-126.8\" font-family=\"Helvetica,sans-Serif\" font-size=\"14.00\">value = [9, 3]</text>\n<text text-anchor=\"middle\" x=\"1853\" y=\"-111.8\" font-family=\"Helvetica,sans-Serif\" font-size=\"14.00\">class = 0</text>\n</g>\n<!-- 66&#45;&gt;67 -->\n<g id=\"edge67\" class=\"edge\">\n<title>66-&gt;67</title>\n<path fill=\"none\" stroke=\"black\" d=\"M1853,-222.91C1853,-214.65 1853,-205.86 1853,-197.3\"/>\n<polygon fill=\"black\" stroke=\"black\" points=\"1856.5,-197.02 1853,-187.02 1849.5,-197.02 1856.5,-197.02\"/>\n</g>\n<!-- 70 -->\n<g id=\"node71\" class=\"node\">\n<title>70</title>\n<polygon fill=\"#55abe9\" stroke=\"black\" points=\"2078,-187 1944,-187 1944,-104 2078,-104 2078,-187\"/>\n<text text-anchor=\"middle\" x=\"2011\" y=\"-171.8\" font-family=\"Helvetica,sans-Serif\" font-size=\"14.00\">no_of_doors &lt;= 0.5</text>\n<text text-anchor=\"middle\" x=\"2011\" y=\"-156.8\" font-family=\"Helvetica,sans-Serif\" font-size=\"14.00\">gini = 0.219</text>\n<text text-anchor=\"middle\" x=\"2011\" y=\"-141.8\" font-family=\"Helvetica,sans-Serif\" font-size=\"14.00\">samples = 24</text>\n<text text-anchor=\"middle\" x=\"2011\" y=\"-126.8\" font-family=\"Helvetica,sans-Serif\" font-size=\"14.00\">value = [3, 21]</text>\n<text text-anchor=\"middle\" x=\"2011\" y=\"-111.8\" font-family=\"Helvetica,sans-Serif\" font-size=\"14.00\">class = 1</text>\n</g>\n<!-- 66&#45;&gt;70 -->\n<g id=\"edge70\" class=\"edge\">\n<title>66-&gt;70</title>\n<path fill=\"none\" stroke=\"black\" d=\"M1907.82,-222.91C1920.81,-213.29 1934.76,-202.95 1948.08,-193.09\"/>\n<polygon fill=\"black\" stroke=\"black\" points=\"1950.33,-195.78 1956.28,-187.02 1946.16,-190.16 1950.33,-195.78\"/>\n</g>\n<!-- 68 -->\n<g id=\"node69\" class=\"node\">\n<title>68</title>\n<polygon fill=\"#7bbeee\" stroke=\"black\" points=\"1832.5,-68 1737.5,-68 1737.5,0 1832.5,0 1832.5,-68\"/>\n<text text-anchor=\"middle\" x=\"1785\" y=\"-52.8\" font-family=\"Helvetica,sans-Serif\" font-size=\"14.00\">gini = 0.375</text>\n<text text-anchor=\"middle\" x=\"1785\" y=\"-37.8\" font-family=\"Helvetica,sans-Serif\" font-size=\"14.00\">samples = 4</text>\n<text text-anchor=\"middle\" x=\"1785\" y=\"-22.8\" font-family=\"Helvetica,sans-Serif\" font-size=\"14.00\">value = [1, 3]</text>\n<text text-anchor=\"middle\" x=\"1785\" y=\"-7.8\" font-family=\"Helvetica,sans-Serif\" font-size=\"14.00\">class = 1</text>\n</g>\n<!-- 67&#45;&gt;68 -->\n<g id=\"edge68\" class=\"edge\">\n<title>67-&gt;68</title>\n<path fill=\"none\" stroke=\"black\" d=\"M1827.68,-103.73C1822.24,-94.97 1816.49,-85.7 1811.02,-76.91\"/>\n<polygon fill=\"black\" stroke=\"black\" points=\"1813.93,-74.95 1805.68,-68.3 1807.98,-78.64 1813.93,-74.95\"/>\n</g>\n<!-- 69 -->\n<g id=\"node70\" class=\"node\">\n<title>69</title>\n<polygon fill=\"#e58139\" stroke=\"black\" points=\"1945.5,-68 1850.5,-68 1850.5,0 1945.5,0 1945.5,-68\"/>\n<text text-anchor=\"middle\" x=\"1898\" y=\"-52.8\" font-family=\"Helvetica,sans-Serif\" font-size=\"14.00\">gini = 0.0</text>\n<text text-anchor=\"middle\" x=\"1898\" y=\"-37.8\" font-family=\"Helvetica,sans-Serif\" font-size=\"14.00\">samples = 8</text>\n<text text-anchor=\"middle\" x=\"1898\" y=\"-22.8\" font-family=\"Helvetica,sans-Serif\" font-size=\"14.00\">value = [8, 0]</text>\n<text text-anchor=\"middle\" x=\"1898\" y=\"-7.8\" font-family=\"Helvetica,sans-Serif\" font-size=\"14.00\">class = 0</text>\n</g>\n<!-- 67&#45;&gt;69 -->\n<g id=\"edge69\" class=\"edge\">\n<title>67-&gt;69</title>\n<path fill=\"none\" stroke=\"black\" d=\"M1869.76,-103.73C1873.24,-95.24 1876.93,-86.28 1880.44,-77.73\"/>\n<polygon fill=\"black\" stroke=\"black\" points=\"1883.75,-78.88 1884.32,-68.3 1877.28,-76.22 1883.75,-78.88\"/>\n</g>\n<!-- 71 -->\n<g id=\"node72\" class=\"node\">\n<title>71</title>\n<polygon fill=\"#ffffff\" stroke=\"black\" points=\"2058.5,-68 1963.5,-68 1963.5,0 2058.5,0 2058.5,-68\"/>\n<text text-anchor=\"middle\" x=\"2011\" y=\"-52.8\" font-family=\"Helvetica,sans-Serif\" font-size=\"14.00\">gini = 0.5</text>\n<text text-anchor=\"middle\" x=\"2011\" y=\"-37.8\" font-family=\"Helvetica,sans-Serif\" font-size=\"14.00\">samples = 6</text>\n<text text-anchor=\"middle\" x=\"2011\" y=\"-22.8\" font-family=\"Helvetica,sans-Serif\" font-size=\"14.00\">value = [3, 3]</text>\n<text text-anchor=\"middle\" x=\"2011\" y=\"-7.8\" font-family=\"Helvetica,sans-Serif\" font-size=\"14.00\">class = 0</text>\n</g>\n<!-- 70&#45;&gt;71 -->\n<g id=\"edge71\" class=\"edge\">\n<title>70-&gt;71</title>\n<path fill=\"none\" stroke=\"black\" d=\"M2011,-103.73C2011,-95.52 2011,-86.86 2011,-78.56\"/>\n<polygon fill=\"black\" stroke=\"black\" points=\"2014.5,-78.3 2011,-68.3 2007.5,-78.3 2014.5,-78.3\"/>\n</g>\n<!-- 72 -->\n<g id=\"node73\" class=\"node\">\n<title>72</title>\n<polygon fill=\"#399de5\" stroke=\"black\" points=\"2179,-68 2077,-68 2077,0 2179,0 2179,-68\"/>\n<text text-anchor=\"middle\" x=\"2128\" y=\"-52.8\" font-family=\"Helvetica,sans-Serif\" font-size=\"14.00\">gini = 0.0</text>\n<text text-anchor=\"middle\" x=\"2128\" y=\"-37.8\" font-family=\"Helvetica,sans-Serif\" font-size=\"14.00\">samples = 18</text>\n<text text-anchor=\"middle\" x=\"2128\" y=\"-22.8\" font-family=\"Helvetica,sans-Serif\" font-size=\"14.00\">value = [0, 18]</text>\n<text text-anchor=\"middle\" x=\"2128\" y=\"-7.8\" font-family=\"Helvetica,sans-Serif\" font-size=\"14.00\">class = 1</text>\n</g>\n<!-- 70&#45;&gt;72 -->\n<g id=\"edge72\" class=\"edge\">\n<title>70-&gt;72</title>\n<path fill=\"none\" stroke=\"black\" d=\"M2054.57,-103.73C2064.51,-94.42 2075.06,-84.54 2084.98,-75.26\"/>\n<polygon fill=\"black\" stroke=\"black\" points=\"2087.51,-77.69 2092.42,-68.3 2082.73,-72.58 2087.51,-77.69\"/>\n</g>\n</g>\n</svg>"
          },
          "metadata": {}
        }
      ]
    },
    {
      "cell_type": "code",
      "source": [
        "y_pred_train = treeclf.predict(X_train)\n",
        "train_accuracy = accuracy_score(y_train, y_pred_train)\n",
        "\n",
        "y_pred_test = treeclf.predict(X_test)\n",
        "test_accuracy = accuracy_score(y_test, y_pred_test)\n",
        "\n",
        "print('Training Accuracy:', train_accuracy)\n",
        "print('Testing Accuracy:', test_accuracy)"
      ],
      "metadata": {
        "colab": {
          "base_uri": "https://localhost:8080/"
        },
        "id": "ap4PilbEzgS_",
        "outputId": "1d718eed-11fb-46ee-f8f1-960a8108f7b8"
      },
      "execution_count": 26,
      "outputs": [
        {
          "output_type": "stream",
          "name": "stdout",
          "text": [
            "Training Accuracy: 0.9917218543046358\n",
            "Testing Accuracy: 0.9903660886319846\n"
          ]
        }
      ]
    },
    {
      "cell_type": "code",
      "source": [
        "p,r,f,s = precision_recall_fscore_support(y_test, y_pred_test)\n",
        "display('precision = {}'.format(p))\n",
        "display('recall = {}'.format(r))\n",
        "display('f-score = {}'.format(f))"
      ],
      "metadata": {
        "colab": {
          "base_uri": "https://localhost:8080/",
          "height": 71
        },
        "id": "kFPgPuflzgPp",
        "outputId": "16feed15-2d3f-40b3-a5ea-4a9a4d8a88af"
      },
      "execution_count": 27,
      "outputs": [
        {
          "output_type": "display_data",
          "data": {
            "text/plain": [
              "'precision = [0.99171271 0.98726115]'"
            ],
            "application/vnd.google.colaboratory.intrinsic+json": {
              "type": "string"
            }
          },
          "metadata": {}
        },
        {
          "output_type": "display_data",
          "data": {
            "text/plain": [
              "'recall = [0.99445983 0.98101266]'"
            ],
            "application/vnd.google.colaboratory.intrinsic+json": {
              "type": "string"
            }
          },
          "metadata": {}
        },
        {
          "output_type": "display_data",
          "data": {
            "text/plain": [
              "'f-score = [0.99308437 0.98412698]'"
            ],
            "application/vnd.google.colaboratory.intrinsic+json": {
              "type": "string"
            }
          },
          "metadata": {}
        }
      ]
    },
    {
      "cell_type": "code",
      "source": [
        "cm = confusion_matrix(y_test, y_pred_test)\n",
        "sns.heatmap(cm, annot=True, fmt='d', cmap='Blues')"
      ],
      "metadata": {
        "colab": {
          "base_uri": "https://localhost:8080/",
          "height": 447
        },
        "id": "k3cbL7mozgLE",
        "outputId": "6e048634-dec2-4d3c-8c40-55a6ee096fd6"
      },
      "execution_count": 28,
      "outputs": [
        {
          "output_type": "execute_result",
          "data": {
            "text/plain": [
              "<Axes: >"
            ]
          },
          "metadata": {},
          "execution_count": 28
        },
        {
          "output_type": "display_data",
          "data": {
            "text/plain": [
              "<Figure size 640x480 with 2 Axes>"
            ],
            "image/png": "[encoded data removed]"
          },
          "metadata": {}
        }
      ]
    },
    {
      "cell_type": "markdown",
      "source": [
        "By considering some features"
      ],
      "metadata": {
        "id": "RUxALLzL3mEj"
      }
    },
    {
      "cell_type": "code",
      "source": [
        "X = cars[['buying_price','no_of_doors','no_of_persons']]\n",
        "y = cars['decision']\n",
        "feats = ['buying_price','no_of_doors','no_of_persons']"
      ],
      "metadata": {
        "id": "zbOOc1uI3ldA"
      },
      "execution_count": 29,
      "outputs": []
    },
    {
      "cell_type": "code",
      "source": [
        "X_train, X_test, y_train, y_test = train_test_split(X, y, test_size=0.3, random_state=42)\n",
        "\n",
        "encoder = OrdinalEncoder()\n",
        "X_train = encoder.fit_transform(X_train)\n",
        "X_test = encoder.transform(X_test)"
      ],
      "metadata": {
        "id": "qSA7OBgS51L1"
      },
      "execution_count": 30,
      "outputs": []
    },
    {
      "cell_type": "code",
      "source": [
        "treeclf1 = DecisionTreeClassifier(max_depth=5, random_state=42)\n",
        "treeclf1.fit(X_train, y_train)\n",
        "graph = Source(tree.export_graphviz(treeclf1, out_file=None,\n",
        "                                    feature_names=feats,\n",
        "                                    class_names=['0', '1'], filled = True))\n",
        "svg = SVG(graph.pipe(format='svg'))\n",
        "display(svg)\n"
      ],
      "metadata": {
        "colab": {
          "base_uri": "https://localhost:8080/",
          "height": 936
        },
        "id": "PnMkS8ZQ51JW",
        "outputId": "be6e7f5b-7fda-4df4-e0b4-57f5abe99c33"
      },
      "execution_count": 31,
      "outputs": [
        {
          "output_type": "display_data",
          "data": {
            "text/plain": [
              "<IPython.core.display.SVG object>"
            ],
            "image/svg+xml": "<svg xmlns=\"http://www.w3.org/2000/svg\" xmlns:xlink=\"http://www.w3.org/1999/xlink\" width=\"1544pt\" height=\"671pt\" viewBox=\"0.00 0.00 1544.00 671.00\">\n<g id=\"graph0\" class=\"graph\" transform=\"scale(1 1) rotate(0) translate(4 667)\">\n<title>Tree</title>\n<polygon fill=\"white\" stroke=\"transparent\" points=\"-4,4 -4,-667 1540,-667 1540,4 -4,4\"/>\n<!-- 0 -->\n<g id=\"node1\" class=\"node\">\n<title>0</title>\n<polygon fill=\"#f0b68d\" stroke=\"black\" points=\"882.5,-663 733.5,-663 733.5,-580 882.5,-580 882.5,-663\"/>\n<text text-anchor=\"middle\" x=\"808\" y=\"-647.8\" font-family=\"Helvetica,sans-Serif\" font-size=\"14.00\">no_of_persons &lt;= 0.5</text>\n<text text-anchor=\"middle\" x=\"808\" y=\"-632.8\" font-family=\"Helvetica,sans-Serif\" font-size=\"14.00\">gini = 0.418</text>\n<text text-anchor=\"middle\" x=\"808\" y=\"-617.8\" font-family=\"Helvetica,sans-Serif\" font-size=\"14.00\">samples = 1208</text>\n<text text-anchor=\"middle\" x=\"808\" y=\"-602.8\" font-family=\"Helvetica,sans-Serif\" font-size=\"14.00\">value = [848, 360]</text>\n<text text-anchor=\"middle\" x=\"808\" y=\"-587.8\" font-family=\"Helvetica,sans-Serif\" font-size=\"14.00\">class = 0</text>\n</g>\n<!-- 1 -->\n<g id=\"node2\" class=\"node\">\n<title>1</title>\n<polygon fill=\"#e58139\" stroke=\"black\" points=\"793,-536.5 683,-536.5 683,-468.5 793,-468.5 793,-536.5\"/>\n<text text-anchor=\"middle\" x=\"738\" y=\"-521.3\" font-family=\"Helvetica,sans-Serif\" font-size=\"14.00\">gini = 0.0</text>\n<text text-anchor=\"middle\" x=\"738\" y=\"-506.3\" font-family=\"Helvetica,sans-Serif\" font-size=\"14.00\">samples = 392</text>\n<text text-anchor=\"middle\" x=\"738\" y=\"-491.3\" font-family=\"Helvetica,sans-Serif\" font-size=\"14.00\">value = [392, 0]</text>\n<text text-anchor=\"middle\" x=\"738\" y=\"-476.3\" font-family=\"Helvetica,sans-Serif\" font-size=\"14.00\">class = 0</text>\n</g>\n<!-- 0&#45;&gt;1 -->\n<g id=\"edge1\" class=\"edge\">\n<title>0-&gt;1</title>\n<path fill=\"none\" stroke=\"black\" d=\"M783.71,-579.91C777.05,-568.76 769.8,-556.66 763.09,-545.44\"/>\n<polygon fill=\"black\" stroke=\"black\" points=\"765.98,-543.45 757.84,-536.67 759.97,-547.05 765.98,-543.45\"/>\n<text text-anchor=\"middle\" x=\"751.75\" y=\"-557.21\" font-family=\"Helvetica,sans-Serif\" font-size=\"14.00\">True</text>\n</g>\n<!-- 2 -->\n<g id=\"node3\" class=\"node\">\n<title>2</title>\n<polygon fill=\"#fae4d5\" stroke=\"black\" points=\"947,-544 811,-544 811,-461 947,-461 947,-544\"/>\n<text text-anchor=\"middle\" x=\"879\" y=\"-528.8\" font-family=\"Helvetica,sans-Serif\" font-size=\"14.00\">buying_price &lt;= 2.5</text>\n<text text-anchor=\"middle\" x=\"879\" y=\"-513.8\" font-family=\"Helvetica,sans-Serif\" font-size=\"14.00\">gini = 0.493</text>\n<text text-anchor=\"middle\" x=\"879\" y=\"-498.8\" font-family=\"Helvetica,sans-Serif\" font-size=\"14.00\">samples = 816</text>\n<text text-anchor=\"middle\" x=\"879\" y=\"-483.8\" font-family=\"Helvetica,sans-Serif\" font-size=\"14.00\">value = [456, 360]</text>\n<text text-anchor=\"middle\" x=\"879\" y=\"-468.8\" font-family=\"Helvetica,sans-Serif\" font-size=\"14.00\">class = 0</text>\n</g>\n<!-- 0&#45;&gt;2 -->\n<g id=\"edge2\" class=\"edge\">\n<title>0-&gt;2</title>\n<path fill=\"none\" stroke=\"black\" d=\"M832.63,-579.91C837.97,-571.1 843.68,-561.7 849.2,-552.61\"/>\n<polygon fill=\"black\" stroke=\"black\" points=\"852.21,-554.39 854.41,-544.02 846.23,-550.75 852.21,-554.39\"/>\n<text text-anchor=\"middle\" x=\"860.35\" y=\"-564.6\" font-family=\"Helvetica,sans-Serif\" font-size=\"14.00\">False</text>\n</g>\n<!-- 3 -->\n<g id=\"node4\" class=\"node\">\n<title>3</title>\n<polygon fill=\"#f6fbfe\" stroke=\"black\" points=\"799,-425 663,-425 663,-342 799,-342 799,-425\"/>\n<text text-anchor=\"middle\" x=\"731\" y=\"-409.8\" font-family=\"Helvetica,sans-Serif\" font-size=\"14.00\">buying_price &lt;= 0.5</text>\n<text text-anchor=\"middle\" x=\"731\" y=\"-394.8\" font-family=\"Helvetica,sans-Serif\" font-size=\"14.00\">gini = 0.5</text>\n<text text-anchor=\"middle\" x=\"731\" y=\"-379.8\" font-family=\"Helvetica,sans-Serif\" font-size=\"14.00\">samples = 606</text>\n<text text-anchor=\"middle\" x=\"731\" y=\"-364.8\" font-family=\"Helvetica,sans-Serif\" font-size=\"14.00\">value = [296, 310]</text>\n<text text-anchor=\"middle\" x=\"731\" y=\"-349.8\" font-family=\"Helvetica,sans-Serif\" font-size=\"14.00\">class = 1</text>\n</g>\n<!-- 2&#45;&gt;3 -->\n<g id=\"edge3\" class=\"edge\">\n<title>2-&gt;3</title>\n<path fill=\"none\" stroke=\"black\" d=\"M827.65,-460.91C815.6,-451.38 802.66,-441.15 790.29,-431.37\"/>\n<polygon fill=\"black\" stroke=\"black\" points=\"792.27,-428.48 782.26,-425.02 787.93,-433.97 792.27,-428.48\"/>\n</g>\n<!-- 18 -->\n<g id=\"node19\" class=\"node\">\n<title>18</title>\n<polygon fill=\"#eda877\" stroke=\"black\" points=\"1070,-425 936,-425 936,-342 1070,-342 1070,-425\"/>\n<text text-anchor=\"middle\" x=\"1003\" y=\"-409.8\" font-family=\"Helvetica,sans-Serif\" font-size=\"14.00\">no_of_doors &lt;= 0.5</text>\n<text text-anchor=\"middle\" x=\"1003\" y=\"-394.8\" font-family=\"Helvetica,sans-Serif\" font-size=\"14.00\">gini = 0.363</text>\n<text text-anchor=\"middle\" x=\"1003\" y=\"-379.8\" font-family=\"Helvetica,sans-Serif\" font-size=\"14.00\">samples = 210</text>\n<text text-anchor=\"middle\" x=\"1003\" y=\"-364.8\" font-family=\"Helvetica,sans-Serif\" font-size=\"14.00\">value = [160, 50]</text>\n<text text-anchor=\"middle\" x=\"1003\" y=\"-349.8\" font-family=\"Helvetica,sans-Serif\" font-size=\"14.00\">class = 0</text>\n</g>\n<!-- 2&#45;&gt;18 -->\n<g id=\"edge18\" class=\"edge\">\n<title>2-&gt;18</title>\n<path fill=\"none\" stroke=\"black\" d=\"M922.02,-460.91C931.93,-451.56 942.55,-441.54 952.73,-431.93\"/>\n<polygon fill=\"black\" stroke=\"black\" points=\"955.18,-434.43 960.05,-425.02 950.38,-429.34 955.18,-434.43\"/>\n</g>\n<!-- 4 -->\n<g id=\"node5\" class=\"node\">\n<title>4</title>\n<polygon fill=\"#f4caab\" stroke=\"black\" points=\"462,-306 328,-306 328,-223 462,-223 462,-306\"/>\n<text text-anchor=\"middle\" x=\"395\" y=\"-290.8\" font-family=\"Helvetica,sans-Serif\" font-size=\"14.00\">no_of_doors &lt;= 2.5</text>\n<text text-anchor=\"middle\" x=\"395\" y=\"-275.8\" font-family=\"Helvetica,sans-Serif\" font-size=\"14.00\">gini = 0.464</text>\n<text text-anchor=\"middle\" x=\"395\" y=\"-260.8\" font-family=\"Helvetica,sans-Serif\" font-size=\"14.00\">samples = 213</text>\n<text text-anchor=\"middle\" x=\"395\" y=\"-245.8\" font-family=\"Helvetica,sans-Serif\" font-size=\"14.00\">value = [135, 78]</text>\n<text text-anchor=\"middle\" x=\"395\" y=\"-230.8\" font-family=\"Helvetica,sans-Serif\" font-size=\"14.00\">class = 0</text>\n</g>\n<!-- 3&#45;&gt;4 -->\n<g id=\"edge4\" class=\"edge\">\n<title>3-&gt;4</title>\n<path fill=\"none\" stroke=\"black\" d=\"M662.6,-358.68C607.28,-339.42 529.4,-312.3 471.92,-292.28\"/>\n<polygon fill=\"black\" stroke=\"black\" points=\"472.75,-288.87 462.16,-288.88 470.45,-295.48 472.75,-288.87\"/>\n</g>\n<!-- 11 -->\n<g id=\"node12\" class=\"node\">\n<title>11</title>\n<polygon fill=\"#c2e1f7\" stroke=\"black\" points=\"798,-306 664,-306 664,-223 798,-223 798,-306\"/>\n<text text-anchor=\"middle\" x=\"731\" y=\"-290.8\" font-family=\"Helvetica,sans-Serif\" font-size=\"14.00\">no_of_doors &lt;= 0.5</text>\n<text text-anchor=\"middle\" x=\"731\" y=\"-275.8\" font-family=\"Helvetica,sans-Serif\" font-size=\"14.00\">gini = 0.484</text>\n<text text-anchor=\"middle\" x=\"731\" y=\"-260.8\" font-family=\"Helvetica,sans-Serif\" font-size=\"14.00\">samples = 393</text>\n<text text-anchor=\"middle\" x=\"731\" y=\"-245.8\" font-family=\"Helvetica,sans-Serif\" font-size=\"14.00\">value = [161, 232]</text>\n<text text-anchor=\"middle\" x=\"731\" y=\"-230.8\" font-family=\"Helvetica,sans-Serif\" font-size=\"14.00\">class = 1</text>\n</g>\n<!-- 3&#45;&gt;11 -->\n<g id=\"edge11\" class=\"edge\">\n<title>3-&gt;11</title>\n<path fill=\"none\" stroke=\"black\" d=\"M731,-341.91C731,-333.65 731,-324.86 731,-316.3\"/>\n<polygon fill=\"black\" stroke=\"black\" points=\"734.5,-316.02 731,-306.02 727.5,-316.02 734.5,-316.02\"/>\n</g>\n<!-- 5 -->\n<g id=\"node6\" class=\"node\">\n<title>5</title>\n<polygon fill=\"#f2c19e\" stroke=\"black\" points=\"257.5,-187 108.5,-187 108.5,-104 257.5,-104 257.5,-187\"/>\n<text text-anchor=\"middle\" x=\"183\" y=\"-171.8\" font-family=\"Helvetica,sans-Serif\" font-size=\"14.00\">no_of_persons &lt;= 1.5</text>\n<text text-anchor=\"middle\" x=\"183\" y=\"-156.8\" font-family=\"Helvetica,sans-Serif\" font-size=\"14.00\">gini = 0.447</text>\n<text text-anchor=\"middle\" x=\"183\" y=\"-141.8\" font-family=\"Helvetica,sans-Serif\" font-size=\"14.00\">samples = 160</text>\n<text text-anchor=\"middle\" x=\"183\" y=\"-126.8\" font-family=\"Helvetica,sans-Serif\" font-size=\"14.00\">value = [106, 54]</text>\n<text text-anchor=\"middle\" x=\"183\" y=\"-111.8\" font-family=\"Helvetica,sans-Serif\" font-size=\"14.00\">class = 0</text>\n</g>\n<!-- 4&#45;&gt;5 -->\n<g id=\"edge5\" class=\"edge\">\n<title>4-&gt;5</title>\n<path fill=\"none\" stroke=\"black\" d=\"M327.92,-226.48C308.07,-215.53 286.11,-203.4 265.41,-191.98\"/>\n<polygon fill=\"black\" stroke=\"black\" points=\"267.07,-188.9 256.63,-187.13 263.69,-195.03 267.07,-188.9\"/>\n</g>\n<!-- 8 -->\n<g id=\"node9\" class=\"node\">\n<title>8</title>\n<polygon fill=\"#fbe9dd\" stroke=\"black\" points=\"469.5,-187 320.5,-187 320.5,-104 469.5,-104 469.5,-187\"/>\n<text text-anchor=\"middle\" x=\"395\" y=\"-171.8\" font-family=\"Helvetica,sans-Serif\" font-size=\"14.00\">no_of_persons &lt;= 1.5</text>\n<text text-anchor=\"middle\" x=\"395\" y=\"-156.8\" font-family=\"Helvetica,sans-Serif\" font-size=\"14.00\">gini = 0.496</text>\n<text text-anchor=\"middle\" x=\"395\" y=\"-141.8\" font-family=\"Helvetica,sans-Serif\" font-size=\"14.00\">samples = 53</text>\n<text text-anchor=\"middle\" x=\"395\" y=\"-126.8\" font-family=\"Helvetica,sans-Serif\" font-size=\"14.00\">value = [29, 24]</text>\n<text text-anchor=\"middle\" x=\"395\" y=\"-111.8\" font-family=\"Helvetica,sans-Serif\" font-size=\"14.00\">class = 0</text>\n</g>\n<!-- 4&#45;&gt;8 -->\n<g id=\"edge8\" class=\"edge\">\n<title>4-&gt;8</title>\n<path fill=\"none\" stroke=\"black\" d=\"M395,-222.91C395,-214.65 395,-205.86 395,-197.3\"/>\n<polygon fill=\"black\" stroke=\"black\" points=\"398.5,-197.02 395,-187.02 391.5,-197.02 398.5,-197.02\"/>\n</g>\n<!-- 6 -->\n<g id=\"node7\" class=\"node\">\n<title>6</title>\n<polygon fill=\"#f4caac\" stroke=\"black\" points=\"110,-68 0,-68 0,0 110,0 110,-68\"/>\n<text text-anchor=\"middle\" x=\"55\" y=\"-52.8\" font-family=\"Helvetica,sans-Serif\" font-size=\"14.00\">gini = 0.465</text>\n<text text-anchor=\"middle\" x=\"55\" y=\"-37.8\" font-family=\"Helvetica,sans-Serif\" font-size=\"14.00\">samples = 87</text>\n<text text-anchor=\"middle\" x=\"55\" y=\"-22.8\" font-family=\"Helvetica,sans-Serif\" font-size=\"14.00\">value = [55, 32]</text>\n<text text-anchor=\"middle\" x=\"55\" y=\"-7.8\" font-family=\"Helvetica,sans-Serif\" font-size=\"14.00\">class = 0</text>\n</g>\n<!-- 5&#45;&gt;6 -->\n<g id=\"edge6\" class=\"edge\">\n<title>5-&gt;6</title>\n<path fill=\"none\" stroke=\"black\" d=\"M135.34,-103.73C124.36,-94.33 112.69,-84.35 101.74,-74.99\"/>\n<polygon fill=\"black\" stroke=\"black\" points=\"103.8,-72.14 93.93,-68.3 99.25,-77.46 103.8,-72.14\"/>\n</g>\n<!-- 7 -->\n<g id=\"node8\" class=\"node\">\n<title>7</title>\n<polygon fill=\"#f0b78e\" stroke=\"black\" points=\"238,-68 128,-68 128,0 238,0 238,-68\"/>\n<text text-anchor=\"middle\" x=\"183\" y=\"-52.8\" font-family=\"Helvetica,sans-Serif\" font-size=\"14.00\">gini = 0.421</text>\n<text text-anchor=\"middle\" x=\"183\" y=\"-37.8\" font-family=\"Helvetica,sans-Serif\" font-size=\"14.00\">samples = 73</text>\n<text text-anchor=\"middle\" x=\"183\" y=\"-22.8\" font-family=\"Helvetica,sans-Serif\" font-size=\"14.00\">value = [51, 22]</text>\n<text text-anchor=\"middle\" x=\"183\" y=\"-7.8\" font-family=\"Helvetica,sans-Serif\" font-size=\"14.00\">class = 0</text>\n</g>\n<!-- 5&#45;&gt;7 -->\n<g id=\"edge7\" class=\"edge\">\n<title>5-&gt;7</title>\n<path fill=\"none\" stroke=\"black\" d=\"M183,-103.73C183,-95.52 183,-86.86 183,-78.56\"/>\n<polygon fill=\"black\" stroke=\"black\" points=\"186.5,-78.3 183,-68.3 179.5,-78.3 186.5,-78.3\"/>\n</g>\n<!-- 9 -->\n<g id=\"node10\" class=\"node\">\n<title>9</title>\n<polygon fill=\"#f8ddca\" stroke=\"black\" points=\"366,-68 256,-68 256,0 366,0 366,-68\"/>\n<text text-anchor=\"middle\" x=\"311\" y=\"-52.8\" font-family=\"Helvetica,sans-Serif\" font-size=\"14.00\">gini = 0.488</text>\n<text text-anchor=\"middle\" x=\"311\" y=\"-37.8\" font-family=\"Helvetica,sans-Serif\" font-size=\"14.00\">samples = 26</text>\n<text text-anchor=\"middle\" x=\"311\" y=\"-22.8\" font-family=\"Helvetica,sans-Serif\" font-size=\"14.00\">value = [15, 11]</text>\n<text text-anchor=\"middle\" x=\"311\" y=\"-7.8\" font-family=\"Helvetica,sans-Serif\" font-size=\"14.00\">class = 0</text>\n</g>\n<!-- 8&#45;&gt;9 -->\n<g id=\"edge9\" class=\"edge\">\n<title>8-&gt;9</title>\n<path fill=\"none\" stroke=\"black\" d=\"M363.72,-103.73C356.86,-94.79 349.6,-85.32 342.72,-76.36\"/>\n<polygon fill=\"black\" stroke=\"black\" points=\"345.41,-74.1 336.54,-68.3 339.85,-78.36 345.41,-74.1\"/>\n</g>\n<!-- 10 -->\n<g id=\"node11\" class=\"node\">\n<title>10</title>\n<polygon fill=\"#fdf6f1\" stroke=\"black\" points=\"494,-68 384,-68 384,0 494,0 494,-68\"/>\n<text text-anchor=\"middle\" x=\"439\" y=\"-52.8\" font-family=\"Helvetica,sans-Serif\" font-size=\"14.00\">gini = 0.499</text>\n<text text-anchor=\"middle\" x=\"439\" y=\"-37.8\" font-family=\"Helvetica,sans-Serif\" font-size=\"14.00\">samples = 27</text>\n<text text-anchor=\"middle\" x=\"439\" y=\"-22.8\" font-family=\"Helvetica,sans-Serif\" font-size=\"14.00\">value = [14, 13]</text>\n<text text-anchor=\"middle\" x=\"439\" y=\"-7.8\" font-family=\"Helvetica,sans-Serif\" font-size=\"14.00\">class = 0</text>\n</g>\n<!-- 8&#45;&gt;10 -->\n<g id=\"edge10\" class=\"edge\">\n<title>8-&gt;10</title>\n<path fill=\"none\" stroke=\"black\" d=\"M411.38,-103.73C414.79,-95.24 418.39,-86.28 421.83,-77.73\"/>\n<polygon fill=\"black\" stroke=\"black\" points=\"425.14,-78.88 425.62,-68.3 418.64,-76.27 425.14,-78.88\"/>\n</g>\n<!-- 12 -->\n<g id=\"node13\" class=\"node\">\n<title>12</title>\n<polygon fill=\"#fcf0e8\" stroke=\"black\" points=\"737.5,-187 588.5,-187 588.5,-104 737.5,-104 737.5,-187\"/>\n<text text-anchor=\"middle\" x=\"663\" y=\"-171.8\" font-family=\"Helvetica,sans-Serif\" font-size=\"14.00\">no_of_persons &lt;= 1.5</text>\n<text text-anchor=\"middle\" x=\"663\" y=\"-156.8\" font-family=\"Helvetica,sans-Serif\" font-size=\"14.00\">gini = 0.498</text>\n<text text-anchor=\"middle\" x=\"663\" y=\"-141.8\" font-family=\"Helvetica,sans-Serif\" font-size=\"14.00\">samples = 98</text>\n<text text-anchor=\"middle\" x=\"663\" y=\"-126.8\" font-family=\"Helvetica,sans-Serif\" font-size=\"14.00\">value = [52, 46]</text>\n<text text-anchor=\"middle\" x=\"663\" y=\"-111.8\" font-family=\"Helvetica,sans-Serif\" font-size=\"14.00\">class = 0</text>\n</g>\n<!-- 11&#45;&gt;12 -->\n<g id=\"edge12\" class=\"edge\">\n<title>11-&gt;12</title>\n<path fill=\"none\" stroke=\"black\" d=\"M707.41,-222.91C702.34,-214.2 696.94,-204.9 691.71,-195.89\"/>\n<polygon fill=\"black\" stroke=\"black\" points=\"694.6,-193.91 686.55,-187.02 688.55,-197.43 694.6,-193.91\"/>\n</g>\n<!-- 15 -->\n<g id=\"node16\" class=\"node\">\n<title>15</title>\n<polygon fill=\"#add6f4\" stroke=\"black\" points=\"890,-187 756,-187 756,-104 890,-104 890,-187\"/>\n<text text-anchor=\"middle\" x=\"823\" y=\"-171.8\" font-family=\"Helvetica,sans-Serif\" font-size=\"14.00\">no_of_doors &lt;= 1.5</text>\n<text text-anchor=\"middle\" x=\"823\" y=\"-156.8\" font-family=\"Helvetica,sans-Serif\" font-size=\"14.00\">gini = 0.466</text>\n<text text-anchor=\"middle\" x=\"823\" y=\"-141.8\" font-family=\"Helvetica,sans-Serif\" font-size=\"14.00\">samples = 295</text>\n<text text-anchor=\"middle\" x=\"823\" y=\"-126.8\" font-family=\"Helvetica,sans-Serif\" font-size=\"14.00\">value = [109, 186]</text>\n<text text-anchor=\"middle\" x=\"823\" y=\"-111.8\" font-family=\"Helvetica,sans-Serif\" font-size=\"14.00\">class = 1</text>\n</g>\n<!-- 11&#45;&gt;15 -->\n<g id=\"edge15\" class=\"edge\">\n<title>11-&gt;15</title>\n<path fill=\"none\" stroke=\"black\" d=\"M762.92,-222.91C769.98,-213.92 777.54,-204.32 784.82,-195.05\"/>\n<polygon fill=\"black\" stroke=\"black\" points=\"787.71,-197.05 791.14,-187.02 782.2,-192.72 787.71,-197.05\"/>\n</g>\n<!-- 13 -->\n<g id=\"node14\" class=\"node\">\n<title>13</title>\n<polygon fill=\"#b2d9f5\" stroke=\"black\" points=\"622,-68 512,-68 512,0 622,0 622,-68\"/>\n<text text-anchor=\"middle\" x=\"567\" y=\"-52.8\" font-family=\"Helvetica,sans-Serif\" font-size=\"14.00\">gini = 0.471</text>\n<text text-anchor=\"middle\" x=\"567\" y=\"-37.8\" font-family=\"Helvetica,sans-Serif\" font-size=\"14.00\">samples = 50</text>\n<text text-anchor=\"middle\" x=\"567\" y=\"-22.8\" font-family=\"Helvetica,sans-Serif\" font-size=\"14.00\">value = [19, 31]</text>\n<text text-anchor=\"middle\" x=\"567\" y=\"-7.8\" font-family=\"Helvetica,sans-Serif\" font-size=\"14.00\">class = 1</text>\n</g>\n<!-- 12&#45;&gt;13 -->\n<g id=\"edge13\" class=\"edge\">\n<title>12-&gt;13</title>\n<path fill=\"none\" stroke=\"black\" d=\"M627.25,-103.73C619.34,-94.7 610.94,-85.12 603.02,-76.08\"/>\n<polygon fill=\"black\" stroke=\"black\" points=\"605.42,-73.51 596.19,-68.3 600.15,-78.13 605.42,-73.51\"/>\n</g>\n<!-- 14 -->\n<g id=\"node15\" class=\"node\">\n<title>14</title>\n<polygon fill=\"#f1ba93\" stroke=\"black\" points=\"750,-68 640,-68 640,0 750,0 750,-68\"/>\n<text text-anchor=\"middle\" x=\"695\" y=\"-52.8\" font-family=\"Helvetica,sans-Serif\" font-size=\"14.00\">gini = 0.43</text>\n<text text-anchor=\"middle\" x=\"695\" y=\"-37.8\" font-family=\"Helvetica,sans-Serif\" font-size=\"14.00\">samples = 48</text>\n<text text-anchor=\"middle\" x=\"695\" y=\"-22.8\" font-family=\"Helvetica,sans-Serif\" font-size=\"14.00\">value = [33, 15]</text>\n<text text-anchor=\"middle\" x=\"695\" y=\"-7.8\" font-family=\"Helvetica,sans-Serif\" font-size=\"14.00\">class = 0</text>\n</g>\n<!-- 12&#45;&gt;14 -->\n<g id=\"edge14\" class=\"edge\">\n<title>12-&gt;14</title>\n<path fill=\"none\" stroke=\"black\" d=\"M674.92,-103.73C677.37,-95.34 679.96,-86.47 682.43,-78.01\"/>\n<polygon fill=\"black\" stroke=\"black\" points=\"685.82,-78.88 685.27,-68.3 679.1,-76.92 685.82,-78.88\"/>\n</g>\n<!-- 16 -->\n<g id=\"node17\" class=\"node\">\n<title>16</title>\n<polygon fill=\"#c2e1f7\" stroke=\"black\" points=\"878,-68 768,-68 768,0 878,0 878,-68\"/>\n<text text-anchor=\"middle\" x=\"823\" y=\"-52.8\" font-family=\"Helvetica,sans-Serif\" font-size=\"14.00\">gini = 0.483</text>\n<text text-anchor=\"middle\" x=\"823\" y=\"-37.8\" font-family=\"Helvetica,sans-Serif\" font-size=\"14.00\">samples = 88</text>\n<text text-anchor=\"middle\" x=\"823\" y=\"-22.8\" font-family=\"Helvetica,sans-Serif\" font-size=\"14.00\">value = [36, 52]</text>\n<text text-anchor=\"middle\" x=\"823\" y=\"-7.8\" font-family=\"Helvetica,sans-Serif\" font-size=\"14.00\">class = 1</text>\n</g>\n<!-- 15&#45;&gt;16 -->\n<g id=\"edge16\" class=\"edge\">\n<title>15-&gt;16</title>\n<path fill=\"none\" stroke=\"black\" d=\"M823,-103.73C823,-95.52 823,-86.86 823,-78.56\"/>\n<polygon fill=\"black\" stroke=\"black\" points=\"826.5,-78.3 823,-68.3 819.5,-78.3 826.5,-78.3\"/>\n</g>\n<!-- 17 -->\n<g id=\"node18\" class=\"node\">\n<title>17</title>\n<polygon fill=\"#a5d2f3\" stroke=\"black\" points=\"1013.5,-68 896.5,-68 896.5,0 1013.5,0 1013.5,-68\"/>\n<text text-anchor=\"middle\" x=\"955\" y=\"-52.8\" font-family=\"Helvetica,sans-Serif\" font-size=\"14.00\">gini = 0.457</text>\n<text text-anchor=\"middle\" x=\"955\" y=\"-37.8\" font-family=\"Helvetica,sans-Serif\" font-size=\"14.00\">samples = 207</text>\n<text text-anchor=\"middle\" x=\"955\" y=\"-22.8\" font-family=\"Helvetica,sans-Serif\" font-size=\"14.00\">value = [73, 134]</text>\n<text text-anchor=\"middle\" x=\"955\" y=\"-7.8\" font-family=\"Helvetica,sans-Serif\" font-size=\"14.00\">class = 1</text>\n</g>\n<!-- 15&#45;&gt;17 -->\n<g id=\"edge17\" class=\"edge\">\n<title>15-&gt;17</title>\n<path fill=\"none\" stroke=\"black\" d=\"M872.15,-103.73C883.59,-94.24 895.74,-84.16 907.12,-74.72\"/>\n<polygon fill=\"black\" stroke=\"black\" points=\"909.4,-77.38 914.86,-68.3 904.93,-71.99 909.4,-77.38\"/>\n</g>\n<!-- 19 -->\n<g id=\"node20\" class=\"node\">\n<title>19</title>\n<polygon fill=\"#eb9d65\" stroke=\"black\" points=\"1077.5,-306 928.5,-306 928.5,-223 1077.5,-223 1077.5,-306\"/>\n<text text-anchor=\"middle\" x=\"1003\" y=\"-290.8\" font-family=\"Helvetica,sans-Serif\" font-size=\"14.00\">no_of_persons &lt;= 1.5</text>\n<text text-anchor=\"middle\" x=\"1003\" y=\"-275.8\" font-family=\"Helvetica,sans-Serif\" font-size=\"14.00\">gini = 0.298</text>\n<text text-anchor=\"middle\" x=\"1003\" y=\"-260.8\" font-family=\"Helvetica,sans-Serif\" font-size=\"14.00\">samples = 55</text>\n<text text-anchor=\"middle\" x=\"1003\" y=\"-245.8\" font-family=\"Helvetica,sans-Serif\" font-size=\"14.00\">value = [45, 10]</text>\n<text text-anchor=\"middle\" x=\"1003\" y=\"-230.8\" font-family=\"Helvetica,sans-Serif\" font-size=\"14.00\">class = 0</text>\n</g>\n<!-- 18&#45;&gt;19 -->\n<g id=\"edge19\" class=\"edge\">\n<title>18-&gt;19</title>\n<path fill=\"none\" stroke=\"black\" d=\"M1003,-341.91C1003,-333.65 1003,-324.86 1003,-316.3\"/>\n<polygon fill=\"black\" stroke=\"black\" points=\"1006.5,-316.02 1003,-306.02 999.5,-316.02 1006.5,-316.02\"/>\n</g>\n<!-- 22 -->\n<g id=\"node23\" class=\"node\">\n<title>22</title>\n<polygon fill=\"#eead7e\" stroke=\"black\" points=\"1289.5,-306 1140.5,-306 1140.5,-223 1289.5,-223 1289.5,-306\"/>\n<text text-anchor=\"middle\" x=\"1215\" y=\"-290.8\" font-family=\"Helvetica,sans-Serif\" font-size=\"14.00\">no_of_persons &lt;= 1.5</text>\n<text text-anchor=\"middle\" x=\"1215\" y=\"-275.8\" font-family=\"Helvetica,sans-Serif\" font-size=\"14.00\">gini = 0.383</text>\n<text text-anchor=\"middle\" x=\"1215\" y=\"-260.8\" font-family=\"Helvetica,sans-Serif\" font-size=\"14.00\">samples = 155</text>\n<text text-anchor=\"middle\" x=\"1215\" y=\"-245.8\" font-family=\"Helvetica,sans-Serif\" font-size=\"14.00\">value = [115, 40]</text>\n<text text-anchor=\"middle\" x=\"1215\" y=\"-230.8\" font-family=\"Helvetica,sans-Serif\" font-size=\"14.00\">class = 0</text>\n</g>\n<!-- 18&#45;&gt;22 -->\n<g id=\"edge22\" class=\"edge\">\n<title>18-&gt;22</title>\n<path fill=\"none\" stroke=\"black\" d=\"M1070.08,-345.48C1089.93,-334.53 1111.89,-322.4 1132.59,-310.98\"/>\n<polygon fill=\"black\" stroke=\"black\" points=\"1134.31,-314.03 1141.37,-306.13 1130.93,-307.9 1134.31,-314.03\"/>\n</g>\n<!-- 20 -->\n<g id=\"node21\" class=\"node\">\n<title>20</title>\n<polygon fill=\"#eb9c64\" stroke=\"black\" points=\"1010,-179.5 908,-179.5 908,-111.5 1010,-111.5 1010,-179.5\"/>\n<text text-anchor=\"middle\" x=\"959\" y=\"-164.3\" font-family=\"Helvetica,sans-Serif\" font-size=\"14.00\">gini = 0.293</text>\n<text text-anchor=\"middle\" x=\"959\" y=\"-149.3\" font-family=\"Helvetica,sans-Serif\" font-size=\"14.00\">samples = 28</text>\n<text text-anchor=\"middle\" x=\"959\" y=\"-134.3\" font-family=\"Helvetica,sans-Serif\" font-size=\"14.00\">value = [23, 5]</text>\n<text text-anchor=\"middle\" x=\"959\" y=\"-119.3\" font-family=\"Helvetica,sans-Serif\" font-size=\"14.00\">class = 0</text>\n</g>\n<!-- 19&#45;&gt;20 -->\n<g id=\"edge20\" class=\"edge\">\n<title>19-&gt;20</title>\n<path fill=\"none\" stroke=\"black\" d=\"M987.73,-222.91C983.63,-211.98 979.17,-200.14 975.02,-189.11\"/>\n<polygon fill=\"black\" stroke=\"black\" points=\"978.27,-187.79 971.47,-179.67 971.72,-190.26 978.27,-187.79\"/>\n</g>\n<!-- 21 -->\n<g id=\"node22\" class=\"node\">\n<title>21</title>\n<polygon fill=\"#eb9e66\" stroke=\"black\" points=\"1130,-179.5 1028,-179.5 1028,-111.5 1130,-111.5 1130,-179.5\"/>\n<text text-anchor=\"middle\" x=\"1079\" y=\"-164.3\" font-family=\"Helvetica,sans-Serif\" font-size=\"14.00\">gini = 0.302</text>\n<text text-anchor=\"middle\" x=\"1079\" y=\"-149.3\" font-family=\"Helvetica,sans-Serif\" font-size=\"14.00\">samples = 27</text>\n<text text-anchor=\"middle\" x=\"1079\" y=\"-134.3\" font-family=\"Helvetica,sans-Serif\" font-size=\"14.00\">value = [22, 5]</text>\n<text text-anchor=\"middle\" x=\"1079\" y=\"-119.3\" font-family=\"Helvetica,sans-Serif\" font-size=\"14.00\">class = 0</text>\n</g>\n<!-- 19&#45;&gt;21 -->\n<g id=\"edge21\" class=\"edge\">\n<title>19-&gt;21</title>\n<path fill=\"none\" stroke=\"black\" d=\"M1029.37,-222.91C1036.68,-211.65 1044.63,-199.42 1051.97,-188.11\"/>\n<polygon fill=\"black\" stroke=\"black\" points=\"1054.94,-189.96 1057.46,-179.67 1049.07,-186.15 1054.94,-189.96\"/>\n</g>\n<!-- 23 -->\n<g id=\"node24\" class=\"node\">\n<title>23</title>\n<polygon fill=\"#eda775\" stroke=\"black\" points=\"1282,-187 1148,-187 1148,-104 1282,-104 1282,-187\"/>\n<text text-anchor=\"middle\" x=\"1215\" y=\"-171.8\" font-family=\"Helvetica,sans-Serif\" font-size=\"14.00\">no_of_doors &lt;= 1.5</text>\n<text text-anchor=\"middle\" x=\"1215\" y=\"-156.8\" font-family=\"Helvetica,sans-Serif\" font-size=\"14.00\">gini = 0.358</text>\n<text text-anchor=\"middle\" x=\"1215\" y=\"-141.8\" font-family=\"Helvetica,sans-Serif\" font-size=\"14.00\">samples = 77</text>\n<text text-anchor=\"middle\" x=\"1215\" y=\"-126.8\" font-family=\"Helvetica,sans-Serif\" font-size=\"14.00\">value = [59, 18]</text>\n<text text-anchor=\"middle\" x=\"1215\" y=\"-111.8\" font-family=\"Helvetica,sans-Serif\" font-size=\"14.00\">class = 0</text>\n</g>\n<!-- 22&#45;&gt;23 -->\n<g id=\"edge23\" class=\"edge\">\n<title>22-&gt;23</title>\n<path fill=\"none\" stroke=\"black\" d=\"M1215,-222.91C1215,-214.65 1215,-205.86 1215,-197.3\"/>\n<polygon fill=\"black\" stroke=\"black\" points=\"1218.5,-197.02 1215,-187.02 1211.5,-197.02 1218.5,-197.02\"/>\n</g>\n<!-- 26 -->\n<g id=\"node27\" class=\"node\">\n<title>26</title>\n<polygon fill=\"#efb287\" stroke=\"black\" points=\"1434,-187 1300,-187 1300,-104 1434,-104 1434,-187\"/>\n<text text-anchor=\"middle\" x=\"1367\" y=\"-171.8\" font-family=\"Helvetica,sans-Serif\" font-size=\"14.00\">no_of_doors &lt;= 2.5</text>\n<text text-anchor=\"middle\" x=\"1367\" y=\"-156.8\" font-family=\"Helvetica,sans-Serif\" font-size=\"14.00\">gini = 0.405</text>\n<text text-anchor=\"middle\" x=\"1367\" y=\"-141.8\" font-family=\"Helvetica,sans-Serif\" font-size=\"14.00\">samples = 78</text>\n<text text-anchor=\"middle\" x=\"1367\" y=\"-126.8\" font-family=\"Helvetica,sans-Serif\" font-size=\"14.00\">value = [56, 22]</text>\n<text text-anchor=\"middle\" x=\"1367\" y=\"-111.8\" font-family=\"Helvetica,sans-Serif\" font-size=\"14.00\">class = 0</text>\n</g>\n<!-- 22&#45;&gt;26 -->\n<g id=\"edge26\" class=\"edge\">\n<title>22-&gt;26</title>\n<path fill=\"none\" stroke=\"black\" d=\"M1267.74,-222.91C1280.12,-213.38 1293.41,-203.15 1306.11,-193.37\"/>\n<polygon fill=\"black\" stroke=\"black\" points=\"1308.57,-195.89 1314.36,-187.02 1304.3,-190.35 1308.57,-195.89\"/>\n</g>\n<!-- 24 -->\n<g id=\"node25\" class=\"node\">\n<title>24</title>\n<polygon fill=\"#ea985d\" stroke=\"black\" points=\"1148,-68 1046,-68 1046,0 1148,0 1148,-68\"/>\n<text text-anchor=\"middle\" x=\"1097\" y=\"-52.8\" font-family=\"Helvetica,sans-Serif\" font-size=\"14.00\">gini = 0.26</text>\n<text text-anchor=\"middle\" x=\"1097\" y=\"-37.8\" font-family=\"Helvetica,sans-Serif\" font-size=\"14.00\">samples = 26</text>\n<text text-anchor=\"middle\" x=\"1097\" y=\"-22.8\" font-family=\"Helvetica,sans-Serif\" font-size=\"14.00\">value = [22, 4]</text>\n<text text-anchor=\"middle\" x=\"1097\" y=\"-7.8\" font-family=\"Helvetica,sans-Serif\" font-size=\"14.00\">class = 0</text>\n</g>\n<!-- 23&#45;&gt;24 -->\n<g id=\"edge24\" class=\"edge\">\n<title>23-&gt;24</title>\n<path fill=\"none\" stroke=\"black\" d=\"M1171.06,-103.73C1161.04,-94.42 1150.39,-84.54 1140.39,-75.26\"/>\n<polygon fill=\"black\" stroke=\"black\" points=\"1142.6,-72.54 1132.88,-68.3 1137.83,-77.67 1142.6,-72.54\"/>\n</g>\n<!-- 25 -->\n<g id=\"node26\" class=\"node\">\n<title>25</title>\n<polygon fill=\"#efb184\" stroke=\"black\" points=\"1276,-68 1166,-68 1166,0 1276,0 1276,-68\"/>\n<text text-anchor=\"middle\" x=\"1221\" y=\"-52.8\" font-family=\"Helvetica,sans-Serif\" font-size=\"14.00\">gini = 0.398</text>\n<text text-anchor=\"middle\" x=\"1221\" y=\"-37.8\" font-family=\"Helvetica,sans-Serif\" font-size=\"14.00\">samples = 51</text>\n<text text-anchor=\"middle\" x=\"1221\" y=\"-22.8\" font-family=\"Helvetica,sans-Serif\" font-size=\"14.00\">value = [37, 14]</text>\n<text text-anchor=\"middle\" x=\"1221\" y=\"-7.8\" font-family=\"Helvetica,sans-Serif\" font-size=\"14.00\">class = 0</text>\n</g>\n<!-- 23&#45;&gt;25 -->\n<g id=\"edge25\" class=\"edge\">\n<title>23-&gt;25</title>\n<path fill=\"none\" stroke=\"black\" d=\"M1217.23,-103.73C1217.68,-95.52 1218.16,-86.86 1218.61,-78.56\"/>\n<polygon fill=\"black\" stroke=\"black\" points=\"1222.12,-78.48 1219.18,-68.3 1215.13,-78.09 1222.12,-78.48\"/>\n</g>\n<!-- 27 -->\n<g id=\"node28\" class=\"node\">\n<title>27</title>\n<polygon fill=\"#f1b992\" stroke=\"black\" points=\"1416,-68 1306,-68 1306,0 1416,0 1416,-68\"/>\n<text text-anchor=\"middle\" x=\"1361\" y=\"-52.8\" font-family=\"Helvetica,sans-Serif\" font-size=\"14.00\">gini = 0.427</text>\n<text text-anchor=\"middle\" x=\"1361\" y=\"-37.8\" font-family=\"Helvetica,sans-Serif\" font-size=\"14.00\">samples = 55</text>\n<text text-anchor=\"middle\" x=\"1361\" y=\"-22.8\" font-family=\"Helvetica,sans-Serif\" font-size=\"14.00\">value = [38, 17]</text>\n<text text-anchor=\"middle\" x=\"1361\" y=\"-7.8\" font-family=\"Helvetica,sans-Serif\" font-size=\"14.00\">class = 0</text>\n</g>\n<!-- 26&#45;&gt;27 -->\n<g id=\"edge27\" class=\"edge\">\n<title>26-&gt;27</title>\n<path fill=\"none\" stroke=\"black\" d=\"M1364.77,-103.73C1364.32,-95.52 1363.84,-86.86 1363.39,-78.56\"/>\n<polygon fill=\"black\" stroke=\"black\" points=\"1366.87,-78.09 1362.82,-68.3 1359.88,-78.48 1366.87,-78.09\"/>\n</g>\n<!-- 28 -->\n<g id=\"node29\" class=\"node\">\n<title>28</title>\n<polygon fill=\"#eca470\" stroke=\"black\" points=\"1536,-68 1434,-68 1434,0 1536,0 1536,-68\"/>\n<text text-anchor=\"middle\" x=\"1485\" y=\"-52.8\" font-family=\"Helvetica,sans-Serif\" font-size=\"14.00\">gini = 0.34</text>\n<text text-anchor=\"middle\" x=\"1485\" y=\"-37.8\" font-family=\"Helvetica,sans-Serif\" font-size=\"14.00\">samples = 23</text>\n<text text-anchor=\"middle\" x=\"1485\" y=\"-22.8\" font-family=\"Helvetica,sans-Serif\" font-size=\"14.00\">value = [18, 5]</text>\n<text text-anchor=\"middle\" x=\"1485\" y=\"-7.8\" font-family=\"Helvetica,sans-Serif\" font-size=\"14.00\">class = 0</text>\n</g>\n<!-- 26&#45;&gt;28 -->\n<g id=\"edge28\" class=\"edge\">\n<title>26-&gt;28</title>\n<path fill=\"none\" stroke=\"black\" d=\"M1410.94,-103.73C1420.96,-94.42 1431.61,-84.54 1441.61,-75.26\"/>\n<polygon fill=\"black\" stroke=\"black\" points=\"1444.17,-77.67 1449.12,-68.3 1439.4,-72.54 1444.17,-77.67\"/>\n</g>\n</g>\n</svg>"
          },
          "metadata": {}
        }
      ]
    },
    {
      "cell_type": "code",
      "source": [
        "y_pred_train = treeclf1.predict(X_train)\n",
        "train_accuracy = accuracy_score(y_train, y_pred_train)\n",
        "\n",
        "y_pred_test = treeclf1.predict(X_test)\n",
        "test_accuracy = accuracy_score(y_test, y_pred_test)\n",
        "\n",
        "print('Training Accuracy:', train_accuracy)\n",
        "print('Testing Accuracy:', test_accuracy)"
      ],
      "metadata": {
        "colab": {
          "base_uri": "https://localhost:8080/"
        },
        "id": "zy4mpTFV51Fr",
        "outputId": "6d205a93-c187-4f64-eba3-27f397f2b12c"
      },
      "execution_count": 32,
      "outputs": [
        {
          "output_type": "stream",
          "name": "stdout",
          "text": [
            "Training Accuracy: 0.7756622516556292\n",
            "Testing Accuracy: 0.74373795761079\n"
          ]
        }
      ]
    },
    {
      "cell_type": "code",
      "source": [
        "p,r,f,s = precision_recall_fscore_support(y_test, y_pred_test)\n",
        "display('precision = {}'.format(p))\n",
        "display('recall = {}'.format(r))\n",
        "display('f-score = {}'.format(f))"
      ],
      "metadata": {
        "colab": {
          "base_uri": "https://localhost:8080/",
          "height": 71
        },
        "id": "M4sXNes851CF",
        "outputId": "2cd3bb70-287c-4ee9-b943-228533cef8f3"
      },
      "execution_count": 33,
      "outputs": [
        {
          "output_type": "display_data",
          "data": {
            "text/plain": [
              "'precision = [0.81666667 0.57861635]'"
            ],
            "application/vnd.google.colaboratory.intrinsic+json": {
              "type": "string"
            }
          },
          "metadata": {}
        },
        {
          "output_type": "display_data",
          "data": {
            "text/plain": [
              "'recall = [0.81440443 0.58227848]'"
            ],
            "application/vnd.google.colaboratory.intrinsic+json": {
              "type": "string"
            }
          },
          "metadata": {}
        },
        {
          "output_type": "display_data",
          "data": {
            "text/plain": [
              "'f-score = [0.81553398 0.58044164]'"
            ],
            "application/vnd.google.colaboratory.intrinsic+json": {
              "type": "string"
            }
          },
          "metadata": {}
        }
      ]
    },
    {
      "cell_type": "markdown",
      "source": [
        "Considering only important features"
      ],
      "metadata": {
        "id": "Rtalwljp6uV9"
      }
    },
    {
      "cell_type": "code",
      "source": [
        "X = cars[['buying_price', 'no_of_persons', 'safety']]\n",
        "y = cars['decision']\n",
        "imp = ['buying_price', 'no_of_persons', 'safety']"
      ],
      "metadata": {
        "id": "NWuqRDik50_5"
      },
      "execution_count": 34,
      "outputs": []
    },
    {
      "cell_type": "code",
      "source": [
        "X_train, X_test, y_train, y_test = train_test_split(X, y, test_size=0.3, random_state=42)\n",
        "\n",
        "encoder = OrdinalEncoder()\n",
        "X_train = encoder.fit_transform(X_train)\n",
        "X_test = encoder.transform(X_test)"
      ],
      "metadata": {
        "id": "QXrGLbvv505E"
      },
      "execution_count": 35,
      "outputs": []
    },
    {
      "cell_type": "code",
      "source": [
        "treeclf2 = DecisionTreeClassifier(max_depth=5, random_state=42)\n",
        "treeclf2.fit(X_train, y_train)\n",
        "graph = Source(tree.export_graphviz(treeclf2, out_file=None,\n",
        "                                    feature_names=imp,\n",
        "                                    class_names=['0', '1'], filled = True))\n",
        "svg = SVG(graph.pipe(format='svg'))\n",
        "display(svg)\n"
      ],
      "metadata": {
        "colab": {
          "base_uri": "https://localhost:8080/",
          "height": 936
        },
        "id": "xMkCIkR2dYq1",
        "outputId": "cbabbc36-0e5b-4f24-fff9-721847f5897a"
      },
      "execution_count": 36,
      "outputs": [
        {
          "output_type": "display_data",
          "data": {
            "text/plain": [
              "<IPython.core.display.SVG object>"
            ],
            "image/svg+xml": "<svg xmlns=\"http://www.w3.org/2000/svg\" xmlns:xlink=\"http://www.w3.org/1999/xlink\" width=\"1109pt\" height=\"671pt\" viewBox=\"0.00 0.00 1109.00 671.00\">\n<g id=\"graph0\" class=\"graph\" transform=\"scale(1 1) rotate(0) translate(4 667)\">\n<title>Tree</title>\n<polygon fill=\"white\" stroke=\"transparent\" points=\"-4,4 -4,-667 1105,-667 1105,4 -4,4\"/>\n<!-- 0 -->\n<g id=\"node1\" class=\"node\">\n<title>0</title>\n<polygon fill=\"#f0b68d\" stroke=\"black\" points=\"570.5,-663 421.5,-663 421.5,-580 570.5,-580 570.5,-663\"/>\n<text text-anchor=\"middle\" x=\"496\" y=\"-647.8\" font-family=\"Helvetica,sans-Serif\" font-size=\"14.00\">no_of_persons &lt;= 0.5</text>\n<text text-anchor=\"middle\" x=\"496\" y=\"-632.8\" font-family=\"Helvetica,sans-Serif\" font-size=\"14.00\">gini = 0.418</text>\n<text text-anchor=\"middle\" x=\"496\" y=\"-617.8\" font-family=\"Helvetica,sans-Serif\" font-size=\"14.00\">samples = 1208</text>\n<text text-anchor=\"middle\" x=\"496\" y=\"-602.8\" font-family=\"Helvetica,sans-Serif\" font-size=\"14.00\">value = [848, 360]</text>\n<text text-anchor=\"middle\" x=\"496\" y=\"-587.8\" font-family=\"Helvetica,sans-Serif\" font-size=\"14.00\">class = 0</text>\n</g>\n<!-- 1 -->\n<g id=\"node2\" class=\"node\">\n<title>1</title>\n<polygon fill=\"#e58139\" stroke=\"black\" points=\"483,-536.5 373,-536.5 373,-468.5 483,-468.5 483,-536.5\"/>\n<text text-anchor=\"middle\" x=\"428\" y=\"-521.3\" font-family=\"Helvetica,sans-Serif\" font-size=\"14.00\">gini = 0.0</text>\n<text text-anchor=\"middle\" x=\"428\" y=\"-506.3\" font-family=\"Helvetica,sans-Serif\" font-size=\"14.00\">samples = 392</text>\n<text text-anchor=\"middle\" x=\"428\" y=\"-491.3\" font-family=\"Helvetica,sans-Serif\" font-size=\"14.00\">value = [392, 0]</text>\n<text text-anchor=\"middle\" x=\"428\" y=\"-476.3\" font-family=\"Helvetica,sans-Serif\" font-size=\"14.00\">class = 0</text>\n</g>\n<!-- 0&#45;&gt;1 -->\n<g id=\"edge1\" class=\"edge\">\n<title>0-&gt;1</title>\n<path fill=\"none\" stroke=\"black\" d=\"M472.41,-579.91C465.93,-568.76 458.9,-556.66 452.37,-545.44\"/>\n<polygon fill=\"black\" stroke=\"black\" points=\"455.33,-543.55 447.28,-536.67 449.28,-547.07 455.33,-543.55\"/>\n<text text-anchor=\"middle\" x=\"440.88\" y=\"-557.13\" font-family=\"Helvetica,sans-Serif\" font-size=\"14.00\">True</text>\n</g>\n<!-- 2 -->\n<g id=\"node3\" class=\"node\">\n<title>2</title>\n<polygon fill=\"#fae4d5\" stroke=\"black\" points=\"626.5,-544 501.5,-544 501.5,-461 626.5,-461 626.5,-544\"/>\n<text text-anchor=\"middle\" x=\"564\" y=\"-528.8\" font-family=\"Helvetica,sans-Serif\" font-size=\"14.00\">safety &lt;= 0.5</text>\n<text text-anchor=\"middle\" x=\"564\" y=\"-513.8\" font-family=\"Helvetica,sans-Serif\" font-size=\"14.00\">gini = 0.493</text>\n<text text-anchor=\"middle\" x=\"564\" y=\"-498.8\" font-family=\"Helvetica,sans-Serif\" font-size=\"14.00\">samples = 816</text>\n<text text-anchor=\"middle\" x=\"564\" y=\"-483.8\" font-family=\"Helvetica,sans-Serif\" font-size=\"14.00\">value = [456, 360]</text>\n<text text-anchor=\"middle\" x=\"564\" y=\"-468.8\" font-family=\"Helvetica,sans-Serif\" font-size=\"14.00\">class = 0</text>\n</g>\n<!-- 0&#45;&gt;2 -->\n<g id=\"edge2\" class=\"edge\">\n<title>0-&gt;2</title>\n<path fill=\"none\" stroke=\"black\" d=\"M519.59,-579.91C524.66,-571.2 530.06,-561.9 535.29,-552.89\"/>\n<polygon fill=\"black\" stroke=\"black\" points=\"538.45,-554.43 540.45,-544.02 532.4,-550.91 538.45,-554.43\"/>\n<text text-anchor=\"middle\" x=\"546.85\" y=\"-564.49\" font-family=\"Helvetica,sans-Serif\" font-size=\"14.00\">False</text>\n</g>\n<!-- 3 -->\n<g id=\"node4\" class=\"node\">\n<title>3</title>\n<polygon fill=\"#76bbed\" stroke=\"black\" points=\"558,-425 422,-425 422,-342 558,-342 558,-425\"/>\n<text text-anchor=\"middle\" x=\"490\" y=\"-409.8\" font-family=\"Helvetica,sans-Serif\" font-size=\"14.00\">buying_price &lt;= 2.5</text>\n<text text-anchor=\"middle\" x=\"490\" y=\"-394.8\" font-family=\"Helvetica,sans-Serif\" font-size=\"14.00\">gini = 0.359</text>\n<text text-anchor=\"middle\" x=\"490\" y=\"-379.8\" font-family=\"Helvetica,sans-Serif\" font-size=\"14.00\">samples = 264</text>\n<text text-anchor=\"middle\" x=\"490\" y=\"-364.8\" font-family=\"Helvetica,sans-Serif\" font-size=\"14.00\">value = [62, 202]</text>\n<text text-anchor=\"middle\" x=\"490\" y=\"-349.8\" font-family=\"Helvetica,sans-Serif\" font-size=\"14.00\">class = 1</text>\n</g>\n<!-- 2&#45;&gt;3 -->\n<g id=\"edge3\" class=\"edge\">\n<title>2-&gt;3</title>\n<path fill=\"none\" stroke=\"black\" d=\"M538.33,-460.91C532.76,-452.1 526.81,-442.7 521.06,-433.61\"/>\n<polygon fill=\"black\" stroke=\"black\" points=\"523.93,-431.6 515.63,-425.02 518.02,-435.34 523.93,-431.6\"/>\n</g>\n<!-- 14 -->\n<g id=\"node15\" class=\"node\">\n<title>14</title>\n<polygon fill=\"#efb488\" stroke=\"black\" points=\"701.5,-425 576.5,-425 576.5,-342 701.5,-342 701.5,-425\"/>\n<text text-anchor=\"middle\" x=\"639\" y=\"-409.8\" font-family=\"Helvetica,sans-Serif\" font-size=\"14.00\">safety &lt;= 1.5</text>\n<text text-anchor=\"middle\" x=\"639\" y=\"-394.8\" font-family=\"Helvetica,sans-Serif\" font-size=\"14.00\">gini = 0.409</text>\n<text text-anchor=\"middle\" x=\"639\" y=\"-379.8\" font-family=\"Helvetica,sans-Serif\" font-size=\"14.00\">samples = 552</text>\n<text text-anchor=\"middle\" x=\"639\" y=\"-364.8\" font-family=\"Helvetica,sans-Serif\" font-size=\"14.00\">value = [394, 158]</text>\n<text text-anchor=\"middle\" x=\"639\" y=\"-349.8\" font-family=\"Helvetica,sans-Serif\" font-size=\"14.00\">class = 0</text>\n</g>\n<!-- 2&#45;&gt;14 -->\n<g id=\"edge14\" class=\"edge\">\n<title>2-&gt;14</title>\n<path fill=\"none\" stroke=\"black\" d=\"M590.02,-460.91C595.66,-452.1 601.69,-442.7 607.52,-433.61\"/>\n<polygon fill=\"black\" stroke=\"black\" points=\"610.57,-435.33 613.03,-425.02 604.68,-431.55 610.57,-435.33\"/>\n</g>\n<!-- 4 -->\n<g id=\"node5\" class=\"node\">\n<title>4</title>\n<polygon fill=\"#57ace9\" stroke=\"black\" points=\"398,-306 262,-306 262,-223 398,-223 398,-306\"/>\n<text text-anchor=\"middle\" x=\"330\" y=\"-290.8\" font-family=\"Helvetica,sans-Serif\" font-size=\"14.00\">buying_price &lt;= 0.5</text>\n<text text-anchor=\"middle\" x=\"330\" y=\"-275.8\" font-family=\"Helvetica,sans-Serif\" font-size=\"14.00\">gini = 0.23</text>\n<text text-anchor=\"middle\" x=\"330\" y=\"-260.8\" font-family=\"Helvetica,sans-Serif\" font-size=\"14.00\">samples = 196</text>\n<text text-anchor=\"middle\" x=\"330\" y=\"-245.8\" font-family=\"Helvetica,sans-Serif\" font-size=\"14.00\">value = [26, 170]</text>\n<text text-anchor=\"middle\" x=\"330\" y=\"-230.8\" font-family=\"Helvetica,sans-Serif\" font-size=\"14.00\">class = 1</text>\n</g>\n<!-- 3&#45;&gt;4 -->\n<g id=\"edge4\" class=\"edge\">\n<title>3-&gt;4</title>\n<path fill=\"none\" stroke=\"black\" d=\"M434.49,-341.91C421.33,-332.29 407.2,-321.95 393.71,-312.09\"/>\n<polygon fill=\"black\" stroke=\"black\" points=\"395.55,-309.1 385.41,-306.02 391.42,-314.75 395.55,-309.1\"/>\n</g>\n<!-- 11 -->\n<g id=\"node12\" class=\"node\">\n<title>11</title>\n<polygon fill=\"#fcf1e9\" stroke=\"black\" points=\"565.5,-306 416.5,-306 416.5,-223 565.5,-223 565.5,-306\"/>\n<text text-anchor=\"middle\" x=\"491\" y=\"-290.8\" font-family=\"Helvetica,sans-Serif\" font-size=\"14.00\">no_of_persons &lt;= 1.5</text>\n<text text-anchor=\"middle\" x=\"491\" y=\"-275.8\" font-family=\"Helvetica,sans-Serif\" font-size=\"14.00\">gini = 0.498</text>\n<text text-anchor=\"middle\" x=\"491\" y=\"-260.8\" font-family=\"Helvetica,sans-Serif\" font-size=\"14.00\">samples = 68</text>\n<text text-anchor=\"middle\" x=\"491\" y=\"-245.8\" font-family=\"Helvetica,sans-Serif\" font-size=\"14.00\">value = [36, 32]</text>\n<text text-anchor=\"middle\" x=\"491\" y=\"-230.8\" font-family=\"Helvetica,sans-Serif\" font-size=\"14.00\">class = 0</text>\n</g>\n<!-- 3&#45;&gt;11 -->\n<g id=\"edge11\" class=\"edge\">\n<title>3-&gt;11</title>\n<path fill=\"none\" stroke=\"black\" d=\"M490.35,-341.91C490.42,-333.65 490.49,-324.86 490.57,-316.3\"/>\n<polygon fill=\"black\" stroke=\"black\" points=\"494.07,-316.05 490.65,-306.02 487.07,-315.99 494.07,-316.05\"/>\n</g>\n<!-- 5 -->\n<g id=\"node6\" class=\"node\">\n<title>5</title>\n<polygon fill=\"#86c3ef\" stroke=\"black\" points=\"241.5,-187 92.5,-187 92.5,-104 241.5,-104 241.5,-187\"/>\n<text text-anchor=\"middle\" x=\"167\" y=\"-171.8\" font-family=\"Helvetica,sans-Serif\" font-size=\"14.00\">no_of_persons &lt;= 1.5</text>\n<text text-anchor=\"middle\" x=\"167\" y=\"-156.8\" font-family=\"Helvetica,sans-Serif\" font-size=\"14.00\">gini = 0.403</text>\n<text text-anchor=\"middle\" x=\"167\" y=\"-141.8\" font-family=\"Helvetica,sans-Serif\" font-size=\"14.00\">samples = 68</text>\n<text text-anchor=\"middle\" x=\"167\" y=\"-126.8\" font-family=\"Helvetica,sans-Serif\" font-size=\"14.00\">value = [19, 49]</text>\n<text text-anchor=\"middle\" x=\"167\" y=\"-111.8\" font-family=\"Helvetica,sans-Serif\" font-size=\"14.00\">class = 1</text>\n</g>\n<!-- 4&#45;&gt;5 -->\n<g id=\"edge5\" class=\"edge\">\n<title>4-&gt;5</title>\n<path fill=\"none\" stroke=\"black\" d=\"M273.45,-222.91C260.05,-213.29 245.65,-202.95 231.91,-193.09\"/>\n<polygon fill=\"black\" stroke=\"black\" points=\"233.62,-190.01 223.45,-187.02 229.53,-195.7 233.62,-190.01\"/>\n</g>\n<!-- 8 -->\n<g id=\"node9\" class=\"node\">\n<title>8</title>\n<polygon fill=\"#44a3e7\" stroke=\"black\" points=\"408.5,-187 259.5,-187 259.5,-104 408.5,-104 408.5,-187\"/>\n<text text-anchor=\"middle\" x=\"334\" y=\"-171.8\" font-family=\"Helvetica,sans-Serif\" font-size=\"14.00\">no_of_persons &lt;= 1.5</text>\n<text text-anchor=\"middle\" x=\"334\" y=\"-156.8\" font-family=\"Helvetica,sans-Serif\" font-size=\"14.00\">gini = 0.103</text>\n<text text-anchor=\"middle\" x=\"334\" y=\"-141.8\" font-family=\"Helvetica,sans-Serif\" font-size=\"14.00\">samples = 128</text>\n<text text-anchor=\"middle\" x=\"334\" y=\"-126.8\" font-family=\"Helvetica,sans-Serif\" font-size=\"14.00\">value = [7, 121]</text>\n<text text-anchor=\"middle\" x=\"334\" y=\"-111.8\" font-family=\"Helvetica,sans-Serif\" font-size=\"14.00\">class = 1</text>\n</g>\n<!-- 4&#45;&gt;8 -->\n<g id=\"edge8\" class=\"edge\">\n<title>4-&gt;8</title>\n<path fill=\"none\" stroke=\"black\" d=\"M331.39,-222.91C331.67,-214.56 331.98,-205.67 332.27,-197.02\"/>\n<polygon fill=\"black\" stroke=\"black\" points=\"335.77,-197.13 332.61,-187.02 328.77,-196.9 335.77,-197.13\"/>\n</g>\n<!-- 6 -->\n<g id=\"node7\" class=\"node\">\n<title>6</title>\n<polygon fill=\"#7dbfee\" stroke=\"black\" points=\"110,-68 0,-68 0,0 110,0 110,-68\"/>\n<text text-anchor=\"middle\" x=\"55\" y=\"-52.8\" font-family=\"Helvetica,sans-Serif\" font-size=\"14.00\">gini = 0.381</text>\n<text text-anchor=\"middle\" x=\"55\" y=\"-37.8\" font-family=\"Helvetica,sans-Serif\" font-size=\"14.00\">samples = 39</text>\n<text text-anchor=\"middle\" x=\"55\" y=\"-22.8\" font-family=\"Helvetica,sans-Serif\" font-size=\"14.00\">value = [10, 29]</text>\n<text text-anchor=\"middle\" x=\"55\" y=\"-7.8\" font-family=\"Helvetica,sans-Serif\" font-size=\"14.00\">class = 1</text>\n</g>\n<!-- 5&#45;&gt;6 -->\n<g id=\"edge6\" class=\"edge\">\n<title>5-&gt;6</title>\n<path fill=\"none\" stroke=\"black\" d=\"M125.3,-103.73C115.87,-94.51 105.87,-84.74 96.46,-75.53\"/>\n<polygon fill=\"black\" stroke=\"black\" points=\"98.66,-72.79 89.06,-68.3 93.76,-77.79 98.66,-72.79\"/>\n</g>\n<!-- 7 -->\n<g id=\"node8\" class=\"node\">\n<title>7</title>\n<polygon fill=\"#92c9f1\" stroke=\"black\" points=\"230,-68 128,-68 128,0 230,0 230,-68\"/>\n<text text-anchor=\"middle\" x=\"179\" y=\"-52.8\" font-family=\"Helvetica,sans-Serif\" font-size=\"14.00\">gini = 0.428</text>\n<text text-anchor=\"middle\" x=\"179\" y=\"-37.8\" font-family=\"Helvetica,sans-Serif\" font-size=\"14.00\">samples = 29</text>\n<text text-anchor=\"middle\" x=\"179\" y=\"-22.8\" font-family=\"Helvetica,sans-Serif\" font-size=\"14.00\">value = [9, 20]</text>\n<text text-anchor=\"middle\" x=\"179\" y=\"-7.8\" font-family=\"Helvetica,sans-Serif\" font-size=\"14.00\">class = 1</text>\n</g>\n<!-- 5&#45;&gt;7 -->\n<g id=\"edge7\" class=\"edge\">\n<title>5-&gt;7</title>\n<path fill=\"none\" stroke=\"black\" d=\"M171.47,-103.73C172.38,-95.43 173.34,-86.67 174.26,-78.28\"/>\n<polygon fill=\"black\" stroke=\"black\" points=\"177.74,-78.62 175.35,-68.3 170.78,-77.86 177.74,-78.62\"/>\n</g>\n<!-- 9 -->\n<g id=\"node10\" class=\"node\">\n<title>9</title>\n<polygon fill=\"#399de5\" stroke=\"black\" points=\"373,-68 271,-68 271,0 373,0 373,-68\"/>\n<text text-anchor=\"middle\" x=\"322\" y=\"-52.8\" font-family=\"Helvetica,sans-Serif\" font-size=\"14.00\">gini = 0.0</text>\n<text text-anchor=\"middle\" x=\"322\" y=\"-37.8\" font-family=\"Helvetica,sans-Serif\" font-size=\"14.00\">samples = 67</text>\n<text text-anchor=\"middle\" x=\"322\" y=\"-22.8\" font-family=\"Helvetica,sans-Serif\" font-size=\"14.00\">value = [0, 67]</text>\n<text text-anchor=\"middle\" x=\"322\" y=\"-7.8\" font-family=\"Helvetica,sans-Serif\" font-size=\"14.00\">class = 1</text>\n</g>\n<!-- 8&#45;&gt;9 -->\n<g id=\"edge9\" class=\"edge\">\n<title>8-&gt;9</title>\n<path fill=\"none\" stroke=\"black\" d=\"M329.53,-103.73C328.62,-95.43 327.66,-86.67 326.74,-78.28\"/>\n<polygon fill=\"black\" stroke=\"black\" points=\"330.22,-77.86 325.65,-68.3 323.26,-78.62 330.22,-77.86\"/>\n</g>\n<!-- 10 -->\n<g id=\"node11\" class=\"node\">\n<title>10</title>\n<polygon fill=\"#53aae8\" stroke=\"black\" points=\"493,-68 391,-68 391,0 493,0 493,-68\"/>\n<text text-anchor=\"middle\" x=\"442\" y=\"-52.8\" font-family=\"Helvetica,sans-Serif\" font-size=\"14.00\">gini = 0.203</text>\n<text text-anchor=\"middle\" x=\"442\" y=\"-37.8\" font-family=\"Helvetica,sans-Serif\" font-size=\"14.00\">samples = 61</text>\n<text text-anchor=\"middle\" x=\"442\" y=\"-22.8\" font-family=\"Helvetica,sans-Serif\" font-size=\"14.00\">value = [7, 54]</text>\n<text text-anchor=\"middle\" x=\"442\" y=\"-7.8\" font-family=\"Helvetica,sans-Serif\" font-size=\"14.00\">class = 1</text>\n</g>\n<!-- 8&#45;&gt;10 -->\n<g id=\"edge10\" class=\"edge\">\n<title>8-&gt;10</title>\n<path fill=\"none\" stroke=\"black\" d=\"M374.22,-103.73C383.3,-94.51 392.94,-84.74 402.02,-75.53\"/>\n<polygon fill=\"black\" stroke=\"black\" points=\"404.63,-77.88 409.16,-68.3 399.64,-72.96 404.63,-77.88\"/>\n</g>\n<!-- 12 -->\n<g id=\"node13\" class=\"node\">\n<title>12</title>\n<polygon fill=\"#ffffff\" stroke=\"black\" points=\"543,-179.5 433,-179.5 433,-111.5 543,-111.5 543,-179.5\"/>\n<text text-anchor=\"middle\" x=\"488\" y=\"-164.3\" font-family=\"Helvetica,sans-Serif\" font-size=\"14.00\">gini = 0.5</text>\n<text text-anchor=\"middle\" x=\"488\" y=\"-149.3\" font-family=\"Helvetica,sans-Serif\" font-size=\"14.00\">samples = 32</text>\n<text text-anchor=\"middle\" x=\"488\" y=\"-134.3\" font-family=\"Helvetica,sans-Serif\" font-size=\"14.00\">value = [16, 16]</text>\n<text text-anchor=\"middle\" x=\"488\" y=\"-119.3\" font-family=\"Helvetica,sans-Serif\" font-size=\"14.00\">class = 0</text>\n</g>\n<!-- 11&#45;&gt;12 -->\n<g id=\"edge12\" class=\"edge\">\n<title>11-&gt;12</title>\n<path fill=\"none\" stroke=\"black\" d=\"M489.96,-222.91C489.68,-212.2 489.39,-200.62 489.11,-189.78\"/>\n<polygon fill=\"black\" stroke=\"black\" points=\"492.61,-189.57 488.85,-179.67 485.61,-189.75 492.61,-189.57\"/>\n</g>\n<!-- 13 -->\n<g id=\"node14\" class=\"node\">\n<title>13</title>\n<polygon fill=\"#fae6d7\" stroke=\"black\" points=\"671,-179.5 561,-179.5 561,-111.5 671,-111.5 671,-179.5\"/>\n<text text-anchor=\"middle\" x=\"616\" y=\"-164.3\" font-family=\"Helvetica,sans-Serif\" font-size=\"14.00\">gini = 0.494</text>\n<text text-anchor=\"middle\" x=\"616\" y=\"-149.3\" font-family=\"Helvetica,sans-Serif\" font-size=\"14.00\">samples = 36</text>\n<text text-anchor=\"middle\" x=\"616\" y=\"-134.3\" font-family=\"Helvetica,sans-Serif\" font-size=\"14.00\">value = [20, 16]</text>\n<text text-anchor=\"middle\" x=\"616\" y=\"-119.3\" font-family=\"Helvetica,sans-Serif\" font-size=\"14.00\">class = 0</text>\n</g>\n<!-- 11&#45;&gt;13 -->\n<g id=\"edge13\" class=\"edge\">\n<title>11-&gt;13</title>\n<path fill=\"none\" stroke=\"black\" d=\"M534.37,-222.91C546.86,-211.21 560.49,-198.46 572.97,-186.78\"/>\n<polygon fill=\"black\" stroke=\"black\" points=\"575.66,-189.06 580.57,-179.67 570.87,-183.95 575.66,-189.06\"/>\n</g>\n<!-- 15 -->\n<g id=\"node16\" class=\"node\">\n<title>15</title>\n<polygon fill=\"#e58139\" stroke=\"black\" points=\"694,-298.5 584,-298.5 584,-230.5 694,-230.5 694,-298.5\"/>\n<text text-anchor=\"middle\" x=\"639\" y=\"-283.3\" font-family=\"Helvetica,sans-Serif\" font-size=\"14.00\">gini = 0.0</text>\n<text text-anchor=\"middle\" x=\"639\" y=\"-268.3\" font-family=\"Helvetica,sans-Serif\" font-size=\"14.00\">samples = 269</text>\n<text text-anchor=\"middle\" x=\"639\" y=\"-253.3\" font-family=\"Helvetica,sans-Serif\" font-size=\"14.00\">value = [269, 0]</text>\n<text text-anchor=\"middle\" x=\"639\" y=\"-238.3\" font-family=\"Helvetica,sans-Serif\" font-size=\"14.00\">class = 0</text>\n</g>\n<!-- 14&#45;&gt;15 -->\n<g id=\"edge15\" class=\"edge\">\n<title>14-&gt;15</title>\n<path fill=\"none\" stroke=\"black\" d=\"M639,-341.91C639,-331.2 639,-319.62 639,-308.78\"/>\n<polygon fill=\"black\" stroke=\"black\" points=\"642.5,-308.67 639,-298.67 635.5,-308.67 642.5,-308.67\"/>\n</g>\n<!-- 16 -->\n<g id=\"node17\" class=\"node\">\n<title>16</title>\n<polygon fill=\"#d6ebfa\" stroke=\"black\" points=\"848,-306 712,-306 712,-223 848,-223 848,-306\"/>\n<text text-anchor=\"middle\" x=\"780\" y=\"-290.8\" font-family=\"Helvetica,sans-Serif\" font-size=\"14.00\">buying_price &lt;= 2.5</text>\n<text text-anchor=\"middle\" x=\"780\" y=\"-275.8\" font-family=\"Helvetica,sans-Serif\" font-size=\"14.00\">gini = 0.493</text>\n<text text-anchor=\"middle\" x=\"780\" y=\"-260.8\" font-family=\"Helvetica,sans-Serif\" font-size=\"14.00\">samples = 283</text>\n<text text-anchor=\"middle\" x=\"780\" y=\"-245.8\" font-family=\"Helvetica,sans-Serif\" font-size=\"14.00\">value = [125, 158]</text>\n<text text-anchor=\"middle\" x=\"780\" y=\"-230.8\" font-family=\"Helvetica,sans-Serif\" font-size=\"14.00\">class = 1</text>\n</g>\n<!-- 14&#45;&gt;16 -->\n<g id=\"edge16\" class=\"edge\">\n<title>14-&gt;16</title>\n<path fill=\"none\" stroke=\"black\" d=\"M687.92,-341.91C699.29,-332.47 711.5,-322.34 723.18,-312.65\"/>\n<polygon fill=\"black\" stroke=\"black\" points=\"725.71,-315.1 731.17,-306.02 721.24,-309.71 725.71,-315.1\"/>\n</g>\n<!-- 17 -->\n<g id=\"node18\" class=\"node\">\n<title>17</title>\n<polygon fill=\"#9ccef2\" stroke=\"black\" points=\"837,-187 701,-187 701,-104 837,-104 837,-187\"/>\n<text text-anchor=\"middle\" x=\"769\" y=\"-171.8\" font-family=\"Helvetica,sans-Serif\" font-size=\"14.00\">buying_price &lt;= 0.5</text>\n<text text-anchor=\"middle\" x=\"769\" y=\"-156.8\" font-family=\"Helvetica,sans-Serif\" font-size=\"14.00\">gini = 0.444</text>\n<text text-anchor=\"middle\" x=\"769\" y=\"-141.8\" font-family=\"Helvetica,sans-Serif\" font-size=\"14.00\">samples = 210</text>\n<text text-anchor=\"middle\" x=\"769\" y=\"-126.8\" font-family=\"Helvetica,sans-Serif\" font-size=\"14.00\">value = [70, 140]</text>\n<text text-anchor=\"middle\" x=\"769\" y=\"-111.8\" font-family=\"Helvetica,sans-Serif\" font-size=\"14.00\">class = 1</text>\n</g>\n<!-- 16&#45;&gt;17 -->\n<g id=\"edge17\" class=\"edge\">\n<title>16-&gt;17</title>\n<path fill=\"none\" stroke=\"black\" d=\"M776.18,-222.91C775.4,-214.56 774.56,-205.67 773.75,-197.02\"/>\n<polygon fill=\"black\" stroke=\"black\" points=\"777.23,-196.65 772.81,-187.02 770.26,-197.3 777.23,-196.65\"/>\n</g>\n<!-- 20 -->\n<g id=\"node21\" class=\"node\">\n<title>20</title>\n<polygon fill=\"#eeaa7a\" stroke=\"black\" points=\"1004.5,-187 855.5,-187 855.5,-104 1004.5,-104 1004.5,-187\"/>\n<text text-anchor=\"middle\" x=\"930\" y=\"-171.8\" font-family=\"Helvetica,sans-Serif\" font-size=\"14.00\">no_of_persons &lt;= 1.5</text>\n<text text-anchor=\"middle\" x=\"930\" y=\"-156.8\" font-family=\"Helvetica,sans-Serif\" font-size=\"14.00\">gini = 0.372</text>\n<text text-anchor=\"middle\" x=\"930\" y=\"-141.8\" font-family=\"Helvetica,sans-Serif\" font-size=\"14.00\">samples = 73</text>\n<text text-anchor=\"middle\" x=\"930\" y=\"-126.8\" font-family=\"Helvetica,sans-Serif\" font-size=\"14.00\">value = [55, 18]</text>\n<text text-anchor=\"middle\" x=\"930\" y=\"-111.8\" font-family=\"Helvetica,sans-Serif\" font-size=\"14.00\">class = 0</text>\n</g>\n<!-- 16&#45;&gt;20 -->\n<g id=\"edge20\" class=\"edge\">\n<title>16-&gt;20</title>\n<path fill=\"none\" stroke=\"black\" d=\"M832.04,-222.91C844.26,-213.38 857.37,-203.15 869.91,-193.37\"/>\n<polygon fill=\"black\" stroke=\"black\" points=\"872.32,-195.93 878.05,-187.02 868.01,-190.41 872.32,-195.93\"/>\n</g>\n<!-- 18 -->\n<g id=\"node19\" class=\"node\">\n<title>18</title>\n<polygon fill=\"#f7d8c2\" stroke=\"black\" points=\"701,-68 591,-68 591,0 701,0 701,-68\"/>\n<text text-anchor=\"middle\" x=\"646\" y=\"-52.8\" font-family=\"Helvetica,sans-Serif\" font-size=\"14.00\">gini = 0.483</text>\n<text text-anchor=\"middle\" x=\"646\" y=\"-37.8\" font-family=\"Helvetica,sans-Serif\" font-size=\"14.00\">samples = 71</text>\n<text text-anchor=\"middle\" x=\"646\" y=\"-22.8\" font-family=\"Helvetica,sans-Serif\" font-size=\"14.00\">value = [42, 29]</text>\n<text text-anchor=\"middle\" x=\"646\" y=\"-7.8\" font-family=\"Helvetica,sans-Serif\" font-size=\"14.00\">class = 0</text>\n</g>\n<!-- 17&#45;&gt;18 -->\n<g id=\"edge18\" class=\"edge\">\n<title>17-&gt;18</title>\n<path fill=\"none\" stroke=\"black\" d=\"M723.2,-103.73C712.65,-94.33 701.43,-84.35 690.92,-74.99\"/>\n<polygon fill=\"black\" stroke=\"black\" points=\"693.2,-72.33 683.41,-68.3 688.55,-77.56 693.2,-72.33\"/>\n</g>\n<!-- 19 -->\n<g id=\"node20\" class=\"node\">\n<title>19</title>\n<polygon fill=\"#6bb6ec\" stroke=\"black\" points=\"836.5,-68 719.5,-68 719.5,0 836.5,0 836.5,-68\"/>\n<text text-anchor=\"middle\" x=\"778\" y=\"-52.8\" font-family=\"Helvetica,sans-Serif\" font-size=\"14.00\">gini = 0.322</text>\n<text text-anchor=\"middle\" x=\"778\" y=\"-37.8\" font-family=\"Helvetica,sans-Serif\" font-size=\"14.00\">samples = 139</text>\n<text text-anchor=\"middle\" x=\"778\" y=\"-22.8\" font-family=\"Helvetica,sans-Serif\" font-size=\"14.00\">value = [28, 111]</text>\n<text text-anchor=\"middle\" x=\"778\" y=\"-7.8\" font-family=\"Helvetica,sans-Serif\" font-size=\"14.00\">class = 1</text>\n</g>\n<!-- 17&#45;&gt;19 -->\n<g id=\"edge19\" class=\"edge\">\n<title>17-&gt;19</title>\n<path fill=\"none\" stroke=\"black\" d=\"M772.35,-103.73C773.03,-95.43 773.75,-86.67 774.44,-78.28\"/>\n<polygon fill=\"black\" stroke=\"black\" points=\"777.93,-78.55 775.26,-68.3 770.96,-77.98 777.93,-78.55\"/>\n</g>\n<!-- 21 -->\n<g id=\"node22\" class=\"node\">\n<title>21</title>\n<polygon fill=\"#eca06a\" stroke=\"black\" points=\"973,-68 871,-68 871,0 973,0 973,-68\"/>\n<text text-anchor=\"middle\" x=\"922\" y=\"-52.8\" font-family=\"Helvetica,sans-Serif\" font-size=\"14.00\">gini = 0.32</text>\n<text text-anchor=\"middle\" x=\"922\" y=\"-37.8\" font-family=\"Helvetica,sans-Serif\" font-size=\"14.00\">samples = 35</text>\n<text text-anchor=\"middle\" x=\"922\" y=\"-22.8\" font-family=\"Helvetica,sans-Serif\" font-size=\"14.00\">value = [28, 7]</text>\n<text text-anchor=\"middle\" x=\"922\" y=\"-7.8\" font-family=\"Helvetica,sans-Serif\" font-size=\"14.00\">class = 0</text>\n</g>\n<!-- 20&#45;&gt;21 -->\n<g id=\"edge21\" class=\"edge\">\n<title>20-&gt;21</title>\n<path fill=\"none\" stroke=\"black\" d=\"M927.02,-103.73C926.41,-95.43 925.77,-86.67 925.16,-78.28\"/>\n<polygon fill=\"black\" stroke=\"black\" points=\"928.65,-78.02 924.43,-68.3 921.67,-78.53 928.65,-78.02\"/>\n</g>\n<!-- 22 -->\n<g id=\"node23\" class=\"node\">\n<title>22</title>\n<polygon fill=\"#f0b48a\" stroke=\"black\" points=\"1101,-68 991,-68 991,0 1101,0 1101,-68\"/>\n<text text-anchor=\"middle\" x=\"1046\" y=\"-52.8\" font-family=\"Helvetica,sans-Serif\" font-size=\"14.00\">gini = 0.411</text>\n<text text-anchor=\"middle\" x=\"1046\" y=\"-37.8\" font-family=\"Helvetica,sans-Serif\" font-size=\"14.00\">samples = 38</text>\n<text text-anchor=\"middle\" x=\"1046\" y=\"-22.8\" font-family=\"Helvetica,sans-Serif\" font-size=\"14.00\">value = [27, 11]</text>\n<text text-anchor=\"middle\" x=\"1046\" y=\"-7.8\" font-family=\"Helvetica,sans-Serif\" font-size=\"14.00\">class = 0</text>\n</g>\n<!-- 20&#45;&gt;22 -->\n<g id=\"edge22\" class=\"edge\">\n<title>20-&gt;22</title>\n<path fill=\"none\" stroke=\"black\" d=\"M973.19,-103.73C983.05,-94.42 993.52,-84.54 1003.35,-75.26\"/>\n<polygon fill=\"black\" stroke=\"black\" points=\"1005.85,-77.71 1010.72,-68.3 1001.05,-72.62 1005.85,-77.71\"/>\n</g>\n</g>\n</svg>"
          },
          "metadata": {}
        }
      ]
    },
    {
      "cell_type": "code",
      "source": [
        "y_pred_train = treeclf2.predict(X_train)\n",
        "train_accuracy = accuracy_score(y_train, y_pred_train)\n",
        "\n",
        "y_pred_test = treeclf2.predict(X_test)\n",
        "test_accuracy = accuracy_score(y_test, y_pred_test)\n",
        "\n",
        "print('Training Accuracy:', train_accuracy)\n",
        "print('Testing Accuracy:', test_accuracy)"
      ],
      "metadata": {
        "colab": {
          "base_uri": "https://localhost:8080/"
        },
        "id": "qX_836fw7O-e",
        "outputId": "aa9462df-511b-4262-b52c-042c8017724f"
      },
      "execution_count": 37,
      "outputs": [
        {
          "output_type": "stream",
          "name": "stdout",
          "text": [
            "Training Accuracy: 0.8899006622516556\n",
            "Testing Accuracy: 0.9017341040462428\n"
          ]
        }
      ]
    },
    {
      "cell_type": "code",
      "source": [
        "p,r,f,s = precision_recall_fscore_support(y_test, y_pred_test)\n",
        "display('precision = {}'.format(p))\n",
        "display('recall = {}'.format(r))\n",
        "display('f-score = {}'.format(f))"
      ],
      "metadata": {
        "colab": {
          "base_uri": "https://localhost:8080/",
          "height": 71
        },
        "id": "hGyvPuBw7O6S",
        "outputId": "e8478104-51b6-4896-ffb9-acf85eb3a2f2"
      },
      "execution_count": 38,
      "outputs": [
        {
          "output_type": "display_data",
          "data": {
            "text/plain": [
              "'precision = [0.9144385  0.86896552]'"
            ],
            "application/vnd.google.colaboratory.intrinsic+json": {
              "type": "string"
            }
          },
          "metadata": {}
        },
        {
          "output_type": "display_data",
          "data": {
            "text/plain": [
              "'recall = [0.94736842 0.79746835]'"
            ],
            "application/vnd.google.colaboratory.intrinsic+json": {
              "type": "string"
            }
          },
          "metadata": {}
        },
        {
          "output_type": "display_data",
          "data": {
            "text/plain": [
              "'f-score = [0.93061224 0.83168317]'"
            ],
            "application/vnd.google.colaboratory.intrinsic+json": {
              "type": "string"
            }
          },
          "metadata": {}
        }
      ]
    },
    {
      "cell_type": "markdown",
      "source": [
        "#Neural Network"
      ],
      "metadata": {
        "id": "W9cJuxQozhds"
      }
    },
    {
      "cell_type": "code",
      "source": [
        "new = cars.copy()"
      ],
      "metadata": {
        "id": "B6k10sXAzgFn"
      },
      "execution_count": 39,
      "outputs": []
    },
    {
      "cell_type": "code",
      "source": [
        "X = new.drop('decision', axis=1)\n",
        "y = new['decision']\n",
        "\n",
        "X_train, X_test, y_train, y_test = train_test_split(X, y, test_size=0.3, random_state=42)\n"
      ],
      "metadata": {
        "id": "Ww-6bLUyzf_t"
      },
      "execution_count": 40,
      "outputs": []
    },
    {
      "cell_type": "code",
      "source": [
        "encoder = OrdinalEncoder()\n",
        "X_train = encoder.fit_transform(X_train)\n",
        "X_test = encoder.transform(X_test)"
      ],
      "metadata": {
        "id": "B5irvobo1fdq"
      },
      "execution_count": 41,
      "outputs": []
    },
    {
      "cell_type": "code",
      "source": [
        "scaler = StandardScaler()\n",
        "scaler.fit(X_train)\n",
        "\n",
        "# Now apply the transformations to the data:\n",
        "X_train = scaler.transform(X_train)\n",
        "X_test = scaler.transform(X_test)\n",
        "\n",
        "X_train"
      ],
      "metadata": {
        "colab": {
          "base_uri": "https://localhost:8080/"
        },
        "id": "PxtzW1kc1Wrg",
        "outputId": "95abbdd7-2343-411c-c296-c40115a36f40"
      },
      "execution_count": 42,
      "outputs": [
        {
          "output_type": "execute_result",
          "data": {
            "text/plain": [
              "array([[ 0.44515473,  0.44617693,  1.33949248, -0.01526986, -1.22225123,\n",
              "        -1.24474517],\n",
              "       [-1.33546418, -1.3474395 , -0.43767053,  1.21446279,  1.21418357,\n",
              "         1.216224  ],\n",
              "       [-0.44515473,  0.44617693, -0.43767053, -0.01526986, -0.00403383,\n",
              "         1.216224  ],\n",
              "       ...,\n",
              "       [-1.33546418, -0.45063128,  1.33949248,  1.21446279, -1.22225123,\n",
              "        -0.01426058],\n",
              "       [-0.44515473, -1.3474395 ,  0.45091098, -1.24500251,  1.21418357,\n",
              "        -1.24474517],\n",
              "       [ 0.44515473,  0.44617693, -0.43767053,  1.21446279,  1.21418357,\n",
              "        -1.24474517]])"
            ]
          },
          "metadata": {},
          "execution_count": 42
        }
      ]
    },
    {
      "cell_type": "code",
      "source": [
        "# mlp = MLPClassifier(hidden_layer_sizes=(5),max_iter=5000)\n",
        "mlp = MLPClassifier(hidden_layer_sizes=(6),max_iter=1000)\n"
      ],
      "metadata": {
        "id": "D6aQ84hD1ZsQ"
      },
      "execution_count": 50,
      "outputs": []
    },
    {
      "cell_type": "code",
      "source": [
        "mlp.fit(X_train,y_train)"
      ],
      "metadata": {
        "colab": {
          "base_uri": "https://localhost:8080/",
          "height": 74
        },
        "id": "MrvBRbo11ZmB",
        "outputId": "8ea516c2-dbcf-4332-b6e7-edda90199f29"
      },
      "execution_count": 51,
      "outputs": [
        {
          "output_type": "execute_result",
          "data": {
            "text/plain": [
              "MLPClassifier(hidden_layer_sizes=6, max_iter=1000)"
            ],
            "text/html": [
              "<style>#sk-container-id-2 {color: black;background-color: white;}#sk-container-id-2 pre{padding: 0;}#sk-container-id-2 div.sk-toggleable {background-color: white;}#sk-container-id-2 label.sk-toggleable__label {cursor: pointer;display: block;width: 100%;margin-bottom: 0;padding: 0.3em;box-sizing: border-box;text-align: center;}#sk-container-id-2 label.sk-toggleable__label-arrow:before {content: \"▸\";float: left;margin-right: 0.25em;color: #696969;}#sk-container-id-2 label.sk-toggleable__label-arrow:hover:before {color: black;}#sk-container-id-2 div.sk-estimator:hover label.sk-toggleable__label-arrow:before {color: black;}#sk-container-id-2 div.sk-toggleable__content {max-height: 0;max-width: 0;overflow: hidden;text-align: left;background-color: #f0f8ff;}#sk-container-id-2 div.sk-toggleable__content pre {margin: 0.2em;color: black;border-radius: 0.25em;background-color: #f0f8ff;}#sk-container-id-2 input.sk-toggleable__control:checked~div.sk-toggleable__content {max-height: 200px;max-width: 100%;overflow: auto;}#sk-container-id-2 input.sk-toggleable__control:checked~label.sk-toggleable__label-arrow:before {content: \"▾\";}#sk-container-id-2 div.sk-estimator input.sk-toggleable__control:checked~label.sk-toggleable__label {background-color: #d4ebff;}#sk-container-id-2 div.sk-label input.sk-toggleable__control:checked~label.sk-toggleable__label {background-color: #d4ebff;}#sk-container-id-2 input.sk-hidden--visually {border: 0;clip: rect(1px 1px 1px 1px);clip: rect(1px, 1px, 1px, 1px);height: 1px;margin: -1px;overflow: hidden;padding: 0;position: absolute;width: 1px;}#sk-container-id-2 div.sk-estimator {font-family: monospace;background-color: #f0f8ff;border: 1px dotted black;border-radius: 0.25em;box-sizing: border-box;margin-bottom: 0.5em;}#sk-container-id-2 div.sk-estimator:hover {background-color: #d4ebff;}#sk-container-id-2 div.sk-parallel-item::after {content: \"\";width: 100%;border-bottom: 1px solid gray;flex-grow: 1;}#sk-container-id-2 div.sk-label:hover label.sk-toggleable__label {background-color: #d4ebff;}#sk-container-id-2 div.sk-serial::before {content: \"\";position: absolute;border-left: 1px solid gray;box-sizing: border-box;top: 0;bottom: 0;left: 50%;z-index: 0;}#sk-container-id-2 div.sk-serial {display: flex;flex-direction: column;align-items: center;background-color: white;padding-right: 0.2em;padding-left: 0.2em;position: relative;}#sk-container-id-2 div.sk-item {position: relative;z-index: 1;}#sk-container-id-2 div.sk-parallel {display: flex;align-items: stretch;justify-content: center;background-color: white;position: relative;}#sk-container-id-2 div.sk-item::before, #sk-container-id-2 div.sk-parallel-item::before {content: \"\";position: absolute;border-left: 1px solid gray;box-sizing: border-box;top: 0;bottom: 0;left: 50%;z-index: -1;}#sk-container-id-2 div.sk-parallel-item {display: flex;flex-direction: column;z-index: 1;position: relative;background-color: white;}#sk-container-id-2 div.sk-parallel-item:first-child::after {align-self: flex-end;width: 50%;}#sk-container-id-2 div.sk-parallel-item:last-child::after {align-self: flex-start;width: 50%;}#sk-container-id-2 div.sk-parallel-item:only-child::after {width: 0;}#sk-container-id-2 div.sk-dashed-wrapped {border: 1px dashed gray;margin: 0 0.4em 0.5em 0.4em;box-sizing: border-box;padding-bottom: 0.4em;background-color: white;}#sk-container-id-2 div.sk-label label {font-family: monospace;font-weight: bold;display: inline-block;line-height: 1.2em;}#sk-container-id-2 div.sk-label-container {text-align: center;}#sk-container-id-2 div.sk-container {/* jupyter's `normalize.less` sets `[hidden] { display: none; }` but bootstrap.min.css set `[hidden] { display: none !important; }` so we also need the `!important` here to be able to override the default hidden behavior on the sphinx rendered scikit-learn.org. See: https://github.com/scikit-learn/scikit-learn/issues/21755 */display: inline-block !important;position: relative;}#sk-container-id-2 div.sk-text-repr-fallback {display: none;}</style><div id=\"sk-container-id-2\" class=\"sk-top-container\"><div class=\"sk-text-repr-fallback\"><pre>MLPClassifier(hidden_layer_sizes=6, max_iter=1000)</pre><b>In a Jupyter environment, please rerun this cell to show the HTML representation or trust the notebook. <br />On GitHub, the HTML representation is unable to render, please try loading this page with nbviewer.org.</b></div><div class=\"sk-container\" hidden><div class=\"sk-item\"><div class=\"sk-estimator sk-toggleable\"><input class=\"sk-toggleable__control sk-hidden--visually\" id=\"sk-estimator-id-2\" type=\"checkbox\" checked><label for=\"sk-estimator-id-2\" class=\"sk-toggleable__label sk-toggleable__label-arrow\">MLPClassifier</label><div class=\"sk-toggleable__content\"><pre>MLPClassifier(hidden_layer_sizes=6, max_iter=1000)</pre></div></div></div></div></div>"
            ]
          },
          "metadata": {},
          "execution_count": 51
        }
      ]
    },
    {
      "cell_type": "code",
      "source": [
        "predictions = mlp.predict(X_test)\n",
        "print(classification_report(y_test,predictions))"
      ],
      "metadata": {
        "colab": {
          "base_uri": "https://localhost:8080/"
        },
        "id": "9L5KNyaw1pv-",
        "outputId": "8c41eafc-0496-4ec3-a6b5-507c9ff03e27"
      },
      "execution_count": 52,
      "outputs": [
        {
          "output_type": "stream",
          "name": "stdout",
          "text": [
            "              precision    recall  f1-score   support\n",
            "\n",
            "           0       0.93      0.98      0.96       361\n",
            "           1       0.96      0.84      0.90       158\n",
            "\n",
            "    accuracy                           0.94       519\n",
            "   macro avg       0.95      0.91      0.93       519\n",
            "weighted avg       0.94      0.94      0.94       519\n",
            "\n"
          ]
        }
      ]
    },
    {
      "cell_type": "code",
      "source": [
        "print('This dataset has {} input nodes and {} output node(s)'.format(len(X.columns), len(y.unique())))\n",
        "print('There are {} 2D arrays of coefficients, one for each layer'.format(len(mlp.coefs_)))\n",
        "print('The layers have the following number of coefficients: {}')\n",
        "for l in range(len(mlp.coefs_)):\n",
        "    m = len(mlp.coefs_[l])\n",
        "    n = len(mlp.coefs_[l][0])\n",
        "    print('  {}: {}x{} ({} nodes feeding into a layer of {} nodes)'.format(l, m, n, m, n))\n",
        "# Print the actual coefficients\n",
        "# print(mlp.coefs_)\n",
        "\n",
        "print()\n",
        "print('There are {} 1D arrays of intercepts, one for each layer'.format(len(mlp.intercepts_)))\n",
        "print('Each layer has {} intercepts, one for each node'.format([len(mlp.intercepts_[l]) for l,_ in enumerate(mlp.intercepts_)]))\n"
      ],
      "metadata": {
        "colab": {
          "base_uri": "https://localhost:8080/"
        },
        "id": "2Mw_GO4m1tat",
        "outputId": "663a83d4-11c5-42ff-a19c-0b968a508ab6"
      },
      "execution_count": 53,
      "outputs": [
        {
          "output_type": "stream",
          "name": "stdout",
          "text": [
            "This dataset has 6 input nodes and 2 output node(s)\n",
            "There are 2 2D arrays of coefficients, one for each layer\n",
            "The layers have the following number of coefficients: {}\n",
            "  0: 6x6 (6 nodes feeding into a layer of 6 nodes)\n",
            "  1: 6x1 (6 nodes feeding into a layer of 1 nodes)\n",
            "\n",
            "There are 2 1D arrays of intercepts, one for each layer\n",
            "Each layer has [6, 1] intercepts, one for each node\n"
          ]
        }
      ]
    },
    {
      "cell_type": "code",
      "source": [
        "# you may need to install networkx with pip\n",
        "import networkx as nx\n",
        "import colorsys\n",
        "\n",
        "mlp = MLPClassifier(hidden_layer_sizes=(3),max_iter=500)\n",
        "mlp.fit(X_train,y_train)\n",
        "predictions = mlp.predict(X_test)\n",
        "print(confusion_matrix(y_test,predictions))\n",
        "\n",
        "def show_ann(mlp):\n",
        "    hidden_layers_n = len(mlp.coefs_)-1\n",
        "    layers_n = hidden_layers_n + 2\n",
        "    input_neurons_n = len(mlp.coefs_[0])\n",
        "    hidden_neurons_n = [len(mlp.coefs_[i+1]) for i in range(hidden_layers_n)]\n",
        "    output_neurons_n = len(mlp.coefs_[-1][0])\n",
        "\n",
        "    G = nx.DiGraph()\n",
        "    pos = {}\n",
        "\n",
        "    # Create the neurons of the input layer\n",
        "    for i in range(input_neurons_n):\n",
        "        pos['Layer0_{}'.format(i)] = (i,layers_n-1)\n",
        "\n",
        "    for j in range(hidden_layers_n):\n",
        "        # Create the neurons of the j'th hidden layer\n",
        "        prev_layer = j\n",
        "        cur_layer = j+1\n",
        "        if (j == 0):\n",
        "            prev_size = input_neurons_n\n",
        "        else:\n",
        "            prev_size = hidden_neurons_n[j-1]\n",
        "        for i in range(hidden_neurons_n[j]):\n",
        "            pos['Layer{}_{}'.format(cur_layer,i)] = (i,layers_n-1-cur_layer)\n",
        "            for k in range(prev_size):\n",
        "                w = mlp.coefs_[prev_layer][k][i]\n",
        "                G.add_edge('Layer{}_{}'.format(prev_layer,k),'Layer{}_{}'.format(cur_layer,i), weight=w)\n",
        "\n",
        "    # Create the neurons of the output layer\n",
        "    prev_layer = hidden_layers_n\n",
        "    cur_layer = hidden_layers_n+1\n",
        "    for i in range(output_neurons_n):\n",
        "        pos['Layer{}_{}'.format(cur_layer,i)] = (i,layers_n-1-cur_layer)\n",
        "        for k in range(hidden_neurons_n[-1]):\n",
        "            w = mlp.coefs_[prev_layer][k][i]\n",
        "            G.add_edge('Layer{}_{}'.format(prev_layer,k),'Layer{}_{}'.format(cur_layer,i), weight=w)\n",
        "\n",
        "    edges = G.edges()\n",
        "    colors = [colorsys.hsv_to_rgb(0 if G[u][v]['weight'] < 0 else 0.65,\n",
        "                                  1,#min(1, abs(G[u][v]['weight'])),\n",
        "                                  1) for u,v in edges]\n",
        "    weights = [abs(G[u][v]['weight'])*2 for u,v in edges]\n",
        "\n",
        "    nx.draw(G, pos, node_color='y', node_size=450, width=weights, edge_color=colors)\n",
        "    \n",
        "show_ann(mlp)"
      ],
      "metadata": {
        "colab": {
          "base_uri": "https://localhost:8080/",
          "height": 550
        },
        "id": "X4gZt77J11l_",
        "outputId": "e2a32c3c-7d64-49cb-c30c-d6f80e396760"
      },
      "execution_count": 54,
      "outputs": [
        {
          "output_type": "stream",
          "name": "stdout",
          "text": [
            "[[336  25]\n",
            " [ 56 102]]\n"
          ]
        },
        {
          "output_type": "display_data",
          "data": {
            "text/plain": [
              "<Figure size 640x480 with 1 Axes>"
            ],
            "image/png": "[encoded data removed]"
          },
          "metadata": {}
        }
      ]
    },
    {
      "cell_type": "code",
      "source": [
        "mlp = MLPClassifier(hidden_layer_sizes=(16,16,16),activation='relu',max_iter=1000)\n",
        "mlp.fit(X_train,y_train)\n",
        "predictions = mlp.predict(X_test)\n",
        "print(confusion_matrix(y_test,predictions))\n",
        "print(classification_report(y_test,predictions))"
      ],
      "metadata": {
        "colab": {
          "base_uri": "https://localhost:8080/"
        },
        "id": "w6yk3Xqk1_WA",
        "outputId": "3c01f14a-2c25-425f-ded6-17c0fa95bee2"
      },
      "execution_count": 76,
      "outputs": [
        {
          "output_type": "stream",
          "name": "stdout",
          "text": [
            "[[359   2]\n",
            " [  4 154]]\n",
            "              precision    recall  f1-score   support\n",
            "\n",
            "           0       0.99      0.99      0.99       361\n",
            "           1       0.99      0.97      0.98       158\n",
            "\n",
            "    accuracy                           0.99       519\n",
            "   macro avg       0.99      0.98      0.99       519\n",
            "weighted avg       0.99      0.99      0.99       519\n",
            "\n"
          ]
        }
      ]
    },
    {
      "cell_type": "code",
      "source": [
        "y_pred_train = mlp.predict(X_train)\n",
        "accuracy_train = accuracy_score(y_train, y_pred_train)\n",
        "print('Training Accuracy:', accuracy_train)\n",
        "\n",
        "# Evaluating the model on the test \n",
        "y_pred_test = mlp.predict(X_test)\n",
        "accuracy_test = accuracy_score(y_test, y_pred_test)\n",
        "print('Testing Accuracy:', accuracy_test)"
      ],
      "metadata": {
        "colab": {
          "base_uri": "https://localhost:8080/"
        },
        "id": "lx9VqN702bSX",
        "outputId": "26d4a7d3-19e4-40c6-b4b5-7e0bb617f7b8"
      },
      "execution_count": 77,
      "outputs": [
        {
          "output_type": "stream",
          "name": "stdout",
          "text": [
            "Training Accuracy: 0.9991721854304636\n",
            "Testing Accuracy: 0.9884393063583815\n"
          ]
        }
      ]
    },
    {
      "cell_type": "code",
      "source": [],
      "metadata": {
        "id": "9c3NXPaQRlhq"
      },
      "execution_count": 65,
      "outputs": []
    }
  ]
}